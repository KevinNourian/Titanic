{
 "cells": [
  {
   "cell_type": "markdown",
   "id": "25aaf1b5",
   "metadata": {},
   "source": [
    "# <center> **Kaggle’s Spaceship Titanic Competition**\n",
    "# <center> **Feature Engineering**"
   ]
  },
  {
   "cell_type": "markdown",
   "id": "7a6c8da2",
   "metadata": {},
   "source": [
    "# **Libraries**"
   ]
  },
  {
   "cell_type": "code",
   "execution_count": 1,
   "id": "73e35264",
   "metadata": {},
   "outputs": [
    {
     "data": {
      "text/plain": [
       "<module 'functions' from 'c:\\\\Users\\\\Dell\\\\Documents\\\\AI\\\\Titanic\\\\Notebooks\\\\functions.py'>"
      ]
     },
     "execution_count": 1,
     "metadata": {},
     "output_type": "execute_result"
    }
   ],
   "source": [
    "import pandas as pd\n",
    "import numpy as np\n",
    "\n",
    "import functions\n",
    "import importlib\n",
    "\n",
    "importlib.reload(functions)"
   ]
  },
  {
   "cell_type": "markdown",
   "id": "f169bb5d",
   "metadata": {},
   "source": [
    "# **Load Data**"
   ]
  },
  {
   "cell_type": "code",
   "execution_count": 730,
   "id": "e358ddcd",
   "metadata": {},
   "outputs": [],
   "source": [
    "train = pd.read_csv(\n",
    "    r\"C:\\Users\\Dell\\Documents\\AI\\Titanic\\Data\\Data\\train.csv\",\n",
    "    index_col=False\n",
    ")\n",
    "\n",
    "test = pd.read_csv(\n",
    "    r\"C:\\Users\\Dell\\Documents\\AI\\Titanic\\Data\\Data\\test.csv\",\n",
    "    index_col=False\n",
    ")\n",
    "\n",
    "random_state = 101\n",
    "target = 'Transported'"
   ]
  },
  {
   "cell_type": "code",
   "execution_count": 731,
   "id": "b69817af",
   "metadata": {},
   "outputs": [
    {
     "data": {
      "text/html": [
       "<div>\n",
       "<style scoped>\n",
       "    .dataframe tbody tr th:only-of-type {\n",
       "        vertical-align: middle;\n",
       "    }\n",
       "\n",
       "    .dataframe tbody tr th {\n",
       "        vertical-align: top;\n",
       "    }\n",
       "\n",
       "    .dataframe thead th {\n",
       "        text-align: right;\n",
       "    }\n",
       "</style>\n",
       "<table border=\"1\" class=\"dataframe\">\n",
       "  <thead>\n",
       "    <tr style=\"text-align: right;\">\n",
       "      <th></th>\n",
       "      <th>PassengerId</th>\n",
       "      <th>HomePlanet</th>\n",
       "      <th>CryoSleep</th>\n",
       "      <th>Cabin</th>\n",
       "      <th>Destination</th>\n",
       "      <th>Age</th>\n",
       "      <th>VIP</th>\n",
       "      <th>RoomService</th>\n",
       "      <th>FoodCourt</th>\n",
       "      <th>ShoppingMall</th>\n",
       "      <th>Spa</th>\n",
       "      <th>VRDeck</th>\n",
       "      <th>Name</th>\n",
       "      <th>Transported</th>\n",
       "    </tr>\n",
       "  </thead>\n",
       "  <tbody>\n",
       "    <tr>\n",
       "      <th>0</th>\n",
       "      <td>0001_01</td>\n",
       "      <td>Europa</td>\n",
       "      <td>False</td>\n",
       "      <td>B/0/P</td>\n",
       "      <td>TRAPPIST-1e</td>\n",
       "      <td>39.0</td>\n",
       "      <td>False</td>\n",
       "      <td>0.0</td>\n",
       "      <td>0.0</td>\n",
       "      <td>0.0</td>\n",
       "      <td>0.0</td>\n",
       "      <td>0.0</td>\n",
       "      <td>Maham Ofracculy</td>\n",
       "      <td>False</td>\n",
       "    </tr>\n",
       "    <tr>\n",
       "      <th>1</th>\n",
       "      <td>0002_01</td>\n",
       "      <td>Earth</td>\n",
       "      <td>False</td>\n",
       "      <td>F/0/S</td>\n",
       "      <td>TRAPPIST-1e</td>\n",
       "      <td>24.0</td>\n",
       "      <td>False</td>\n",
       "      <td>109.0</td>\n",
       "      <td>9.0</td>\n",
       "      <td>25.0</td>\n",
       "      <td>549.0</td>\n",
       "      <td>44.0</td>\n",
       "      <td>Juanna Vines</td>\n",
       "      <td>True</td>\n",
       "    </tr>\n",
       "    <tr>\n",
       "      <th>2</th>\n",
       "      <td>0003_01</td>\n",
       "      <td>Europa</td>\n",
       "      <td>False</td>\n",
       "      <td>A/0/S</td>\n",
       "      <td>TRAPPIST-1e</td>\n",
       "      <td>58.0</td>\n",
       "      <td>True</td>\n",
       "      <td>43.0</td>\n",
       "      <td>3576.0</td>\n",
       "      <td>0.0</td>\n",
       "      <td>6715.0</td>\n",
       "      <td>49.0</td>\n",
       "      <td>Altark Susent</td>\n",
       "      <td>False</td>\n",
       "    </tr>\n",
       "    <tr>\n",
       "      <th>3</th>\n",
       "      <td>0003_02</td>\n",
       "      <td>Europa</td>\n",
       "      <td>False</td>\n",
       "      <td>A/0/S</td>\n",
       "      <td>TRAPPIST-1e</td>\n",
       "      <td>33.0</td>\n",
       "      <td>False</td>\n",
       "      <td>0.0</td>\n",
       "      <td>1283.0</td>\n",
       "      <td>371.0</td>\n",
       "      <td>3329.0</td>\n",
       "      <td>193.0</td>\n",
       "      <td>Solam Susent</td>\n",
       "      <td>False</td>\n",
       "    </tr>\n",
       "    <tr>\n",
       "      <th>4</th>\n",
       "      <td>0004_01</td>\n",
       "      <td>Earth</td>\n",
       "      <td>False</td>\n",
       "      <td>F/1/S</td>\n",
       "      <td>TRAPPIST-1e</td>\n",
       "      <td>16.0</td>\n",
       "      <td>False</td>\n",
       "      <td>303.0</td>\n",
       "      <td>70.0</td>\n",
       "      <td>151.0</td>\n",
       "      <td>565.0</td>\n",
       "      <td>2.0</td>\n",
       "      <td>Willy Santantines</td>\n",
       "      <td>True</td>\n",
       "    </tr>\n",
       "  </tbody>\n",
       "</table>\n",
       "</div>"
      ],
      "text/plain": [
       "  PassengerId HomePlanet CryoSleep  Cabin  Destination   Age    VIP  \\\n",
       "0     0001_01     Europa     False  B/0/P  TRAPPIST-1e  39.0  False   \n",
       "1     0002_01      Earth     False  F/0/S  TRAPPIST-1e  24.0  False   \n",
       "2     0003_01     Europa     False  A/0/S  TRAPPIST-1e  58.0   True   \n",
       "3     0003_02     Europa     False  A/0/S  TRAPPIST-1e  33.0  False   \n",
       "4     0004_01      Earth     False  F/1/S  TRAPPIST-1e  16.0  False   \n",
       "\n",
       "   RoomService  FoodCourt  ShoppingMall     Spa  VRDeck               Name  \\\n",
       "0          0.0        0.0           0.0     0.0     0.0    Maham Ofracculy   \n",
       "1        109.0        9.0          25.0   549.0    44.0       Juanna Vines   \n",
       "2         43.0     3576.0           0.0  6715.0    49.0      Altark Susent   \n",
       "3          0.0     1283.0         371.0  3329.0   193.0       Solam Susent   \n",
       "4        303.0       70.0         151.0   565.0     2.0  Willy Santantines   \n",
       "\n",
       "   Transported  \n",
       "0        False  \n",
       "1         True  \n",
       "2        False  \n",
       "3        False  \n",
       "4         True  "
      ]
     },
     "execution_count": 731,
     "metadata": {},
     "output_type": "execute_result"
    }
   ],
   "source": [
    "train.head()"
   ]
  },
  {
   "cell_type": "markdown",
   "id": "2df32b61",
   "metadata": {},
   "source": [
    "## **Display Features**"
   ]
  },
  {
   "cell_type": "code",
   "execution_count": 732,
   "id": "6fe66c83",
   "metadata": {},
   "outputs": [],
   "source": [
    "%matplotlib inline\n",
    "\n",
    "pd.options.display.max_rows = 300000\n",
    "pd.options.display.max_columns = 999\n",
    "pd.options.display.max_colwidth = 500\n",
    "\n",
    "warnings.filterwarnings(\"ignore\")\n",
    "warnings.simplefilter(action=\"ignore\", category=FutureWarning)"
   ]
  },
  {
   "cell_type": "markdown",
   "id": "cc0044cf",
   "metadata": {},
   "source": [
    "# **Feature Engineering**"
   ]
  },
  {
   "cell_type": "markdown",
   "id": "83d14e37",
   "metadata": {},
   "source": [
    "## **Combine Train and Test Data**"
   ]
  },
  {
   "cell_type": "code",
   "execution_count": 733,
   "id": "954995f3",
   "metadata": {},
   "outputs": [],
   "source": [
    "X = train.drop('Transported', axis=1).copy()\n",
    "y = train['Transported'].copy().astype(int)\n",
    "\n",
    "# Combine train and test data. Drops the original index and resets it in the new dataframe\n",
    "data = pd.concat([X, test], axis=0).reset_index (drop=True)\n"
   ]
  },
  {
   "cell_type": "code",
   "execution_count": 734,
   "id": "b529cefe",
   "metadata": {},
   "outputs": [
    {
     "data": {
      "text/html": [
       "<div>\n",
       "<style scoped>\n",
       "    .dataframe tbody tr th:only-of-type {\n",
       "        vertical-align: middle;\n",
       "    }\n",
       "\n",
       "    .dataframe tbody tr th {\n",
       "        vertical-align: top;\n",
       "    }\n",
       "\n",
       "    .dataframe thead th {\n",
       "        text-align: right;\n",
       "    }\n",
       "</style>\n",
       "<table border=\"1\" class=\"dataframe\">\n",
       "  <thead>\n",
       "    <tr style=\"text-align: right;\">\n",
       "      <th></th>\n",
       "      <th>PassengerId</th>\n",
       "      <th>HomePlanet</th>\n",
       "      <th>CryoSleep</th>\n",
       "      <th>Cabin</th>\n",
       "      <th>Destination</th>\n",
       "      <th>Age</th>\n",
       "      <th>VIP</th>\n",
       "      <th>RoomService</th>\n",
       "      <th>FoodCourt</th>\n",
       "      <th>ShoppingMall</th>\n",
       "      <th>Spa</th>\n",
       "      <th>VRDeck</th>\n",
       "      <th>Name</th>\n",
       "    </tr>\n",
       "  </thead>\n",
       "  <tbody>\n",
       "    <tr>\n",
       "      <th>0</th>\n",
       "      <td>0001_01</td>\n",
       "      <td>Europa</td>\n",
       "      <td>False</td>\n",
       "      <td>B/0/P</td>\n",
       "      <td>TRAPPIST-1e</td>\n",
       "      <td>39.0</td>\n",
       "      <td>False</td>\n",
       "      <td>0.0</td>\n",
       "      <td>0.0</td>\n",
       "      <td>0.0</td>\n",
       "      <td>0.0</td>\n",
       "      <td>0.0</td>\n",
       "      <td>Maham Ofracculy</td>\n",
       "    </tr>\n",
       "    <tr>\n",
       "      <th>1</th>\n",
       "      <td>0002_01</td>\n",
       "      <td>Earth</td>\n",
       "      <td>False</td>\n",
       "      <td>F/0/S</td>\n",
       "      <td>TRAPPIST-1e</td>\n",
       "      <td>24.0</td>\n",
       "      <td>False</td>\n",
       "      <td>109.0</td>\n",
       "      <td>9.0</td>\n",
       "      <td>25.0</td>\n",
       "      <td>549.0</td>\n",
       "      <td>44.0</td>\n",
       "      <td>Juanna Vines</td>\n",
       "    </tr>\n",
       "    <tr>\n",
       "      <th>2</th>\n",
       "      <td>0003_01</td>\n",
       "      <td>Europa</td>\n",
       "      <td>False</td>\n",
       "      <td>A/0/S</td>\n",
       "      <td>TRAPPIST-1e</td>\n",
       "      <td>58.0</td>\n",
       "      <td>True</td>\n",
       "      <td>43.0</td>\n",
       "      <td>3576.0</td>\n",
       "      <td>0.0</td>\n",
       "      <td>6715.0</td>\n",
       "      <td>49.0</td>\n",
       "      <td>Altark Susent</td>\n",
       "    </tr>\n",
       "    <tr>\n",
       "      <th>3</th>\n",
       "      <td>0003_02</td>\n",
       "      <td>Europa</td>\n",
       "      <td>False</td>\n",
       "      <td>A/0/S</td>\n",
       "      <td>TRAPPIST-1e</td>\n",
       "      <td>33.0</td>\n",
       "      <td>False</td>\n",
       "      <td>0.0</td>\n",
       "      <td>1283.0</td>\n",
       "      <td>371.0</td>\n",
       "      <td>3329.0</td>\n",
       "      <td>193.0</td>\n",
       "      <td>Solam Susent</td>\n",
       "    </tr>\n",
       "    <tr>\n",
       "      <th>4</th>\n",
       "      <td>0004_01</td>\n",
       "      <td>Earth</td>\n",
       "      <td>False</td>\n",
       "      <td>F/1/S</td>\n",
       "      <td>TRAPPIST-1e</td>\n",
       "      <td>16.0</td>\n",
       "      <td>False</td>\n",
       "      <td>303.0</td>\n",
       "      <td>70.0</td>\n",
       "      <td>151.0</td>\n",
       "      <td>565.0</td>\n",
       "      <td>2.0</td>\n",
       "      <td>Willy Santantines</td>\n",
       "    </tr>\n",
       "  </tbody>\n",
       "</table>\n",
       "</div>"
      ],
      "text/plain": [
       "  PassengerId HomePlanet CryoSleep  Cabin  Destination   Age    VIP  \\\n",
       "0     0001_01     Europa     False  B/0/P  TRAPPIST-1e  39.0  False   \n",
       "1     0002_01      Earth     False  F/0/S  TRAPPIST-1e  24.0  False   \n",
       "2     0003_01     Europa     False  A/0/S  TRAPPIST-1e  58.0   True   \n",
       "3     0003_02     Europa     False  A/0/S  TRAPPIST-1e  33.0  False   \n",
       "4     0004_01      Earth     False  F/1/S  TRAPPIST-1e  16.0  False   \n",
       "\n",
       "   RoomService  FoodCourt  ShoppingMall     Spa  VRDeck               Name  \n",
       "0          0.0        0.0           0.0     0.0     0.0    Maham Ofracculy  \n",
       "1        109.0        9.0          25.0   549.0    44.0       Juanna Vines  \n",
       "2         43.0     3576.0           0.0  6715.0    49.0      Altark Susent  \n",
       "3          0.0     1283.0         371.0  3329.0   193.0       Solam Susent  \n",
       "4        303.0       70.0         151.0   565.0     2.0  Willy Santantines  "
      ]
     },
     "execution_count": 734,
     "metadata": {},
     "output_type": "execute_result"
    }
   ],
   "source": [
    "data.head()"
   ]
  },
  {
   "cell_type": "code",
   "execution_count": 735,
   "id": "deed9766",
   "metadata": {},
   "outputs": [
    {
     "name": "stdout",
     "output_type": "stream",
     "text": [
      "Combined Dataset Shape: (12970, 13)\n"
     ]
    }
   ],
   "source": [
    "print('Combined Dataset Shape:', data.shape)"
   ]
  },
  {
   "cell_type": "markdown",
   "id": "f2c97b44",
   "metadata": {},
   "source": [
    "## **PassengerId**"
   ]
  },
  {
   "cell_type": "markdown",
   "id": "0961568d",
   "metadata": {},
   "source": [
    "Extract Group and Group Size from Passenger ID"
   ]
  },
  {
   "cell_type": "code",
   "execution_count": 736,
   "id": "dd8456bd",
   "metadata": {},
   "outputs": [],
   "source": [
    "data['Group'] = data['PassengerId'].apply(lambda x: x.split('_')[0]).astype(int)\n",
    "group_sizes = data['Group'].value_counts()\n",
    "data['GroupSize'] = data['Group'].map(group_sizes)"
   ]
  },
  {
   "cell_type": "code",
   "execution_count": 737,
   "id": "846f40c4",
   "metadata": {},
   "outputs": [],
   "source": [
    "column = data.pop('Group')\n",
    "data.insert(1, 'Group', column)\n",
    "\n",
    "column = data.pop('GroupSize') \n",
    "data.insert(2, 'GroupSize', column)    "
   ]
  },
  {
   "cell_type": "markdown",
   "id": "660377b2",
   "metadata": {},
   "source": [
    "## **Singles Traveler**"
   ]
  },
  {
   "cell_type": "code",
   "execution_count": 738,
   "id": "7ddb5f55",
   "metadata": {},
   "outputs": [],
   "source": [
    "data['SingleTraveler'] = data['GroupSize'].apply(lambda x: 1 if x == 1 else 0)"
   ]
  },
  {
   "cell_type": "code",
   "execution_count": 739,
   "id": "08eedb7d",
   "metadata": {},
   "outputs": [],
   "source": [
    "column = data.pop('SingleTraveler')\n",
    "data.insert(3, 'SingleTraveler', column)"
   ]
  },
  {
   "cell_type": "code",
   "execution_count": 740,
   "id": "79b993a8",
   "metadata": {},
   "outputs": [
    {
     "data": {
      "text/plain": [
       "(7145, 16)"
      ]
     },
     "execution_count": 740,
     "metadata": {},
     "output_type": "execute_result"
    }
   ],
   "source": [
    "singles = data[data['SingleTraveler'] == 1]\n",
    "singles.shape"
   ]
  },
  {
   "cell_type": "markdown",
   "id": "39b0578f",
   "metadata": {},
   "source": [
    "## **Cabin**"
   ]
  },
  {
   "cell_type": "code",
   "execution_count": 741,
   "id": "f37c41d8",
   "metadata": {},
   "outputs": [],
   "source": [
    "data[['CabinDeck', 'CabinNumber', 'CabinSide']] = data['Cabin'].str.split('/', expand=True)"
   ]
  },
  {
   "cell_type": "code",
   "execution_count": 742,
   "id": "5cb2234a",
   "metadata": {},
   "outputs": [],
   "source": [
    "column = data.pop('CabinDeck')\n",
    "data.insert(5, 'CabinDeck', column)\n",
    "\n",
    "column = data.pop('CabinNumber') \n",
    "data.insert(6, 'CabinNumber', column)   \n",
    "\n",
    "column = data.pop('CabinSide')\n",
    "data.insert(7, 'CabinSide', column) \n",
    "\n",
    "data.drop('Cabin', axis=1, inplace=True)"
   ]
  },
  {
   "cell_type": "markdown",
   "id": "1da43843",
   "metadata": {},
   "source": [
    "## **Name**"
   ]
  },
  {
   "cell_type": "code",
   "execution_count": 743,
   "id": "49cac816",
   "metadata": {},
   "outputs": [],
   "source": [
    "data[['FirstName', 'LastName']] = data['Name'].str.split(' ', expand=True)"
   ]
  },
  {
   "cell_type": "code",
   "execution_count": 744,
   "id": "ec663070",
   "metadata": {},
   "outputs": [],
   "source": [
    "data.drop('Name', axis=1, inplace=True)\n",
    "data.drop('FirstName', axis=1, inplace=True)"
   ]
  },
  {
   "cell_type": "markdown",
   "id": "3586fd7b",
   "metadata": {},
   "source": [
    "## **Total Spent**"
   ]
  },
  {
   "cell_type": "code",
   "execution_count": 745,
   "id": "612df7f7",
   "metadata": {},
   "outputs": [],
   "source": [
    "data[['RoomService', 'FoodCourt', 'ShoppingMall', 'Spa', 'VRDeck']] = data[['RoomService', 'FoodCourt', 'ShoppingMall', 'Spa', 'VRDeck']].fillna(0)\n",
    "data['TotalSpent'] =  data[['RoomService', 'FoodCourt', 'ShoppingMall', 'Spa', 'VRDeck']].sum(axis=1)"
   ]
  },
  {
   "cell_type": "code",
   "execution_count": 746,
   "id": "d47e37ea",
   "metadata": {},
   "outputs": [],
   "source": [
    "column = data.pop('TotalSpent')\n",
    "data.insert(17, 'TotalSpent', column)"
   ]
  },
  {
   "cell_type": "markdown",
   "id": "e57ba326",
   "metadata": {},
   "source": [
    "## **Spent (True/False)**"
   ]
  },
  {
   "cell_type": "code",
   "execution_count": 747,
   "id": "84589597",
   "metadata": {},
   "outputs": [],
   "source": [
    "data['Spent'] = data['TotalSpent'].apply(lambda x: 1 if x > 0 else 0)"
   ]
  },
  {
   "cell_type": "code",
   "execution_count": 748,
   "id": "30965bc2",
   "metadata": {},
   "outputs": [],
   "source": [
    "column = data.pop('Spent')\n",
    "data.insert(18, 'Spent', column)"
   ]
  },
  {
   "cell_type": "markdown",
   "id": "4466099a",
   "metadata": {},
   "source": [
    "## **Age Groups**"
   ]
  },
  {
   "cell_type": "code",
   "execution_count": 749,
   "id": "e5964661",
   "metadata": {},
   "outputs": [],
   "source": [
    "data['AgeGroup']=np.nan\n",
    "data.loc[data['Age']<=10,'AgeGroup']='0-10'\n",
    "data.loc[(data['Age']>10) & (data['Age']<=20),'AgeGroup']='11-20'\n",
    "data.loc[(data['Age']>20) & (data['Age']<=30),'AgeGroup']='21-30'\n",
    "data.loc[(data['Age']>30) & (data['Age']<=40),'AgeGroup']='31-40'\n",
    "data.loc[(data['Age']>40) & (data['Age']<=50),'AgeGroup']='41-50'\n",
    "data.loc[(data['Age']>50) & (data['Age']<=60),'AgeGroup']='51-60'\n",
    "data.loc[(data['Age']>60) & (data['Age']<=70),'AgeGroup']='61-70'\n",
    "data.loc[(data['Age']>70) & (data['Age']<=80),'AgeGroup']='71-80'"
   ]
  },
  {
   "cell_type": "code",
   "execution_count": 750,
   "id": "f4cb4b94",
   "metadata": {},
   "outputs": [],
   "source": [
    "column = data.pop('AgeGroup')\n",
    "data.insert(11, 'AgeGroup', column)"
   ]
  },
  {
   "cell_type": "markdown",
   "id": "db1e6ac7",
   "metadata": {},
   "source": [
    "## **Family Size**"
   ]
  },
  {
   "cell_type": "code",
   "execution_count": 751,
   "id": "f6a2c4c4",
   "metadata": {},
   "outputs": [],
   "source": [
    "data['LastName'].fillna('Unknown', inplace=True)\n",
    "\n",
    "family_sizes = data['LastName'].value_counts()\n",
    "data['FamilySize'] = data['LastName'].map(family_sizes)"
   ]
  },
  {
   "cell_type": "markdown",
   "id": "3818c93b",
   "metadata": {},
   "source": [
    "## **Lone Traveler**"
   ]
  },
  {
   "cell_type": "code",
   "execution_count": 752,
   "id": "1d2b6e14",
   "metadata": {},
   "outputs": [
    {
     "data": {
      "text/plain": [
       "(208, 23)"
      ]
     },
     "execution_count": 752,
     "metadata": {},
     "output_type": "execute_result"
    }
   ],
   "source": [
    "data['LoneTraveler'] = data['FamilySize'].apply(lambda x: 1 if x == 1 else 0)\n",
    "\n",
    "lone_traveler = data[data['LoneTraveler'] == 1]\n",
    "lone_traveler.shape"
   ]
  },
  {
   "cell_type": "markdown",
   "id": "4378e034",
   "metadata": {},
   "source": [
    "## **Single Traveler and Lone Traveler**"
   ]
  },
  {
   "cell_type": "markdown",
   "id": "acaf107b",
   "metadata": {},
   "source": [
    "Single Traveler but not Lone Traveler"
   ]
  },
  {
   "cell_type": "code",
   "execution_count": 753,
   "id": "61155ddd",
   "metadata": {},
   "outputs": [
    {
     "data": {
      "text/plain": [
       "(6962, 23)"
      ]
     },
     "execution_count": 753,
     "metadata": {},
     "output_type": "execute_result"
    }
   ],
   "source": [
    "filtered_rows = data[(data['SingleTraveler'] == 1) & (data['LoneTraveler'] == 0)]\n",
    "filtered_rows.shape"
   ]
  },
  {
   "cell_type": "markdown",
   "id": "5e7d70aa",
   "metadata": {},
   "source": [
    "Lone Traveler but not Single Traveler"
   ]
  },
  {
   "cell_type": "code",
   "execution_count": 754,
   "id": "dab2573c",
   "metadata": {},
   "outputs": [
    {
     "data": {
      "text/plain": [
       "(25, 23)"
      ]
     },
     "execution_count": 754,
     "metadata": {},
     "output_type": "execute_result"
    }
   ],
   "source": [
    "filtered_rows = data[(data['SingleTraveler'] == 0) & (data['LoneTraveler'] == 1)]\n",
    "filtered_rows.shape\n"
   ]
  },
  {
   "cell_type": "markdown",
   "id": "9bdda272",
   "metadata": {},
   "source": [
    "## **Feature Engineered Dataset**"
   ]
  },
  {
   "cell_type": "code",
   "execution_count": 755,
   "id": "f7be98e6",
   "metadata": {},
   "outputs": [
    {
     "data": {
      "text/html": [
       "<div>\n",
       "<style scoped>\n",
       "    .dataframe tbody tr th:only-of-type {\n",
       "        vertical-align: middle;\n",
       "    }\n",
       "\n",
       "    .dataframe tbody tr th {\n",
       "        vertical-align: top;\n",
       "    }\n",
       "\n",
       "    .dataframe thead th {\n",
       "        text-align: right;\n",
       "    }\n",
       "</style>\n",
       "<table border=\"1\" class=\"dataframe\">\n",
       "  <thead>\n",
       "    <tr style=\"text-align: right;\">\n",
       "      <th></th>\n",
       "      <th>PassengerId</th>\n",
       "      <th>Group</th>\n",
       "      <th>GroupSize</th>\n",
       "      <th>SingleTraveler</th>\n",
       "      <th>HomePlanet</th>\n",
       "      <th>CabinDeck</th>\n",
       "      <th>CabinNumber</th>\n",
       "      <th>CabinSide</th>\n",
       "      <th>CryoSleep</th>\n",
       "      <th>Destination</th>\n",
       "      <th>Age</th>\n",
       "      <th>AgeGroup</th>\n",
       "      <th>VIP</th>\n",
       "      <th>RoomService</th>\n",
       "      <th>FoodCourt</th>\n",
       "      <th>ShoppingMall</th>\n",
       "      <th>Spa</th>\n",
       "      <th>VRDeck</th>\n",
       "      <th>TotalSpent</th>\n",
       "      <th>Spent</th>\n",
       "      <th>LastName</th>\n",
       "      <th>FamilySize</th>\n",
       "      <th>LoneTraveler</th>\n",
       "    </tr>\n",
       "  </thead>\n",
       "  <tbody>\n",
       "    <tr>\n",
       "      <th>0</th>\n",
       "      <td>0001_01</td>\n",
       "      <td>1</td>\n",
       "      <td>1</td>\n",
       "      <td>1</td>\n",
       "      <td>Europa</td>\n",
       "      <td>B</td>\n",
       "      <td>0</td>\n",
       "      <td>P</td>\n",
       "      <td>False</td>\n",
       "      <td>TRAPPIST-1e</td>\n",
       "      <td>39.0</td>\n",
       "      <td>31-40</td>\n",
       "      <td>False</td>\n",
       "      <td>0.0</td>\n",
       "      <td>0.0</td>\n",
       "      <td>0.0</td>\n",
       "      <td>0.0</td>\n",
       "      <td>0.0</td>\n",
       "      <td>0.0</td>\n",
       "      <td>0</td>\n",
       "      <td>Ofracculy</td>\n",
       "      <td>3</td>\n",
       "      <td>0</td>\n",
       "    </tr>\n",
       "    <tr>\n",
       "      <th>1</th>\n",
       "      <td>0002_01</td>\n",
       "      <td>2</td>\n",
       "      <td>1</td>\n",
       "      <td>1</td>\n",
       "      <td>Earth</td>\n",
       "      <td>F</td>\n",
       "      <td>0</td>\n",
       "      <td>S</td>\n",
       "      <td>False</td>\n",
       "      <td>TRAPPIST-1e</td>\n",
       "      <td>24.0</td>\n",
       "      <td>21-30</td>\n",
       "      <td>False</td>\n",
       "      <td>109.0</td>\n",
       "      <td>9.0</td>\n",
       "      <td>25.0</td>\n",
       "      <td>549.0</td>\n",
       "      <td>44.0</td>\n",
       "      <td>736.0</td>\n",
       "      <td>1</td>\n",
       "      <td>Vines</td>\n",
       "      <td>4</td>\n",
       "      <td>0</td>\n",
       "    </tr>\n",
       "    <tr>\n",
       "      <th>2</th>\n",
       "      <td>0003_01</td>\n",
       "      <td>3</td>\n",
       "      <td>2</td>\n",
       "      <td>0</td>\n",
       "      <td>Europa</td>\n",
       "      <td>A</td>\n",
       "      <td>0</td>\n",
       "      <td>S</td>\n",
       "      <td>False</td>\n",
       "      <td>TRAPPIST-1e</td>\n",
       "      <td>58.0</td>\n",
       "      <td>51-60</td>\n",
       "      <td>True</td>\n",
       "      <td>43.0</td>\n",
       "      <td>3576.0</td>\n",
       "      <td>0.0</td>\n",
       "      <td>6715.0</td>\n",
       "      <td>49.0</td>\n",
       "      <td>10383.0</td>\n",
       "      <td>1</td>\n",
       "      <td>Susent</td>\n",
       "      <td>7</td>\n",
       "      <td>0</td>\n",
       "    </tr>\n",
       "    <tr>\n",
       "      <th>3</th>\n",
       "      <td>0003_02</td>\n",
       "      <td>3</td>\n",
       "      <td>2</td>\n",
       "      <td>0</td>\n",
       "      <td>Europa</td>\n",
       "      <td>A</td>\n",
       "      <td>0</td>\n",
       "      <td>S</td>\n",
       "      <td>False</td>\n",
       "      <td>TRAPPIST-1e</td>\n",
       "      <td>33.0</td>\n",
       "      <td>31-40</td>\n",
       "      <td>False</td>\n",
       "      <td>0.0</td>\n",
       "      <td>1283.0</td>\n",
       "      <td>371.0</td>\n",
       "      <td>3329.0</td>\n",
       "      <td>193.0</td>\n",
       "      <td>5176.0</td>\n",
       "      <td>1</td>\n",
       "      <td>Susent</td>\n",
       "      <td>7</td>\n",
       "      <td>0</td>\n",
       "    </tr>\n",
       "    <tr>\n",
       "      <th>4</th>\n",
       "      <td>0004_01</td>\n",
       "      <td>4</td>\n",
       "      <td>1</td>\n",
       "      <td>1</td>\n",
       "      <td>Earth</td>\n",
       "      <td>F</td>\n",
       "      <td>1</td>\n",
       "      <td>S</td>\n",
       "      <td>False</td>\n",
       "      <td>TRAPPIST-1e</td>\n",
       "      <td>16.0</td>\n",
       "      <td>11-20</td>\n",
       "      <td>False</td>\n",
       "      <td>303.0</td>\n",
       "      <td>70.0</td>\n",
       "      <td>151.0</td>\n",
       "      <td>565.0</td>\n",
       "      <td>2.0</td>\n",
       "      <td>1091.0</td>\n",
       "      <td>1</td>\n",
       "      <td>Santantines</td>\n",
       "      <td>9</td>\n",
       "      <td>0</td>\n",
       "    </tr>\n",
       "  </tbody>\n",
       "</table>\n",
       "</div>"
      ],
      "text/plain": [
       "  PassengerId  Group  GroupSize  SingleTraveler HomePlanet CabinDeck  \\\n",
       "0     0001_01      1          1               1     Europa         B   \n",
       "1     0002_01      2          1               1      Earth         F   \n",
       "2     0003_01      3          2               0     Europa         A   \n",
       "3     0003_02      3          2               0     Europa         A   \n",
       "4     0004_01      4          1               1      Earth         F   \n",
       "\n",
       "  CabinNumber CabinSide CryoSleep  Destination   Age AgeGroup    VIP  \\\n",
       "0           0         P     False  TRAPPIST-1e  39.0    31-40  False   \n",
       "1           0         S     False  TRAPPIST-1e  24.0    21-30  False   \n",
       "2           0         S     False  TRAPPIST-1e  58.0    51-60   True   \n",
       "3           0         S     False  TRAPPIST-1e  33.0    31-40  False   \n",
       "4           1         S     False  TRAPPIST-1e  16.0    11-20  False   \n",
       "\n",
       "   RoomService  FoodCourt  ShoppingMall     Spa  VRDeck  TotalSpent  Spent  \\\n",
       "0          0.0        0.0           0.0     0.0     0.0         0.0      0   \n",
       "1        109.0        9.0          25.0   549.0    44.0       736.0      1   \n",
       "2         43.0     3576.0           0.0  6715.0    49.0     10383.0      1   \n",
       "3          0.0     1283.0         371.0  3329.0   193.0      5176.0      1   \n",
       "4        303.0       70.0         151.0   565.0     2.0      1091.0      1   \n",
       "\n",
       "      LastName  FamilySize  LoneTraveler  \n",
       "0    Ofracculy           3             0  \n",
       "1        Vines           4             0  \n",
       "2       Susent           7             0  \n",
       "3       Susent           7             0  \n",
       "4  Santantines           9             0  "
      ]
     },
     "execution_count": 755,
     "metadata": {},
     "output_type": "execute_result"
    }
   ],
   "source": [
    "data.head()"
   ]
  },
  {
   "cell_type": "markdown",
   "id": "490dcea8",
   "metadata": {},
   "source": [
    "## **Save Dataset**"
   ]
  },
  {
   "cell_type": "code",
   "execution_count": 756,
   "id": "d70f192d",
   "metadata": {},
   "outputs": [],
   "source": [
    "data.to_csv(r\"C:\\Users\\Dell\\Documents\\AI\\Titanic\\Data\\data.csv\", index=False)"
   ]
  }
 ],
 "metadata": {
  "kernelspec": {
   "display_name": "Python 3 (ipykernel)",
   "language": "python",
   "name": "python3"
  },
  "language_info": {
   "codemirror_mode": {
    "name": "ipython",
    "version": 3
   },
   "file_extension": ".py",
   "mimetype": "text/x-python",
   "name": "python",
   "nbconvert_exporter": "python",
   "pygments_lexer": "ipython3",
   "version": "3.10.1"
  },
  "toc": {
   "base_numbering": 1,
   "nav_menu": {},
   "number_sections": true,
   "sideBar": true,
   "skip_h1_title": false,
   "title_cell": "Table of Contents",
   "title_sidebar": "Contents",
   "toc_cell": false,
   "toc_position": {},
   "toc_section_display": true,
   "toc_window_display": true
  }
 },
 "nbformat": 4,
 "nbformat_minor": 5
}
