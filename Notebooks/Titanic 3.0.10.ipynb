{
 "cells": [
  {
   "cell_type": "markdown",
   "id": "25aaf1b5",
   "metadata": {},
   "source": [
    "# <center> **Titanic**"
   ]
  },
  {
   "cell_type": "markdown",
   "id": "7a6c8da2",
   "metadata": {},
   "source": [
    "# **Libraries**"
   ]
  },
  {
   "cell_type": "code",
   "execution_count": 1,
   "id": "73e35264",
   "metadata": {},
   "outputs": [
    {
     "data": {
      "text/plain": [
       "<module 'functions' from 'c:\\\\Users\\\\Dell\\\\Documents\\\\AI\\\\Titanic\\\\Notebooks\\\\functions.py'>"
      ]
     },
     "execution_count": 1,
     "metadata": {},
     "output_type": "execute_result"
    }
   ],
   "source": [
    "import pandas as pd\n",
    "import numpy as np\n",
    "import seaborn as sns\n",
    "import matplotlib as mpl\n",
    "import matplotlib.pyplot as plt\n",
    "\n",
    "\n",
    "import functions\n",
    "import importlib\n",
    "\n",
    "import warnings\n",
    "\n",
    "importlib.reload(functions)"
   ]
  },
  {
   "cell_type": "markdown",
   "id": "driven-arlington",
   "metadata": {},
   "source": [
    "# **Display Parameters**"
   ]
  },
  {
   "cell_type": "markdown",
   "id": "double-logging",
   "metadata": {},
   "source": [
    "## **Display Features**"
   ]
  },
  {
   "cell_type": "code",
   "execution_count": 2,
   "id": "driven-element",
   "metadata": {},
   "outputs": [],
   "source": [
    "%matplotlib inline\n",
    "\n",
    "pd.options.display.max_rows = 300000\n",
    "pd.options.display.max_columns = 999\n",
    "pd.options.display.max_colwidth = 500\n",
    "\n",
    "warnings.filterwarnings(\"ignore\")\n",
    "warnings.simplefilter(action=\"ignore\", category=FutureWarning)"
   ]
  },
  {
   "cell_type": "markdown",
   "id": "political-officer",
   "metadata": {},
   "source": [
    "## **Colors**"
   ]
  },
  {
   "cell_type": "code",
   "execution_count": 3,
   "id": "acquired-union",
   "metadata": {},
   "outputs": [],
   "source": [
    "color_1 = \"bisque\"\n",
    "color_2 = \"crimson\"\n",
    "color_3 = \"orangered\"\n",
    "color_4 = \"lightcoral\"\n",
    "color_5 = \"royalblue\"\n",
    "color_6 = \"pink\"\n",
    "color_7 = \"indianred\"\n",
    "color_8 = \"slategrey\"\n",
    "color_9 = \"salmon\"\n",
    "color_10 = \"beige\"\n",
    "color_11 = \"coral\"\n",
    "color_13 = \"grey\"\n",
    "color_14 = \"tan\"\n",
    "color_15 = \"wheat\"\n",
    "color_16 = \"tomato\""
   ]
  },
  {
   "cell_type": "markdown",
   "id": "incredible-stupid",
   "metadata": {},
   "source": [
    "## **Figure Parameters**"
   ]
  },
  {
   "cell_type": "code",
   "execution_count": 4,
   "id": "secret-canadian",
   "metadata": {},
   "outputs": [],
   "source": [
    "size = 20\n",
    "\n",
    "params = {\n",
    "    \"font.family\": \"Times New Roman\",\n",
    "    \"font.size\": size,\n",
    "    \"axes.labelsize\": size,\n",
    "    \"xtick.labelsize\": size * 0.75,\n",
    "    \"ytick.labelsize\": size * 0.75,\n",
    "    \"figure.titlesize\": size * 1.5,\n",
    "    \"axes.titlesize\": size * 1.5,\n",
    "    \"axes.titlepad\": size,\n",
    "    \"axes.labelpad\": size - 10,\n",
    "    \"lines.linewidth\": 2,\n",
    "    \"axes.spines.top\": False,\n",
    "    \"axes.spines.right\": False,\n",
    "    \"axes.spines.left\": False,\n",
    "    \"axes.spines.bottom\": False,\n",
    "    \"legend.fontsize\": size,\n",
    "    \"figure.figsize\": (10, 6),\n",
    "}"
   ]
  },
  {
   "cell_type": "markdown",
   "id": "f169bb5d",
   "metadata": {},
   "source": [
    "# **Data Overview and Preprocessing**"
   ]
  },
  {
   "cell_type": "code",
   "execution_count": 5,
   "id": "e358ddcd",
   "metadata": {},
   "outputs": [],
   "source": [
    "train = pd.read_csv(\n",
    "    r\"C:\\Users\\Dell\\Documents\\AI\\Titanic\\Data\\Data\\train.csv\",\n",
    "    index_col=False\n",
    ")\n",
    "\n",
    "test = pd.read_csv(\n",
    "    r\"C:\\Users\\Dell\\Documents\\AI\\Titanic\\Data\\Data\\test.csv\",\n",
    "    index_col=False\n",
    ")\n",
    "\n",
    "random_state = 101\n",
    "target = 'Transported'"
   ]
  },
  {
   "cell_type": "markdown",
   "id": "eb434f64",
   "metadata": {},
   "source": [
    "## **Missing Data**"
   ]
  },
  {
   "cell_type": "markdown",
   "id": "f683651c",
   "metadata": {},
   "source": [
    "### **Train Set Missing Values**"
   ]
  },
  {
   "cell_type": "code",
   "execution_count": 6,
   "id": "073e7458",
   "metadata": {},
   "outputs": [
    {
     "data": {
      "text/html": [
       "<div>\n",
       "<style scoped>\n",
       "    .dataframe tbody tr th:only-of-type {\n",
       "        vertical-align: middle;\n",
       "    }\n",
       "\n",
       "    .dataframe tbody tr th {\n",
       "        vertical-align: top;\n",
       "    }\n",
       "\n",
       "    .dataframe thead th {\n",
       "        text-align: right;\n",
       "    }\n",
       "</style>\n",
       "<table border=\"1\" class=\"dataframe\">\n",
       "  <thead>\n",
       "    <tr style=\"text-align: right;\">\n",
       "      <th></th>\n",
       "      <th>NumberMissing</th>\n",
       "      <th>PercentageMissing</th>\n",
       "    </tr>\n",
       "  </thead>\n",
       "  <tbody>\n",
       "    <tr>\n",
       "      <th>HomePlanet</th>\n",
       "      <td>201</td>\n",
       "      <td>2.31</td>\n",
       "    </tr>\n",
       "    <tr>\n",
       "      <th>CryoSleep</th>\n",
       "      <td>217</td>\n",
       "      <td>2.50</td>\n",
       "    </tr>\n",
       "    <tr>\n",
       "      <th>Cabin</th>\n",
       "      <td>199</td>\n",
       "      <td>2.29</td>\n",
       "    </tr>\n",
       "    <tr>\n",
       "      <th>Destination</th>\n",
       "      <td>182</td>\n",
       "      <td>2.09</td>\n",
       "    </tr>\n",
       "    <tr>\n",
       "      <th>Age</th>\n",
       "      <td>179</td>\n",
       "      <td>2.06</td>\n",
       "    </tr>\n",
       "    <tr>\n",
       "      <th>VIP</th>\n",
       "      <td>203</td>\n",
       "      <td>2.34</td>\n",
       "    </tr>\n",
       "    <tr>\n",
       "      <th>RoomService</th>\n",
       "      <td>181</td>\n",
       "      <td>2.08</td>\n",
       "    </tr>\n",
       "    <tr>\n",
       "      <th>FoodCourt</th>\n",
       "      <td>183</td>\n",
       "      <td>2.11</td>\n",
       "    </tr>\n",
       "    <tr>\n",
       "      <th>ShoppingMall</th>\n",
       "      <td>208</td>\n",
       "      <td>2.39</td>\n",
       "    </tr>\n",
       "    <tr>\n",
       "      <th>Spa</th>\n",
       "      <td>183</td>\n",
       "      <td>2.11</td>\n",
       "    </tr>\n",
       "    <tr>\n",
       "      <th>VRDeck</th>\n",
       "      <td>188</td>\n",
       "      <td>2.16</td>\n",
       "    </tr>\n",
       "    <tr>\n",
       "      <th>Name</th>\n",
       "      <td>200</td>\n",
       "      <td>2.30</td>\n",
       "    </tr>\n",
       "  </tbody>\n",
       "</table>\n",
       "</div>"
      ],
      "text/plain": [
       "              NumberMissing  PercentageMissing\n",
       "HomePlanet              201               2.31\n",
       "CryoSleep               217               2.50\n",
       "Cabin                   199               2.29\n",
       "Destination             182               2.09\n",
       "Age                     179               2.06\n",
       "VIP                     203               2.34\n",
       "RoomService             181               2.08\n",
       "FoodCourt               183               2.11\n",
       "ShoppingMall            208               2.39\n",
       "Spa                     183               2.11\n",
       "VRDeck                  188               2.16\n",
       "Name                    200               2.30"
      ]
     },
     "execution_count": 6,
     "metadata": {},
     "output_type": "execute_result"
    }
   ],
   "source": [
    "missing_values = functions.MissingValues(train)\n",
    "missing_values"
   ]
  },
  {
   "cell_type": "markdown",
   "id": "afd0fdac",
   "metadata": {},
   "source": [
    "### **Test Set Missing Values**"
   ]
  },
  {
   "cell_type": "code",
   "execution_count": 7,
   "id": "d9a109b7",
   "metadata": {},
   "outputs": [
    {
     "data": {
      "text/html": [
       "<div>\n",
       "<style scoped>\n",
       "    .dataframe tbody tr th:only-of-type {\n",
       "        vertical-align: middle;\n",
       "    }\n",
       "\n",
       "    .dataframe tbody tr th {\n",
       "        vertical-align: top;\n",
       "    }\n",
       "\n",
       "    .dataframe thead th {\n",
       "        text-align: right;\n",
       "    }\n",
       "</style>\n",
       "<table border=\"1\" class=\"dataframe\">\n",
       "  <thead>\n",
       "    <tr style=\"text-align: right;\">\n",
       "      <th></th>\n",
       "      <th>NumberMissing</th>\n",
       "      <th>PercentageMissing</th>\n",
       "    </tr>\n",
       "  </thead>\n",
       "  <tbody>\n",
       "    <tr>\n",
       "      <th>HomePlanet</th>\n",
       "      <td>87</td>\n",
       "      <td>2.03</td>\n",
       "    </tr>\n",
       "    <tr>\n",
       "      <th>CryoSleep</th>\n",
       "      <td>93</td>\n",
       "      <td>2.17</td>\n",
       "    </tr>\n",
       "    <tr>\n",
       "      <th>Cabin</th>\n",
       "      <td>100</td>\n",
       "      <td>2.34</td>\n",
       "    </tr>\n",
       "    <tr>\n",
       "      <th>Destination</th>\n",
       "      <td>92</td>\n",
       "      <td>2.15</td>\n",
       "    </tr>\n",
       "    <tr>\n",
       "      <th>Age</th>\n",
       "      <td>91</td>\n",
       "      <td>2.13</td>\n",
       "    </tr>\n",
       "    <tr>\n",
       "      <th>VIP</th>\n",
       "      <td>93</td>\n",
       "      <td>2.17</td>\n",
       "    </tr>\n",
       "    <tr>\n",
       "      <th>RoomService</th>\n",
       "      <td>82</td>\n",
       "      <td>1.92</td>\n",
       "    </tr>\n",
       "    <tr>\n",
       "      <th>FoodCourt</th>\n",
       "      <td>106</td>\n",
       "      <td>2.48</td>\n",
       "    </tr>\n",
       "    <tr>\n",
       "      <th>ShoppingMall</th>\n",
       "      <td>98</td>\n",
       "      <td>2.29</td>\n",
       "    </tr>\n",
       "    <tr>\n",
       "      <th>Spa</th>\n",
       "      <td>101</td>\n",
       "      <td>2.36</td>\n",
       "    </tr>\n",
       "    <tr>\n",
       "      <th>VRDeck</th>\n",
       "      <td>80</td>\n",
       "      <td>1.87</td>\n",
       "    </tr>\n",
       "    <tr>\n",
       "      <th>Name</th>\n",
       "      <td>94</td>\n",
       "      <td>2.20</td>\n",
       "    </tr>\n",
       "  </tbody>\n",
       "</table>\n",
       "</div>"
      ],
      "text/plain": [
       "              NumberMissing  PercentageMissing\n",
       "HomePlanet               87               2.03\n",
       "CryoSleep                93               2.17\n",
       "Cabin                   100               2.34\n",
       "Destination              92               2.15\n",
       "Age                      91               2.13\n",
       "VIP                      93               2.17\n",
       "RoomService              82               1.92\n",
       "FoodCourt               106               2.48\n",
       "ShoppingMall             98               2.29\n",
       "Spa                     101               2.36\n",
       "VRDeck                   80               1.87\n",
       "Name                     94               2.20"
      ]
     },
     "execution_count": 7,
     "metadata": {},
     "output_type": "execute_result"
    }
   ],
   "source": [
    "missing_values = functions.MissingValues(test)\n",
    "missing_values"
   ]
  },
  {
   "cell_type": "markdown",
   "id": "fe6f6fc2",
   "metadata": {},
   "source": [
    "# **Information Extraction**"
   ]
  },
  {
   "cell_type": "markdown",
   "id": "f2c97b44",
   "metadata": {},
   "source": [
    "## **PassengerId**"
   ]
  },
  {
   "cell_type": "code",
   "execution_count": 8,
   "id": "dd8456bd",
   "metadata": {},
   "outputs": [],
   "source": [
    "train['Group'] = train['PassengerId'].apply(lambda x: x.split('_')[0]).astype(int)\n",
    "test['Group'] = test['PassengerId'].apply(lambda x: x.split('_')[0]).astype(int)"
   ]
  },
  {
   "cell_type": "code",
   "execution_count": 9,
   "id": "728b78d5",
   "metadata": {},
   "outputs": [],
   "source": [
    "train['GroupSize']=train['Group'].map(lambda x: pd.concat([train['Group'], test['Group']]).value_counts()[x])\n",
    "test['GroupSize']=test['Group'].map(lambda x: pd.concat([train['Group'], test['Group']]).value_counts()[x])"
   ]
  },
  {
   "cell_type": "code",
   "execution_count": 10,
   "id": "846f40c4",
   "metadata": {},
   "outputs": [],
   "source": [
    "column = train.pop('Group')\n",
    "train.insert(1, 'Group', column)\n",
    "\n",
    "column = test.pop('Group')\n",
    "test.insert(1, 'Group', column)\n",
    "\n",
    "column = train.pop('GroupSize') \n",
    "train.insert(2, 'GroupSize', column)    \n",
    "\n",
    "column = test.pop('GroupSize')  \n",
    "test.insert(2, 'GroupSize', column)"
   ]
  },
  {
   "cell_type": "markdown",
   "id": "27e0288b",
   "metadata": {},
   "source": [
    "## **Lone Traveler**"
   ]
  },
  {
   "cell_type": "code",
   "execution_count": 11,
   "id": "9d1e6450",
   "metadata": {},
   "outputs": [],
   "source": [
    "train['LoneTraveler'] = train['GroupSize'].apply(lambda x: 1 if x == 1 else 0)\n",
    "test['LoneTraveler'] = test['GroupSize'].apply(lambda x: 1 if x == 1 else 0)"
   ]
  },
  {
   "cell_type": "code",
   "execution_count": 12,
   "id": "93098d45",
   "metadata": {},
   "outputs": [],
   "source": [
    "column = train.pop('LoneTraveler')\n",
    "train.insert(3, 'LoneTraveler', column)\n",
    "\n",
    "column = test.pop('LoneTraveler')\n",
    "test.insert(3, 'LoneTraveler', column)"
   ]
  },
  {
   "cell_type": "markdown",
   "id": "39b0578f",
   "metadata": {},
   "source": [
    "## **Cabin**"
   ]
  },
  {
   "cell_type": "code",
   "execution_count": 13,
   "id": "f37c41d8",
   "metadata": {},
   "outputs": [],
   "source": [
    "train[['CabinDeck', 'CabinNumber', 'CabinSide']] = train['Cabin'].str.split('/', expand=True)\n",
    "test[['CabinDeck', 'CabinNumber', 'CabinSide']] = test['Cabin'].str.split('/', expand=True)"
   ]
  },
  {
   "cell_type": "code",
   "execution_count": 14,
   "id": "5cb2234a",
   "metadata": {},
   "outputs": [],
   "source": [
    "column = train.pop('CabinDeck')\n",
    "train.insert(5, 'CabinDeck', column)\n",
    "column = test.pop('CabinDeck')\n",
    "test.insert(5, 'CabinDeck', column)\n",
    "\n",
    "column = train.pop('CabinNumber') \n",
    "train.insert(6, 'CabinNumber', column)  \n",
    "column = test.pop('CabinNumber') \n",
    "test.insert(6, 'CabinNumber', column)    \n",
    "\n",
    "column = test.pop('CabinSide')  \n",
    "test.insert(7, 'CabinSide', column)\n",
    "column = train.pop('CabinSide') \n",
    "train.insert(7, 'CabinSide', column)    \n",
    "\n",
    "train.drop('Cabin', axis=1, inplace=True)\n",
    "test.drop('Cabin', axis=1, inplace=True)"
   ]
  },
  {
   "cell_type": "code",
   "execution_count": 15,
   "id": "b37a280d",
   "metadata": {},
   "outputs": [
    {
     "data": {
      "text/html": [
       "<div>\n",
       "<style scoped>\n",
       "    .dataframe tbody tr th:only-of-type {\n",
       "        vertical-align: middle;\n",
       "    }\n",
       "\n",
       "    .dataframe tbody tr th {\n",
       "        vertical-align: top;\n",
       "    }\n",
       "\n",
       "    .dataframe thead th {\n",
       "        text-align: right;\n",
       "    }\n",
       "</style>\n",
       "<table border=\"1\" class=\"dataframe\">\n",
       "  <thead>\n",
       "    <tr style=\"text-align: right;\">\n",
       "      <th></th>\n",
       "      <th>PassengerId</th>\n",
       "      <th>Group</th>\n",
       "      <th>GroupSize</th>\n",
       "      <th>LoneTraveler</th>\n",
       "      <th>HomePlanet</th>\n",
       "      <th>CabinDeck</th>\n",
       "      <th>CabinNumber</th>\n",
       "      <th>CabinSide</th>\n",
       "      <th>CryoSleep</th>\n",
       "      <th>Destination</th>\n",
       "      <th>Age</th>\n",
       "      <th>VIP</th>\n",
       "      <th>RoomService</th>\n",
       "      <th>FoodCourt</th>\n",
       "      <th>ShoppingMall</th>\n",
       "      <th>Spa</th>\n",
       "      <th>VRDeck</th>\n",
       "      <th>Name</th>\n",
       "      <th>Transported</th>\n",
       "    </tr>\n",
       "  </thead>\n",
       "  <tbody>\n",
       "    <tr>\n",
       "      <th>0</th>\n",
       "      <td>0001_01</td>\n",
       "      <td>1</td>\n",
       "      <td>1</td>\n",
       "      <td>1</td>\n",
       "      <td>Europa</td>\n",
       "      <td>B</td>\n",
       "      <td>0</td>\n",
       "      <td>P</td>\n",
       "      <td>False</td>\n",
       "      <td>TRAPPIST-1e</td>\n",
       "      <td>39.0</td>\n",
       "      <td>False</td>\n",
       "      <td>0.0</td>\n",
       "      <td>0.0</td>\n",
       "      <td>0.0</td>\n",
       "      <td>0.0</td>\n",
       "      <td>0.0</td>\n",
       "      <td>Maham Ofracculy</td>\n",
       "      <td>False</td>\n",
       "    </tr>\n",
       "    <tr>\n",
       "      <th>1</th>\n",
       "      <td>0002_01</td>\n",
       "      <td>2</td>\n",
       "      <td>1</td>\n",
       "      <td>1</td>\n",
       "      <td>Earth</td>\n",
       "      <td>F</td>\n",
       "      <td>0</td>\n",
       "      <td>S</td>\n",
       "      <td>False</td>\n",
       "      <td>TRAPPIST-1e</td>\n",
       "      <td>24.0</td>\n",
       "      <td>False</td>\n",
       "      <td>109.0</td>\n",
       "      <td>9.0</td>\n",
       "      <td>25.0</td>\n",
       "      <td>549.0</td>\n",
       "      <td>44.0</td>\n",
       "      <td>Juanna Vines</td>\n",
       "      <td>True</td>\n",
       "    </tr>\n",
       "    <tr>\n",
       "      <th>2</th>\n",
       "      <td>0003_01</td>\n",
       "      <td>3</td>\n",
       "      <td>2</td>\n",
       "      <td>0</td>\n",
       "      <td>Europa</td>\n",
       "      <td>A</td>\n",
       "      <td>0</td>\n",
       "      <td>S</td>\n",
       "      <td>False</td>\n",
       "      <td>TRAPPIST-1e</td>\n",
       "      <td>58.0</td>\n",
       "      <td>True</td>\n",
       "      <td>43.0</td>\n",
       "      <td>3576.0</td>\n",
       "      <td>0.0</td>\n",
       "      <td>6715.0</td>\n",
       "      <td>49.0</td>\n",
       "      <td>Altark Susent</td>\n",
       "      <td>False</td>\n",
       "    </tr>\n",
       "    <tr>\n",
       "      <th>3</th>\n",
       "      <td>0003_02</td>\n",
       "      <td>3</td>\n",
       "      <td>2</td>\n",
       "      <td>0</td>\n",
       "      <td>Europa</td>\n",
       "      <td>A</td>\n",
       "      <td>0</td>\n",
       "      <td>S</td>\n",
       "      <td>False</td>\n",
       "      <td>TRAPPIST-1e</td>\n",
       "      <td>33.0</td>\n",
       "      <td>False</td>\n",
       "      <td>0.0</td>\n",
       "      <td>1283.0</td>\n",
       "      <td>371.0</td>\n",
       "      <td>3329.0</td>\n",
       "      <td>193.0</td>\n",
       "      <td>Solam Susent</td>\n",
       "      <td>False</td>\n",
       "    </tr>\n",
       "    <tr>\n",
       "      <th>4</th>\n",
       "      <td>0004_01</td>\n",
       "      <td>4</td>\n",
       "      <td>1</td>\n",
       "      <td>1</td>\n",
       "      <td>Earth</td>\n",
       "      <td>F</td>\n",
       "      <td>1</td>\n",
       "      <td>S</td>\n",
       "      <td>False</td>\n",
       "      <td>TRAPPIST-1e</td>\n",
       "      <td>16.0</td>\n",
       "      <td>False</td>\n",
       "      <td>303.0</td>\n",
       "      <td>70.0</td>\n",
       "      <td>151.0</td>\n",
       "      <td>565.0</td>\n",
       "      <td>2.0</td>\n",
       "      <td>Willy Santantines</td>\n",
       "      <td>True</td>\n",
       "    </tr>\n",
       "  </tbody>\n",
       "</table>\n",
       "</div>"
      ],
      "text/plain": [
       "  PassengerId  Group  GroupSize  LoneTraveler HomePlanet CabinDeck  \\\n",
       "0     0001_01      1          1             1     Europa         B   \n",
       "1     0002_01      2          1             1      Earth         F   \n",
       "2     0003_01      3          2             0     Europa         A   \n",
       "3     0003_02      3          2             0     Europa         A   \n",
       "4     0004_01      4          1             1      Earth         F   \n",
       "\n",
       "  CabinNumber CabinSide CryoSleep  Destination   Age    VIP  RoomService  \\\n",
       "0           0         P     False  TRAPPIST-1e  39.0  False          0.0   \n",
       "1           0         S     False  TRAPPIST-1e  24.0  False        109.0   \n",
       "2           0         S     False  TRAPPIST-1e  58.0   True         43.0   \n",
       "3           0         S     False  TRAPPIST-1e  33.0  False          0.0   \n",
       "4           1         S     False  TRAPPIST-1e  16.0  False        303.0   \n",
       "\n",
       "   FoodCourt  ShoppingMall     Spa  VRDeck               Name  Transported  \n",
       "0        0.0           0.0     0.0     0.0    Maham Ofracculy        False  \n",
       "1        9.0          25.0   549.0    44.0       Juanna Vines         True  \n",
       "2     3576.0           0.0  6715.0    49.0      Altark Susent        False  \n",
       "3     1283.0         371.0  3329.0   193.0       Solam Susent        False  \n",
       "4       70.0         151.0   565.0     2.0  Willy Santantines         True  "
      ]
     },
     "execution_count": 15,
     "metadata": {},
     "output_type": "execute_result"
    }
   ],
   "source": [
    "train.head()"
   ]
  },
  {
   "cell_type": "markdown",
   "id": "1da43843",
   "metadata": {},
   "source": [
    "## **Name**"
   ]
  },
  {
   "cell_type": "code",
   "execution_count": 16,
   "id": "49cac816",
   "metadata": {},
   "outputs": [],
   "source": [
    "train[['FirstName', 'LastName']] = train['Name'].str.split(' ', expand=True)\n",
    "test[['FirstName', 'LastName']] = test['Name'].str.split(' ', expand=True)"
   ]
  },
  {
   "cell_type": "code",
   "execution_count": 17,
   "id": "ec663070",
   "metadata": {},
   "outputs": [],
   "source": [
    "train.drop('Name', axis=1, inplace=True)\n",
    "test.drop('Name', axis=1, inplace=True)"
   ]
  },
  {
   "cell_type": "markdown",
   "id": "3586fd7b",
   "metadata": {},
   "source": [
    "## **Amount Spent**"
   ]
  },
  {
   "cell_type": "code",
   "execution_count": 18,
   "id": "01366b99",
   "metadata": {},
   "outputs": [],
   "source": [
    "train['AmountSpent'] = train[['RoomService', 'FoodCourt', 'ShoppingMall', 'Spa', 'VRDeck']].fillna(0).sum(axis=1)\n",
    "test['AmountSpent'] = test[['RoomService', 'FoodCourt', 'ShoppingMall', 'Spa', 'VRDeck']].fillna(0).sum(axis=1)"
   ]
  },
  {
   "cell_type": "code",
   "execution_count": 19,
   "id": "d47e37ea",
   "metadata": {},
   "outputs": [],
   "source": [
    "column = train.pop('AmountSpent')\n",
    "train.insert(17, 'AmountSpent', column)\n",
    "\n",
    "column = test.pop('AmountSpent')\n",
    "test.insert(17, 'AmountSpent', column)"
   ]
  },
  {
   "cell_type": "markdown",
   "id": "e57ba326",
   "metadata": {},
   "source": [
    "## **Spent**"
   ]
  },
  {
   "cell_type": "code",
   "execution_count": 20,
   "id": "84589597",
   "metadata": {},
   "outputs": [],
   "source": [
    "train['Spent'] = train['AmountSpent'].apply(lambda x: 1 if x > 0 else 0)\n",
    "test['Spent'] = test['AmountSpent'].apply(lambda x: 1 if x > 0 else 0)"
   ]
  },
  {
   "cell_type": "code",
   "execution_count": 21,
   "id": "30965bc2",
   "metadata": {},
   "outputs": [],
   "source": [
    "column = train.pop('Spent')\n",
    "train.insert(18, 'Spent', column)\n",
    "\n",
    "column = test.pop('Spent')\n",
    "test.insert(18, 'Spent', column)"
   ]
  },
  {
   "cell_type": "markdown",
   "id": "4466099a",
   "metadata": {},
   "source": [
    "## **Age Groups**"
   ]
  },
  {
   "cell_type": "code",
   "execution_count": 22,
   "id": "e5964661",
   "metadata": {},
   "outputs": [],
   "source": [
    "train['AgeGroup']=np.nan\n",
    "train.loc[train['Age']<=10,'AgeGroup']='0-10'\n",
    "train.loc[(train['Age']>10) & (train['Age']<=20),'AgeGroup']='11-20'\n",
    "train.loc[(train['Age']>20) & (train['Age']<=30),'AgeGroup']='21-30'\n",
    "train.loc[(train['Age']>30) & (train['Age']<=40),'AgeGroup']='31-40'\n",
    "train.loc[(train['Age']>40) & (train['Age']<=50),'AgeGroup']='41-50'\n",
    "train.loc[(train['Age']>50) & (train['Age']<=60),'AgeGroup']='51-60'\n",
    "train.loc[(train['Age']>60) & (train['Age']<=70),'AgeGroup']='61-70'\n",
    "train.loc[(train['Age']>70) & (train['Age']<=80),'AgeGroup']='71-80'\n",
    "\n",
    "# New features - test set\n",
    "test['AgeGroup']=np.nan\n",
    "test.loc[test['Age']<=10,'AgeGroup']='0-10'\n",
    "test.loc[(test['Age']>10) & (test['Age']<=20),'AgeGroup']='11-20'\n",
    "test.loc[(test['Age']>20) & (test['Age']<=30),'AgeGroup']='21-30'\n",
    "test.loc[(test['Age']>30) & (test['Age']<=40),'AgeGroup']='31-40'\n",
    "test.loc[(test['Age']>40) & (test['Age']<=50),'AgeGroup']='41-50'\n",
    "test.loc[(test['Age']>50) & (test['Age']<=60),'AgeGroup']='51-60'\n",
    "test.loc[(test['Age']>60) & (test['Age']<=70),'AgeGroup']='61-70'\n",
    "test.loc[(test['Age']>70) & (test['Age']<=80),'AgeGroup']='71-80'"
   ]
  },
  {
   "cell_type": "code",
   "execution_count": 23,
   "id": "6f691849",
   "metadata": {},
   "outputs": [],
   "source": [
    "column = train.pop('AgeGroup')\n",
    "train.insert(11, 'AgeGroup', column)\n",
    "\n",
    "column = test.pop('AgeGroup')\n",
    "test.insert(11, 'AgeGroup', column)"
   ]
  },
  {
   "cell_type": "markdown",
   "id": "f2d00853",
   "metadata": {},
   "source": [
    "## **Family Size**"
   ]
  },
  {
   "cell_type": "code",
   "execution_count": 24,
   "id": "e10e97eb",
   "metadata": {},
   "outputs": [],
   "source": [
    "train['LastName'].fillna('Unknown', inplace=True)\n",
    "test['LastName'].fillna('Unknown', inplace=True)\n",
    "\n",
    "train['FamilySize']=train['LastName'].map(lambda x: pd.concat([train['LastName'],test['LastName']]).value_counts()[x])\n",
    "test['FamilySize']=test['LastName'].map(lambda x: pd.concat([train['LastName'],test['LastName']]).value_counts()[x])\n",
    "\n",
    "column = train.pop('FamilySize')\n",
    "train.insert(3, 'FamilySize', column)\n",
    "\n",
    "column = test.pop('FamilySize')\n",
    "test.insert(3, 'FamilySize', column)"
   ]
  },
  {
   "cell_type": "markdown",
   "id": "9ff84479",
   "metadata": {},
   "source": [
    "# **Cabin Side Missing Values**"
   ]
  },
  {
   "cell_type": "code",
   "execution_count": 25,
   "id": "132a8725",
   "metadata": {},
   "outputs": [],
   "source": [
    "SCS_gb=train[train['GroupSize']>1].groupby(['LastName','CabinSide'])['CabinSide'].size().unstack().fillna(0)"
   ]
  },
  {
   "cell_type": "code",
   "execution_count": 26,
   "id": "832ed186",
   "metadata": {},
   "outputs": [
    {
     "name": "stdout",
     "output_type": "stream",
     "text": [
      "Percentage of families all on the same cabin side: 83.5 %\n"
     ]
    },
    {
     "data": {
      "text/html": [
       "<div>\n",
       "<style scoped>\n",
       "    .dataframe tbody tr th:only-of-type {\n",
       "        vertical-align: middle;\n",
       "    }\n",
       "\n",
       "    .dataframe tbody tr th {\n",
       "        vertical-align: top;\n",
       "    }\n",
       "\n",
       "    .dataframe thead th {\n",
       "        text-align: right;\n",
       "    }\n",
       "</style>\n",
       "<table border=\"1\" class=\"dataframe\">\n",
       "  <thead>\n",
       "    <tr style=\"text-align: right;\">\n",
       "      <th>CabinSide</th>\n",
       "      <th>P</th>\n",
       "      <th>S</th>\n",
       "      <th>Ratio</th>\n",
       "    </tr>\n",
       "    <tr>\n",
       "      <th>LastName</th>\n",
       "      <th></th>\n",
       "      <th></th>\n",
       "      <th></th>\n",
       "    </tr>\n",
       "  </thead>\n",
       "  <tbody>\n",
       "    <tr>\n",
       "      <th>Acobson</th>\n",
       "      <td>0.0</td>\n",
       "      <td>3.0</td>\n",
       "      <td>0.000000</td>\n",
       "    </tr>\n",
       "    <tr>\n",
       "      <th>Adavisons</th>\n",
       "      <td>6.0</td>\n",
       "      <td>0.0</td>\n",
       "      <td>1.000000</td>\n",
       "    </tr>\n",
       "    <tr>\n",
       "      <th>Admingried</th>\n",
       "      <td>0.0</td>\n",
       "      <td>4.0</td>\n",
       "      <td>0.000000</td>\n",
       "    </tr>\n",
       "    <tr>\n",
       "      <th>Ailled</th>\n",
       "      <td>0.0</td>\n",
       "      <td>2.0</td>\n",
       "      <td>0.000000</td>\n",
       "    </tr>\n",
       "    <tr>\n",
       "      <th>Ainatint</th>\n",
       "      <td>2.0</td>\n",
       "      <td>1.0</td>\n",
       "      <td>0.666667</td>\n",
       "    </tr>\n",
       "  </tbody>\n",
       "</table>\n",
       "</div>"
      ],
      "text/plain": [
       "CabinSide     P    S     Ratio\n",
       "LastName                      \n",
       "Acobson     0.0  3.0  0.000000\n",
       "Adavisons   6.0  0.0  1.000000\n",
       "Admingried  0.0  4.0  0.000000\n",
       "Ailled      0.0  2.0  0.000000\n",
       "Ainatint    2.0  1.0  0.666667"
      ]
     },
     "execution_count": 26,
     "metadata": {},
     "output_type": "execute_result"
    }
   ],
   "source": [
    "# Ratio of sides\n",
    "SCS_gb['Ratio']=SCS_gb['P']/(SCS_gb['P']+SCS_gb['S'])\n",
    "\n",
    "# Print proportion\n",
    "print('Percentage of families all on the same cabin side:', 100*np.round((SCS_gb['Ratio'].isin([0,1])).sum()/len(SCS_gb),3),'%')\n",
    "\n",
    "# Another view of the same information\n",
    "SCS_gb.head()"
   ]
  },
  {
   "cell_type": "markdown",
   "id": "b834a13e",
   "metadata": {},
   "source": [
    "# **Train Data**"
   ]
  },
  {
   "cell_type": "code",
   "execution_count": 29,
   "id": "8750b447",
   "metadata": {},
   "outputs": [],
   "source": [
    "# Missing values before\n",
    "CS_bef=train['CabinSide'].isna().sum()\n",
    "\n",
    "# Drop ratio column\n",
    "SCS_gb.drop('Ratio', axis=1, inplace=True)\n",
    "\n",
    "# Passengers with missing Cabin side and in a family with known Cabin side\n",
    "SCS_index=train[train['CabinSide'].isna()][(train[train['CabinSide'].isna()]['LastName']).isin(SCS_gb.index)].index\n",
    "\n",
    "# Fill corresponding missing values\n",
    "train.loc[SCS_index,'CabinSide']=train.iloc[SCS_index,:]['LastName'].map(lambda x: SCS_gb.idxmax(axis=1)[x])"
   ]
  },
  {
   "cell_type": "code",
   "execution_count": 30,
   "id": "dc5b6c8d",
   "metadata": {},
   "outputs": [
    {
     "data": {
      "text/html": [
       "<div>\n",
       "<style scoped>\n",
       "    .dataframe tbody tr th:only-of-type {\n",
       "        vertical-align: middle;\n",
       "    }\n",
       "\n",
       "    .dataframe tbody tr th {\n",
       "        vertical-align: top;\n",
       "    }\n",
       "\n",
       "    .dataframe thead th {\n",
       "        text-align: right;\n",
       "    }\n",
       "</style>\n",
       "<table border=\"1\" class=\"dataframe\">\n",
       "  <thead>\n",
       "    <tr style=\"text-align: right;\">\n",
       "      <th></th>\n",
       "      <th>NumberMissing</th>\n",
       "      <th>PercentageMissing</th>\n",
       "    </tr>\n",
       "  </thead>\n",
       "  <tbody>\n",
       "    <tr>\n",
       "      <th>HomePlanet</th>\n",
       "      <td>201</td>\n",
       "      <td>2.31</td>\n",
       "    </tr>\n",
       "    <tr>\n",
       "      <th>CabinDeck</th>\n",
       "      <td>199</td>\n",
       "      <td>2.29</td>\n",
       "    </tr>\n",
       "    <tr>\n",
       "      <th>CabinNumber</th>\n",
       "      <td>199</td>\n",
       "      <td>2.29</td>\n",
       "    </tr>\n",
       "    <tr>\n",
       "      <th>CabinSide</th>\n",
       "      <td>55</td>\n",
       "      <td>0.63</td>\n",
       "    </tr>\n",
       "    <tr>\n",
       "      <th>CryoSleep</th>\n",
       "      <td>217</td>\n",
       "      <td>2.50</td>\n",
       "    </tr>\n",
       "    <tr>\n",
       "      <th>Destination</th>\n",
       "      <td>182</td>\n",
       "      <td>2.09</td>\n",
       "    </tr>\n",
       "    <tr>\n",
       "      <th>Age</th>\n",
       "      <td>179</td>\n",
       "      <td>2.06</td>\n",
       "    </tr>\n",
       "    <tr>\n",
       "      <th>AgeGroup</th>\n",
       "      <td>179</td>\n",
       "      <td>2.06</td>\n",
       "    </tr>\n",
       "    <tr>\n",
       "      <th>VIP</th>\n",
       "      <td>203</td>\n",
       "      <td>2.34</td>\n",
       "    </tr>\n",
       "    <tr>\n",
       "      <th>RoomService</th>\n",
       "      <td>181</td>\n",
       "      <td>2.08</td>\n",
       "    </tr>\n",
       "    <tr>\n",
       "      <th>FoodCourt</th>\n",
       "      <td>183</td>\n",
       "      <td>2.11</td>\n",
       "    </tr>\n",
       "    <tr>\n",
       "      <th>ShoppingMall</th>\n",
       "      <td>208</td>\n",
       "      <td>2.39</td>\n",
       "    </tr>\n",
       "    <tr>\n",
       "      <th>Spa</th>\n",
       "      <td>183</td>\n",
       "      <td>2.11</td>\n",
       "    </tr>\n",
       "    <tr>\n",
       "      <th>VRDeck</th>\n",
       "      <td>188</td>\n",
       "      <td>2.16</td>\n",
       "    </tr>\n",
       "    <tr>\n",
       "      <th>FirstName</th>\n",
       "      <td>200</td>\n",
       "      <td>2.30</td>\n",
       "    </tr>\n",
       "  </tbody>\n",
       "</table>\n",
       "</div>"
      ],
      "text/plain": [
       "              NumberMissing  PercentageMissing\n",
       "HomePlanet              201               2.31\n",
       "CabinDeck               199               2.29\n",
       "CabinNumber             199               2.29\n",
       "CabinSide                55               0.63\n",
       "CryoSleep               217               2.50\n",
       "Destination             182               2.09\n",
       "Age                     179               2.06\n",
       "AgeGroup                179               2.06\n",
       "VIP                     203               2.34\n",
       "RoomService             181               2.08\n",
       "FoodCourt               183               2.11\n",
       "ShoppingMall            208               2.39\n",
       "Spa                     183               2.11\n",
       "VRDeck                  188               2.16\n",
       "FirstName               200               2.30"
      ]
     },
     "execution_count": 30,
     "metadata": {},
     "output_type": "execute_result"
    }
   ],
   "source": [
    "missing_values = functions.MissingValues(train)\n",
    "missing_values"
   ]
  },
  {
   "cell_type": "code",
   "execution_count": 31,
   "id": "0e1270ef",
   "metadata": {},
   "outputs": [
    {
     "name": "stdout",
     "output_type": "stream",
     "text": [
      "#Cabin_side missing values before: 55\n",
      "#Cabin_side missing values after: 0\n"
     ]
    }
   ],
   "source": [
    "# Missing values before\n",
    "CS_bef=train['CabinSide'].isna().sum()\n",
    "\n",
    "# Fill remaining missing values with outlier\n",
    "train.loc[train['CabinSide'].isna(),'CabinSide']='U'\n",
    "\n",
    "# Print number of missing values left\n",
    "print('#Cabin_side missing values before:',CS_bef)\n",
    "print('#Cabin_side missing values after:',train['CabinSide'].isna().sum())"
   ]
  },
  {
   "cell_type": "markdown",
   "id": "3ebe06fc",
   "metadata": {},
   "source": [
    "# **Test Data**"
   ]
  },
  {
   "cell_type": "code",
   "execution_count": 33,
   "id": "bc291901",
   "metadata": {},
   "outputs": [],
   "source": [
    "SCS_gb=test[test['GroupSize']>1].groupby(['LastName','CabinSide'])['CabinSide'].size().unstack().fillna(0)"
   ]
  },
  {
   "cell_type": "code",
   "execution_count": 34,
   "id": "4804250a",
   "metadata": {},
   "outputs": [
    {
     "name": "stdout",
     "output_type": "stream",
     "text": [
      "Percentage of families all on the same cabin side: 90.8 %\n"
     ]
    },
    {
     "data": {
      "text/html": [
       "<div>\n",
       "<style scoped>\n",
       "    .dataframe tbody tr th:only-of-type {\n",
       "        vertical-align: middle;\n",
       "    }\n",
       "\n",
       "    .dataframe tbody tr th {\n",
       "        vertical-align: top;\n",
       "    }\n",
       "\n",
       "    .dataframe thead th {\n",
       "        text-align: right;\n",
       "    }\n",
       "</style>\n",
       "<table border=\"1\" class=\"dataframe\">\n",
       "  <thead>\n",
       "    <tr style=\"text-align: right;\">\n",
       "      <th>CabinSide</th>\n",
       "      <th>P</th>\n",
       "      <th>S</th>\n",
       "      <th>Ratio</th>\n",
       "    </tr>\n",
       "    <tr>\n",
       "      <th>LastName</th>\n",
       "      <th></th>\n",
       "      <th></th>\n",
       "      <th></th>\n",
       "    </tr>\n",
       "  </thead>\n",
       "  <tbody>\n",
       "    <tr>\n",
       "      <th>Acobsond</th>\n",
       "      <td>3.0</td>\n",
       "      <td>0.0</td>\n",
       "      <td>1.0</td>\n",
       "    </tr>\n",
       "    <tr>\n",
       "      <th>Aginge</th>\n",
       "      <td>3.0</td>\n",
       "      <td>0.0</td>\n",
       "      <td>1.0</td>\n",
       "    </tr>\n",
       "    <tr>\n",
       "      <th>Aillyber</th>\n",
       "      <td>3.0</td>\n",
       "      <td>0.0</td>\n",
       "      <td>1.0</td>\n",
       "    </tr>\n",
       "    <tr>\n",
       "      <th>Aindlylid</th>\n",
       "      <td>0.0</td>\n",
       "      <td>1.0</td>\n",
       "      <td>0.0</td>\n",
       "    </tr>\n",
       "    <tr>\n",
       "      <th>Airdring</th>\n",
       "      <td>0.0</td>\n",
       "      <td>2.0</td>\n",
       "      <td>0.0</td>\n",
       "    </tr>\n",
       "  </tbody>\n",
       "</table>\n",
       "</div>"
      ],
      "text/plain": [
       "CabinSide    P    S  Ratio\n",
       "LastName                  \n",
       "Acobsond   3.0  0.0    1.0\n",
       "Aginge     3.0  0.0    1.0\n",
       "Aillyber   3.0  0.0    1.0\n",
       "Aindlylid  0.0  1.0    0.0\n",
       "Airdring   0.0  2.0    0.0"
      ]
     },
     "execution_count": 34,
     "metadata": {},
     "output_type": "execute_result"
    }
   ],
   "source": [
    "# Ratio of sides\n",
    "SCS_gb['Ratio']=SCS_gb['P']/(SCS_gb['P']+SCS_gb['S'])\n",
    "\n",
    "# Print proportion\n",
    "print('Percentage of families all on the same cabin side:', 100*np.round((SCS_gb['Ratio'].isin([0,1])).sum()/len(SCS_gb),3),'%')\n",
    "\n",
    "# Another view of the same information\n",
    "SCS_gb.head()"
   ]
  },
  {
   "cell_type": "code",
   "execution_count": 35,
   "id": "37be3adc",
   "metadata": {},
   "outputs": [],
   "source": [
    "# Missing values before\n",
    "CS_bef=test['CabinSide'].isna().sum()\n",
    "\n",
    "# Drop ratio column\n",
    "SCS_gb.drop('Ratio', axis=1, inplace=True)\n",
    "\n",
    "# Passengers with missing Cabin side and in a family with known Cabin side\n",
    "SCS_index=test[test['CabinSide'].isna()][(test[test['CabinSide'].isna()]['LastName']).isin(SCS_gb.index)].index\n",
    "\n",
    "# Fill corresponding missing values\n",
    "test.loc[SCS_index,'CabinSide']=test.iloc[SCS_index,:]['LastName'].map(lambda x: SCS_gb.idxmax(axis=1)[x])"
   ]
  },
  {
   "cell_type": "code",
   "execution_count": 36,
   "id": "0f922ef5",
   "metadata": {},
   "outputs": [
    {
     "data": {
      "text/html": [
       "<div>\n",
       "<style scoped>\n",
       "    .dataframe tbody tr th:only-of-type {\n",
       "        vertical-align: middle;\n",
       "    }\n",
       "\n",
       "    .dataframe tbody tr th {\n",
       "        vertical-align: top;\n",
       "    }\n",
       "\n",
       "    .dataframe thead th {\n",
       "        text-align: right;\n",
       "    }\n",
       "</style>\n",
       "<table border=\"1\" class=\"dataframe\">\n",
       "  <thead>\n",
       "    <tr style=\"text-align: right;\">\n",
       "      <th></th>\n",
       "      <th>NumberMissing</th>\n",
       "      <th>PercentageMissing</th>\n",
       "    </tr>\n",
       "  </thead>\n",
       "  <tbody>\n",
       "    <tr>\n",
       "      <th>HomePlanet</th>\n",
       "      <td>87</td>\n",
       "      <td>2.03</td>\n",
       "    </tr>\n",
       "    <tr>\n",
       "      <th>CabinDeck</th>\n",
       "      <td>100</td>\n",
       "      <td>2.34</td>\n",
       "    </tr>\n",
       "    <tr>\n",
       "      <th>CabinNumber</th>\n",
       "      <td>100</td>\n",
       "      <td>2.34</td>\n",
       "    </tr>\n",
       "    <tr>\n",
       "      <th>CabinSide</th>\n",
       "      <td>45</td>\n",
       "      <td>1.05</td>\n",
       "    </tr>\n",
       "    <tr>\n",
       "      <th>CryoSleep</th>\n",
       "      <td>93</td>\n",
       "      <td>2.17</td>\n",
       "    </tr>\n",
       "    <tr>\n",
       "      <th>Destination</th>\n",
       "      <td>92</td>\n",
       "      <td>2.15</td>\n",
       "    </tr>\n",
       "    <tr>\n",
       "      <th>Age</th>\n",
       "      <td>91</td>\n",
       "      <td>2.13</td>\n",
       "    </tr>\n",
       "    <tr>\n",
       "      <th>AgeGroup</th>\n",
       "      <td>91</td>\n",
       "      <td>2.13</td>\n",
       "    </tr>\n",
       "    <tr>\n",
       "      <th>VIP</th>\n",
       "      <td>93</td>\n",
       "      <td>2.17</td>\n",
       "    </tr>\n",
       "    <tr>\n",
       "      <th>RoomService</th>\n",
       "      <td>82</td>\n",
       "      <td>1.92</td>\n",
       "    </tr>\n",
       "    <tr>\n",
       "      <th>FoodCourt</th>\n",
       "      <td>106</td>\n",
       "      <td>2.48</td>\n",
       "    </tr>\n",
       "    <tr>\n",
       "      <th>ShoppingMall</th>\n",
       "      <td>98</td>\n",
       "      <td>2.29</td>\n",
       "    </tr>\n",
       "    <tr>\n",
       "      <th>Spa</th>\n",
       "      <td>101</td>\n",
       "      <td>2.36</td>\n",
       "    </tr>\n",
       "    <tr>\n",
       "      <th>VRDeck</th>\n",
       "      <td>80</td>\n",
       "      <td>1.87</td>\n",
       "    </tr>\n",
       "    <tr>\n",
       "      <th>FirstName</th>\n",
       "      <td>94</td>\n",
       "      <td>2.20</td>\n",
       "    </tr>\n",
       "  </tbody>\n",
       "</table>\n",
       "</div>"
      ],
      "text/plain": [
       "              NumberMissing  PercentageMissing\n",
       "HomePlanet               87               2.03\n",
       "CabinDeck               100               2.34\n",
       "CabinNumber             100               2.34\n",
       "CabinSide                45               1.05\n",
       "CryoSleep                93               2.17\n",
       "Destination              92               2.15\n",
       "Age                      91               2.13\n",
       "AgeGroup                 91               2.13\n",
       "VIP                      93               2.17\n",
       "RoomService              82               1.92\n",
       "FoodCourt               106               2.48\n",
       "ShoppingMall             98               2.29\n",
       "Spa                     101               2.36\n",
       "VRDeck                   80               1.87\n",
       "FirstName                94               2.20"
      ]
     },
     "execution_count": 36,
     "metadata": {},
     "output_type": "execute_result"
    }
   ],
   "source": [
    "missing_values = functions.MissingValues(test)\n",
    "missing_values"
   ]
  },
  {
   "cell_type": "code",
   "execution_count": 37,
   "id": "30ab7bf9",
   "metadata": {},
   "outputs": [
    {
     "name": "stdout",
     "output_type": "stream",
     "text": [
      "#Cabin_side missing values before: 45\n",
      "#Cabin_side missing values after: 0\n"
     ]
    }
   ],
   "source": [
    "# Missing values before\n",
    "CS_bef=test['CabinSide'].isna().sum()\n",
    "\n",
    "# Fill remaining missing values with outlier\n",
    "test.loc[test['CabinSide'].isna(),'CabinSide']='U'\n",
    "\n",
    "# Print number of missing values left\n",
    "print('#Cabin_side missing values before:',CS_bef)\n",
    "print('#Cabin_side missing values after:',test['CabinSide'].isna().sum())"
   ]
  }
 ],
 "metadata": {
  "kernelspec": {
   "display_name": "Python 3 (ipykernel)",
   "language": "python",
   "name": "python3"
  },
  "language_info": {
   "codemirror_mode": {
    "name": "ipython",
    "version": 3
   },
   "file_extension": ".py",
   "mimetype": "text/x-python",
   "name": "python",
   "nbconvert_exporter": "python",
   "pygments_lexer": "ipython3",
   "version": "3.10.1"
  },
  "toc": {
   "base_numbering": 1,
   "nav_menu": {},
   "number_sections": true,
   "sideBar": true,
   "skip_h1_title": false,
   "title_cell": "Table of Contents",
   "title_sidebar": "Contents",
   "toc_cell": false,
   "toc_position": {},
   "toc_section_display": true,
   "toc_window_display": true
  }
 },
 "nbformat": 4,
 "nbformat_minor": 5
}
