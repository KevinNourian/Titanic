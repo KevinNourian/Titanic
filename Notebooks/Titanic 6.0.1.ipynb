{
 "cells": [
  {
   "cell_type": "markdown",
   "id": "25aaf1b5",
   "metadata": {},
   "source": [
    "# <center> **Titanic**"
   ]
  },
  {
   "cell_type": "markdown",
   "id": "7a6c8da2",
   "metadata": {},
   "source": [
    "# **Libraries**"
   ]
  },
  {
   "cell_type": "code",
   "execution_count": 12,
   "id": "73e35264",
   "metadata": {},
   "outputs": [
    {
     "data": {
      "text/plain": [
       "<module 'functions' from 'c:\\\\Users\\\\Dell\\\\Documents\\\\AI\\\\Titanic\\\\Notebooks\\\\functions.py'>"
      ]
     },
     "execution_count": 12,
     "metadata": {},
     "output_type": "execute_result"
    }
   ],
   "source": [
    "import pandas as pd\n",
    "import numpy as np\n",
    "import seaborn as sns\n",
    "import matplotlib as mpl\n",
    "import matplotlib.pyplot as plt\n",
    "\n",
    "\n",
    "import functions\n",
    "import importlib\n",
    "\n",
    "import warnings\n",
    "\n",
    "importlib.reload(functions)"
   ]
  },
  {
   "cell_type": "markdown",
   "id": "f169bb5d",
   "metadata": {},
   "source": [
    "# **Data Overview and Preprocessing**"
   ]
  },
  {
   "cell_type": "code",
   "execution_count": 13,
   "id": "e358ddcd",
   "metadata": {},
   "outputs": [],
   "source": [
    "data = pd.read_csv(\n",
    "    r\"C:\\Users\\Dell\\Documents\\AI\\Titanic\\Data\\data.csv\",\n",
    "    index_col=False\n",
    ")\n",
    "\n",
    "random_state = 101\n",
    "target = 'Transported'"
   ]
  },
  {
   "cell_type": "markdown",
   "id": "f683651c",
   "metadata": {},
   "source": [
    "### **Missing Values**"
   ]
  },
  {
   "cell_type": "code",
   "execution_count": 14,
   "id": "073e7458",
   "metadata": {},
   "outputs": [
    {
     "data": {
      "text/html": [
       "<div>\n",
       "<style scoped>\n",
       "    .dataframe tbody tr th:only-of-type {\n",
       "        vertical-align: middle;\n",
       "    }\n",
       "\n",
       "    .dataframe tbody tr th {\n",
       "        vertical-align: top;\n",
       "    }\n",
       "\n",
       "    .dataframe thead th {\n",
       "        text-align: right;\n",
       "    }\n",
       "</style>\n",
       "<table border=\"1\" class=\"dataframe\">\n",
       "  <thead>\n",
       "    <tr style=\"text-align: right;\">\n",
       "      <th></th>\n",
       "      <th>NumberMissing</th>\n",
       "      <th>PercentageMissing</th>\n",
       "    </tr>\n",
       "  </thead>\n",
       "  <tbody>\n",
       "    <tr>\n",
       "      <th>HomePlanet</th>\n",
       "      <td>288</td>\n",
       "      <td>2.22</td>\n",
       "    </tr>\n",
       "    <tr>\n",
       "      <th>CabinDeck</th>\n",
       "      <td>299</td>\n",
       "      <td>2.31</td>\n",
       "    </tr>\n",
       "    <tr>\n",
       "      <th>CabinNumber</th>\n",
       "      <td>299</td>\n",
       "      <td>2.31</td>\n",
       "    </tr>\n",
       "    <tr>\n",
       "      <th>CabinSide</th>\n",
       "      <td>299</td>\n",
       "      <td>2.31</td>\n",
       "    </tr>\n",
       "    <tr>\n",
       "      <th>CryoSleep</th>\n",
       "      <td>310</td>\n",
       "      <td>2.39</td>\n",
       "    </tr>\n",
       "    <tr>\n",
       "      <th>Destination</th>\n",
       "      <td>274</td>\n",
       "      <td>2.11</td>\n",
       "    </tr>\n",
       "    <tr>\n",
       "      <th>Age</th>\n",
       "      <td>270</td>\n",
       "      <td>2.08</td>\n",
       "    </tr>\n",
       "    <tr>\n",
       "      <th>AgeGroup</th>\n",
       "      <td>270</td>\n",
       "      <td>2.08</td>\n",
       "    </tr>\n",
       "    <tr>\n",
       "      <th>VIP</th>\n",
       "      <td>296</td>\n",
       "      <td>2.28</td>\n",
       "    </tr>\n",
       "  </tbody>\n",
       "</table>\n",
       "</div>"
      ],
      "text/plain": [
       "             NumberMissing  PercentageMissing\n",
       "HomePlanet             288               2.22\n",
       "CabinDeck              299               2.31\n",
       "CabinNumber            299               2.31\n",
       "CabinSide              299               2.31\n",
       "CryoSleep              310               2.39\n",
       "Destination            274               2.11\n",
       "Age                    270               2.08\n",
       "AgeGroup               270               2.08\n",
       "VIP                    296               2.28"
      ]
     },
     "execution_count": 14,
     "metadata": {},
     "output_type": "execute_result"
    }
   ],
   "source": [
    "missing_values = functions.MissingValues(data)\n",
    "missing_values"
   ]
  },
  {
   "cell_type": "markdown",
   "id": "549a3b40",
   "metadata": {},
   "source": [
    "## **Home Planet**"
   ]
  },
  {
   "cell_type": "markdown",
   "id": "4c3d7b74",
   "metadata": {},
   "source": [
    "### **Impute Home Planet from Group**"
   ]
  },
  {
   "cell_type": "code",
   "execution_count": 15,
   "id": "e343ddea",
   "metadata": {},
   "outputs": [
    {
     "name": "stdout",
     "output_type": "stream",
     "text": [
      "Series([], Name: HomePlanet, dtype: int64)\n"
     ]
    }
   ],
   "source": [
    "unique_homeplanets_per_group = data.groupby('Group')['HomePlanet'].nunique()\n",
    "groups_with_multiple_planets = unique_homeplanets_per_group[unique_homeplanets_per_group > 1]\n",
    "\n",
    "print(groups_with_multiple_planets)"
   ]
  },
  {
   "cell_type": "code",
   "execution_count": 16,
   "id": "5d511cb7",
   "metadata": {},
   "outputs": [],
   "source": [
    "# Step 1: Group by 'Group' and find the most common (or only) HomePlanet\n",
    "group_homeplanet_map = data.groupby('Group')['HomePlanet'].apply(lambda x: x.mode()[0] if not x.mode().empty else None)\n",
    "\n",
    "# Step 2: Define a function to fill missing HomePlanet based on the group's identified HomePlanet\n",
    "def fill_missing_homeplanet(row):\n",
    "    if pd.isna(row['HomePlanet']):\n",
    "        return group_homeplanet_map.get(row['Group'], row['HomePlanet'])\n",
    "    else:\n",
    "        return row['HomePlanet']\n",
    "\n",
    "# Step 3: Apply the function to fill missing values in the HomePlanet column\n",
    "data['HomePlanet'] = data.apply(fill_missing_homeplanet, axis=1)"
   ]
  },
  {
   "cell_type": "code",
   "execution_count": 17,
   "id": "74133102",
   "metadata": {},
   "outputs": [
    {
     "data": {
      "text/html": [
       "<div>\n",
       "<style scoped>\n",
       "    .dataframe tbody tr th:only-of-type {\n",
       "        vertical-align: middle;\n",
       "    }\n",
       "\n",
       "    .dataframe tbody tr th {\n",
       "        vertical-align: top;\n",
       "    }\n",
       "\n",
       "    .dataframe thead th {\n",
       "        text-align: right;\n",
       "    }\n",
       "</style>\n",
       "<table border=\"1\" class=\"dataframe\">\n",
       "  <thead>\n",
       "    <tr style=\"text-align: right;\">\n",
       "      <th></th>\n",
       "      <th>NumberMissing</th>\n",
       "      <th>PercentageMissing</th>\n",
       "    </tr>\n",
       "  </thead>\n",
       "  <tbody>\n",
       "    <tr>\n",
       "      <th>HomePlanet</th>\n",
       "      <td>157</td>\n",
       "      <td>1.21</td>\n",
       "    </tr>\n",
       "    <tr>\n",
       "      <th>CabinDeck</th>\n",
       "      <td>299</td>\n",
       "      <td>2.31</td>\n",
       "    </tr>\n",
       "    <tr>\n",
       "      <th>CabinNumber</th>\n",
       "      <td>299</td>\n",
       "      <td>2.31</td>\n",
       "    </tr>\n",
       "    <tr>\n",
       "      <th>CabinSide</th>\n",
       "      <td>299</td>\n",
       "      <td>2.31</td>\n",
       "    </tr>\n",
       "    <tr>\n",
       "      <th>CryoSleep</th>\n",
       "      <td>310</td>\n",
       "      <td>2.39</td>\n",
       "    </tr>\n",
       "    <tr>\n",
       "      <th>Destination</th>\n",
       "      <td>274</td>\n",
       "      <td>2.11</td>\n",
       "    </tr>\n",
       "    <tr>\n",
       "      <th>Age</th>\n",
       "      <td>270</td>\n",
       "      <td>2.08</td>\n",
       "    </tr>\n",
       "    <tr>\n",
       "      <th>AgeGroup</th>\n",
       "      <td>270</td>\n",
       "      <td>2.08</td>\n",
       "    </tr>\n",
       "    <tr>\n",
       "      <th>VIP</th>\n",
       "      <td>296</td>\n",
       "      <td>2.28</td>\n",
       "    </tr>\n",
       "  </tbody>\n",
       "</table>\n",
       "</div>"
      ],
      "text/plain": [
       "             NumberMissing  PercentageMissing\n",
       "HomePlanet             157               1.21\n",
       "CabinDeck              299               2.31\n",
       "CabinNumber            299               2.31\n",
       "CabinSide              299               2.31\n",
       "CryoSleep              310               2.39\n",
       "Destination            274               2.11\n",
       "Age                    270               2.08\n",
       "AgeGroup               270               2.08\n",
       "VIP                    296               2.28"
      ]
     },
     "execution_count": 17,
     "metadata": {},
     "output_type": "execute_result"
    }
   ],
   "source": [
    "missing_values = functions.MissingValues(data)\n",
    "missing_values"
   ]
  },
  {
   "cell_type": "markdown",
   "id": "b9fcd8c2",
   "metadata": {},
   "source": [
    "### **Impute Home Planet from Last Name**"
   ]
  },
  {
   "cell_type": "code",
   "execution_count": 18,
   "id": "97a241fa",
   "metadata": {},
   "outputs": [],
   "source": [
    "# Step 1: Group by 'LastName' and find the most common (or only) HomePlanet for each LastName\n",
    "lastname_homeplanet_map = data.groupby('LastName')['HomePlanet'].apply(lambda x: x.mode()[0] if not x.mode().empty else None)\n",
    "\n",
    "# Step 2: Define a function to fill missing HomePlanet based on the LastName's identified HomePlanet\n",
    "def fill_missing_homeplanet_by_lastname(row):\n",
    "    if pd.isna(row['HomePlanet']):\n",
    "        return lastname_homeplanet_map.get(row['LastName'], row['HomePlanet'])\n",
    "    else:\n",
    "        return row['HomePlanet']\n",
    "\n",
    "# Step 3: Apply the function to fill missing values in the HomePlanet column\n",
    "data['HomePlanet'] = data.apply(fill_missing_homeplanet_by_lastname, axis=1)"
   ]
  },
  {
   "cell_type": "code",
   "execution_count": 19,
   "id": "efdc73d8",
   "metadata": {},
   "outputs": [
    {
     "data": {
      "text/html": [
       "<div>\n",
       "<style scoped>\n",
       "    .dataframe tbody tr th:only-of-type {\n",
       "        vertical-align: middle;\n",
       "    }\n",
       "\n",
       "    .dataframe tbody tr th {\n",
       "        vertical-align: top;\n",
       "    }\n",
       "\n",
       "    .dataframe thead th {\n",
       "        text-align: right;\n",
       "    }\n",
       "</style>\n",
       "<table border=\"1\" class=\"dataframe\">\n",
       "  <thead>\n",
       "    <tr style=\"text-align: right;\">\n",
       "      <th></th>\n",
       "      <th>NumberMissing</th>\n",
       "      <th>PercentageMissing</th>\n",
       "    </tr>\n",
       "  </thead>\n",
       "  <tbody>\n",
       "    <tr>\n",
       "      <th>HomePlanet</th>\n",
       "      <td>7</td>\n",
       "      <td>0.05</td>\n",
       "    </tr>\n",
       "    <tr>\n",
       "      <th>CabinDeck</th>\n",
       "      <td>299</td>\n",
       "      <td>2.31</td>\n",
       "    </tr>\n",
       "    <tr>\n",
       "      <th>CabinNumber</th>\n",
       "      <td>299</td>\n",
       "      <td>2.31</td>\n",
       "    </tr>\n",
       "    <tr>\n",
       "      <th>CabinSide</th>\n",
       "      <td>299</td>\n",
       "      <td>2.31</td>\n",
       "    </tr>\n",
       "    <tr>\n",
       "      <th>CryoSleep</th>\n",
       "      <td>310</td>\n",
       "      <td>2.39</td>\n",
       "    </tr>\n",
       "    <tr>\n",
       "      <th>Destination</th>\n",
       "      <td>274</td>\n",
       "      <td>2.11</td>\n",
       "    </tr>\n",
       "    <tr>\n",
       "      <th>Age</th>\n",
       "      <td>270</td>\n",
       "      <td>2.08</td>\n",
       "    </tr>\n",
       "    <tr>\n",
       "      <th>AgeGroup</th>\n",
       "      <td>270</td>\n",
       "      <td>2.08</td>\n",
       "    </tr>\n",
       "    <tr>\n",
       "      <th>VIP</th>\n",
       "      <td>296</td>\n",
       "      <td>2.28</td>\n",
       "    </tr>\n",
       "  </tbody>\n",
       "</table>\n",
       "</div>"
      ],
      "text/plain": [
       "             NumberMissing  PercentageMissing\n",
       "HomePlanet               7               0.05\n",
       "CabinDeck              299               2.31\n",
       "CabinNumber            299               2.31\n",
       "CabinSide              299               2.31\n",
       "CryoSleep              310               2.39\n",
       "Destination            274               2.11\n",
       "Age                    270               2.08\n",
       "AgeGroup               270               2.08\n",
       "VIP                    296               2.28"
      ]
     },
     "execution_count": 19,
     "metadata": {},
     "output_type": "execute_result"
    }
   ],
   "source": [
    "missing_values = functions.MissingValues(data)\n",
    "missing_values"
   ]
  },
  {
   "cell_type": "markdown",
   "id": "7f117d04",
   "metadata": {},
   "source": [
    "### **Impute Home Planet from Mode**"
   ]
  },
  {
   "cell_type": "code",
   "execution_count": 20,
   "id": "e9f145d1",
   "metadata": {},
   "outputs": [
    {
     "name": "stdout",
     "output_type": "stream",
     "text": [
      "Earth\n"
     ]
    }
   ],
   "source": [
    "homeplanet_mode = data['HomePlanet'].mode()[0]\n",
    "print(homeplanet_mode)"
   ]
  },
  {
   "cell_type": "code",
   "execution_count": 21,
   "id": "1e265105",
   "metadata": {},
   "outputs": [],
   "source": [
    "mode_value = data['HomePlanet'].mode()\n",
    "\n",
    "if not mode_value.empty:\n",
    "    data['HomePlanet'] = data['HomePlanet'].fillna(mode_value[0])"
   ]
  },
  {
   "cell_type": "code",
   "execution_count": 22,
   "id": "d7732939",
   "metadata": {},
   "outputs": [
    {
     "data": {
      "text/html": [
       "<div>\n",
       "<style scoped>\n",
       "    .dataframe tbody tr th:only-of-type {\n",
       "        vertical-align: middle;\n",
       "    }\n",
       "\n",
       "    .dataframe tbody tr th {\n",
       "        vertical-align: top;\n",
       "    }\n",
       "\n",
       "    .dataframe thead th {\n",
       "        text-align: right;\n",
       "    }\n",
       "</style>\n",
       "<table border=\"1\" class=\"dataframe\">\n",
       "  <thead>\n",
       "    <tr style=\"text-align: right;\">\n",
       "      <th></th>\n",
       "      <th>NumberMissing</th>\n",
       "      <th>PercentageMissing</th>\n",
       "    </tr>\n",
       "  </thead>\n",
       "  <tbody>\n",
       "    <tr>\n",
       "      <th>CabinDeck</th>\n",
       "      <td>299</td>\n",
       "      <td>2.31</td>\n",
       "    </tr>\n",
       "    <tr>\n",
       "      <th>CabinNumber</th>\n",
       "      <td>299</td>\n",
       "      <td>2.31</td>\n",
       "    </tr>\n",
       "    <tr>\n",
       "      <th>CabinSide</th>\n",
       "      <td>299</td>\n",
       "      <td>2.31</td>\n",
       "    </tr>\n",
       "    <tr>\n",
       "      <th>CryoSleep</th>\n",
       "      <td>310</td>\n",
       "      <td>2.39</td>\n",
       "    </tr>\n",
       "    <tr>\n",
       "      <th>Destination</th>\n",
       "      <td>274</td>\n",
       "      <td>2.11</td>\n",
       "    </tr>\n",
       "    <tr>\n",
       "      <th>Age</th>\n",
       "      <td>270</td>\n",
       "      <td>2.08</td>\n",
       "    </tr>\n",
       "    <tr>\n",
       "      <th>AgeGroup</th>\n",
       "      <td>270</td>\n",
       "      <td>2.08</td>\n",
       "    </tr>\n",
       "    <tr>\n",
       "      <th>VIP</th>\n",
       "      <td>296</td>\n",
       "      <td>2.28</td>\n",
       "    </tr>\n",
       "  </tbody>\n",
       "</table>\n",
       "</div>"
      ],
      "text/plain": [
       "             NumberMissing  PercentageMissing\n",
       "CabinDeck              299               2.31\n",
       "CabinNumber            299               2.31\n",
       "CabinSide              299               2.31\n",
       "CryoSleep              310               2.39\n",
       "Destination            274               2.11\n",
       "Age                    270               2.08\n",
       "AgeGroup               270               2.08\n",
       "VIP                    296               2.28"
      ]
     },
     "execution_count": 22,
     "metadata": {},
     "output_type": "execute_result"
    }
   ],
   "source": [
    "missing_values = functions.MissingValues(data)\n",
    "missing_values"
   ]
  },
  {
   "cell_type": "markdown",
   "id": "abf8631e",
   "metadata": {},
   "source": [
    "## **Destination**"
   ]
  },
  {
   "cell_type": "markdown",
   "id": "7b5a1122",
   "metadata": {},
   "source": [
    "### **Impute Destination from Group**"
   ]
  },
  {
   "cell_type": "code",
   "execution_count": 23,
   "id": "61f060d3",
   "metadata": {},
   "outputs": [
    {
     "data": {
      "text/plain": [
       "Group\n",
       "8     2\n",
       "17    2\n",
       "20    3\n",
       "32    2\n",
       "44    3\n",
       "Name: Destination, dtype: int64"
      ]
     },
     "execution_count": 23,
     "metadata": {},
     "output_type": "execute_result"
    }
   ],
   "source": [
    "unique_destinationplanets_per_group = data.groupby('Group')['Destination'].nunique()\n",
    "groups_with_multiple_destinations = unique_destinationplanets_per_group[unique_destinationplanets_per_group > 1]\n",
    "\n",
    "groups_with_multiple_destinations.head()"
   ]
  },
  {
   "cell_type": "code",
   "execution_count": 24,
   "id": "64b93c6b",
   "metadata": {},
   "outputs": [],
   "source": [
    "# Step 1: Group by 'Group' and find the most common (or only) HomePlanet\n",
    "group_destinationplanet_map = data.groupby('Group')['Destination'].apply(lambda x: x.mode()[0] if not x.mode().empty else None)\n",
    "\n",
    "# Step 2: Define a function to fill missing HomePlanet based on the group's identified HomePlanet\n",
    "def fill_missing_destinationplanet(row):\n",
    "    if pd.isna(row['Destination']):\n",
    "        return group_destinationplanet_map.get(row['Group'], row['Destination'])\n",
    "    else:\n",
    "        return row['Destination']\n",
    "\n",
    "# Step 3: Apply the function to fill missing values in the HomePlanet column\n",
    "data['Destination'] = data.apply(fill_missing_destinationplanet, axis=1)"
   ]
  },
  {
   "cell_type": "code",
   "execution_count": 25,
   "id": "869495fa",
   "metadata": {},
   "outputs": [
    {
     "data": {
      "text/html": [
       "<div>\n",
       "<style scoped>\n",
       "    .dataframe tbody tr th:only-of-type {\n",
       "        vertical-align: middle;\n",
       "    }\n",
       "\n",
       "    .dataframe tbody tr th {\n",
       "        vertical-align: top;\n",
       "    }\n",
       "\n",
       "    .dataframe thead th {\n",
       "        text-align: right;\n",
       "    }\n",
       "</style>\n",
       "<table border=\"1\" class=\"dataframe\">\n",
       "  <thead>\n",
       "    <tr style=\"text-align: right;\">\n",
       "      <th></th>\n",
       "      <th>NumberMissing</th>\n",
       "      <th>PercentageMissing</th>\n",
       "    </tr>\n",
       "  </thead>\n",
       "  <tbody>\n",
       "    <tr>\n",
       "      <th>CabinDeck</th>\n",
       "      <td>299</td>\n",
       "      <td>2.31</td>\n",
       "    </tr>\n",
       "    <tr>\n",
       "      <th>CabinNumber</th>\n",
       "      <td>299</td>\n",
       "      <td>2.31</td>\n",
       "    </tr>\n",
       "    <tr>\n",
       "      <th>CabinSide</th>\n",
       "      <td>299</td>\n",
       "      <td>2.31</td>\n",
       "    </tr>\n",
       "    <tr>\n",
       "      <th>CryoSleep</th>\n",
       "      <td>310</td>\n",
       "      <td>2.39</td>\n",
       "    </tr>\n",
       "    <tr>\n",
       "      <th>Destination</th>\n",
       "      <td>154</td>\n",
       "      <td>1.19</td>\n",
       "    </tr>\n",
       "    <tr>\n",
       "      <th>Age</th>\n",
       "      <td>270</td>\n",
       "      <td>2.08</td>\n",
       "    </tr>\n",
       "    <tr>\n",
       "      <th>AgeGroup</th>\n",
       "      <td>270</td>\n",
       "      <td>2.08</td>\n",
       "    </tr>\n",
       "    <tr>\n",
       "      <th>VIP</th>\n",
       "      <td>296</td>\n",
       "      <td>2.28</td>\n",
       "    </tr>\n",
       "  </tbody>\n",
       "</table>\n",
       "</div>"
      ],
      "text/plain": [
       "             NumberMissing  PercentageMissing\n",
       "CabinDeck              299               2.31\n",
       "CabinNumber            299               2.31\n",
       "CabinSide              299               2.31\n",
       "CryoSleep              310               2.39\n",
       "Destination            154               1.19\n",
       "Age                    270               2.08\n",
       "AgeGroup               270               2.08\n",
       "VIP                    296               2.28"
      ]
     },
     "execution_count": 25,
     "metadata": {},
     "output_type": "execute_result"
    }
   ],
   "source": [
    "missing_values = functions.MissingValues(data)\n",
    "missing_values"
   ]
  },
  {
   "cell_type": "markdown",
   "id": "c35646bf",
   "metadata": {},
   "source": [
    "### **Impute Destination from Last Name**"
   ]
  },
  {
   "cell_type": "code",
   "execution_count": 26,
   "id": "33c1402a",
   "metadata": {},
   "outputs": [],
   "source": [
    "lastname_destinationplanet_map = data.groupby('LastName')['Destination'].apply(lambda x: x.mode()[0] if not x.mode().empty else None)\n",
    "\n",
    "def fill_missing_destinationplanet_by_lastname(row):\n",
    "    if pd.isna(row['Destination']):\n",
    "        return lastname_destinationplanet_map.get(row['LastName'], row['Destination'])\n",
    "    else:\n",
    "        return row['Destination']\n",
    "\n",
    "data['Destination'] = data.apply(fill_missing_destinationplanet_by_lastname, axis=1)"
   ]
  },
  {
   "cell_type": "code",
   "execution_count": 27,
   "id": "e0e52857",
   "metadata": {},
   "outputs": [
    {
     "data": {
      "text/html": [
       "<div>\n",
       "<style scoped>\n",
       "    .dataframe tbody tr th:only-of-type {\n",
       "        vertical-align: middle;\n",
       "    }\n",
       "\n",
       "    .dataframe tbody tr th {\n",
       "        vertical-align: top;\n",
       "    }\n",
       "\n",
       "    .dataframe thead th {\n",
       "        text-align: right;\n",
       "    }\n",
       "</style>\n",
       "<table border=\"1\" class=\"dataframe\">\n",
       "  <thead>\n",
       "    <tr style=\"text-align: right;\">\n",
       "      <th></th>\n",
       "      <th>NumberMissing</th>\n",
       "      <th>PercentageMissing</th>\n",
       "    </tr>\n",
       "  </thead>\n",
       "  <tbody>\n",
       "    <tr>\n",
       "      <th>CabinDeck</th>\n",
       "      <td>299</td>\n",
       "      <td>2.31</td>\n",
       "    </tr>\n",
       "    <tr>\n",
       "      <th>CabinNumber</th>\n",
       "      <td>299</td>\n",
       "      <td>2.31</td>\n",
       "    </tr>\n",
       "    <tr>\n",
       "      <th>CabinSide</th>\n",
       "      <td>299</td>\n",
       "      <td>2.31</td>\n",
       "    </tr>\n",
       "    <tr>\n",
       "      <th>CryoSleep</th>\n",
       "      <td>310</td>\n",
       "      <td>2.39</td>\n",
       "    </tr>\n",
       "    <tr>\n",
       "      <th>Destination</th>\n",
       "      <td>4</td>\n",
       "      <td>0.03</td>\n",
       "    </tr>\n",
       "    <tr>\n",
       "      <th>Age</th>\n",
       "      <td>270</td>\n",
       "      <td>2.08</td>\n",
       "    </tr>\n",
       "    <tr>\n",
       "      <th>AgeGroup</th>\n",
       "      <td>270</td>\n",
       "      <td>2.08</td>\n",
       "    </tr>\n",
       "    <tr>\n",
       "      <th>VIP</th>\n",
       "      <td>296</td>\n",
       "      <td>2.28</td>\n",
       "    </tr>\n",
       "  </tbody>\n",
       "</table>\n",
       "</div>"
      ],
      "text/plain": [
       "             NumberMissing  PercentageMissing\n",
       "CabinDeck              299               2.31\n",
       "CabinNumber            299               2.31\n",
       "CabinSide              299               2.31\n",
       "CryoSleep              310               2.39\n",
       "Destination              4               0.03\n",
       "Age                    270               2.08\n",
       "AgeGroup               270               2.08\n",
       "VIP                    296               2.28"
      ]
     },
     "execution_count": 27,
     "metadata": {},
     "output_type": "execute_result"
    }
   ],
   "source": [
    "missing_values = functions.MissingValues(data)\n",
    "missing_values"
   ]
  },
  {
   "cell_type": "markdown",
   "id": "07af507d",
   "metadata": {},
   "source": [
    "### **Impute Destination from Mode**"
   ]
  },
  {
   "cell_type": "code",
   "execution_count": 28,
   "id": "e07afafe",
   "metadata": {},
   "outputs": [
    {
     "name": "stdout",
     "output_type": "stream",
     "text": [
      "TRAPPIST-1e\n"
     ]
    }
   ],
   "source": [
    "desinationplanet_mode = data['Destination'].mode()[0]\n",
    "print(desinationplanet_mode)"
   ]
  },
  {
   "cell_type": "code",
   "execution_count": 29,
   "id": "6b692c64",
   "metadata": {},
   "outputs": [],
   "source": [
    "data['Destination'] = data['Destination'].fillna(data['Destination'].mode()[0])"
   ]
  },
  {
   "cell_type": "code",
   "execution_count": 30,
   "id": "85cbb64f",
   "metadata": {},
   "outputs": [
    {
     "data": {
      "text/html": [
       "<div>\n",
       "<style scoped>\n",
       "    .dataframe tbody tr th:only-of-type {\n",
       "        vertical-align: middle;\n",
       "    }\n",
       "\n",
       "    .dataframe tbody tr th {\n",
       "        vertical-align: top;\n",
       "    }\n",
       "\n",
       "    .dataframe thead th {\n",
       "        text-align: right;\n",
       "    }\n",
       "</style>\n",
       "<table border=\"1\" class=\"dataframe\">\n",
       "  <thead>\n",
       "    <tr style=\"text-align: right;\">\n",
       "      <th></th>\n",
       "      <th>NumberMissing</th>\n",
       "      <th>PercentageMissing</th>\n",
       "    </tr>\n",
       "  </thead>\n",
       "  <tbody>\n",
       "    <tr>\n",
       "      <th>CabinDeck</th>\n",
       "      <td>299</td>\n",
       "      <td>2.31</td>\n",
       "    </tr>\n",
       "    <tr>\n",
       "      <th>CabinNumber</th>\n",
       "      <td>299</td>\n",
       "      <td>2.31</td>\n",
       "    </tr>\n",
       "    <tr>\n",
       "      <th>CabinSide</th>\n",
       "      <td>299</td>\n",
       "      <td>2.31</td>\n",
       "    </tr>\n",
       "    <tr>\n",
       "      <th>CryoSleep</th>\n",
       "      <td>310</td>\n",
       "      <td>2.39</td>\n",
       "    </tr>\n",
       "    <tr>\n",
       "      <th>Age</th>\n",
       "      <td>270</td>\n",
       "      <td>2.08</td>\n",
       "    </tr>\n",
       "    <tr>\n",
       "      <th>AgeGroup</th>\n",
       "      <td>270</td>\n",
       "      <td>2.08</td>\n",
       "    </tr>\n",
       "    <tr>\n",
       "      <th>VIP</th>\n",
       "      <td>296</td>\n",
       "      <td>2.28</td>\n",
       "    </tr>\n",
       "  </tbody>\n",
       "</table>\n",
       "</div>"
      ],
      "text/plain": [
       "             NumberMissing  PercentageMissing\n",
       "CabinDeck              299               2.31\n",
       "CabinNumber            299               2.31\n",
       "CabinSide              299               2.31\n",
       "CryoSleep              310               2.39\n",
       "Age                    270               2.08\n",
       "AgeGroup               270               2.08\n",
       "VIP                    296               2.28"
      ]
     },
     "execution_count": 30,
     "metadata": {},
     "output_type": "execute_result"
    }
   ],
   "source": [
    "missing_values = functions.MissingValues(data)\n",
    "missing_values"
   ]
  },
  {
   "cell_type": "markdown",
   "id": "14e4fde8",
   "metadata": {},
   "source": [
    "## **Cabin Deck**"
   ]
  },
  {
   "cell_type": "markdown",
   "id": "39516f6a",
   "metadata": {},
   "source": [
    "### **Cabin Deck and Home Planet**"
   ]
  },
  {
   "cell_type": "code",
   "execution_count": 31,
   "id": "af18784b",
   "metadata": {},
   "outputs": [
    {
     "data": {
      "text/html": [
       "<div>\n",
       "<style scoped>\n",
       "    .dataframe tbody tr th:only-of-type {\n",
       "        vertical-align: middle;\n",
       "    }\n",
       "\n",
       "    .dataframe tbody tr th {\n",
       "        vertical-align: top;\n",
       "    }\n",
       "\n",
       "    .dataframe thead th {\n",
       "        text-align: right;\n",
       "    }\n",
       "</style>\n",
       "<table border=\"1\" class=\"dataframe\">\n",
       "  <thead>\n",
       "    <tr style=\"text-align: right;\">\n",
       "      <th>HomePlanet</th>\n",
       "      <th>Earth</th>\n",
       "      <th>Europa</th>\n",
       "      <th>Mars</th>\n",
       "    </tr>\n",
       "    <tr>\n",
       "      <th>CabinDeck</th>\n",
       "      <th></th>\n",
       "      <th></th>\n",
       "      <th></th>\n",
       "    </tr>\n",
       "  </thead>\n",
       "  <tbody>\n",
       "    <tr>\n",
       "      <th>A</th>\n",
       "      <td>1</td>\n",
       "      <td>353</td>\n",
       "      <td>0</td>\n",
       "    </tr>\n",
       "    <tr>\n",
       "      <th>B</th>\n",
       "      <td>0</td>\n",
       "      <td>1141</td>\n",
       "      <td>0</td>\n",
       "    </tr>\n",
       "    <tr>\n",
       "      <th>C</th>\n",
       "      <td>1</td>\n",
       "      <td>1101</td>\n",
       "      <td>0</td>\n",
       "    </tr>\n",
       "    <tr>\n",
       "      <th>D</th>\n",
       "      <td>3</td>\n",
       "      <td>306</td>\n",
       "      <td>411</td>\n",
       "    </tr>\n",
       "    <tr>\n",
       "      <th>E</th>\n",
       "      <td>597</td>\n",
       "      <td>203</td>\n",
       "      <td>523</td>\n",
       "    </tr>\n",
       "    <tr>\n",
       "      <th>F</th>\n",
       "      <td>2480</td>\n",
       "      <td>0</td>\n",
       "      <td>1759</td>\n",
       "    </tr>\n",
       "    <tr>\n",
       "      <th>G</th>\n",
       "      <td>3781</td>\n",
       "      <td>0</td>\n",
       "      <td>0</td>\n",
       "    </tr>\n",
       "    <tr>\n",
       "      <th>T</th>\n",
       "      <td>0</td>\n",
       "      <td>11</td>\n",
       "      <td>0</td>\n",
       "    </tr>\n",
       "  </tbody>\n",
       "</table>\n",
       "</div>"
      ],
      "text/plain": [
       "HomePlanet  Earth  Europa  Mars\n",
       "CabinDeck                      \n",
       "A               1     353     0\n",
       "B               0    1141     0\n",
       "C               1    1101     0\n",
       "D               3     306   411\n",
       "E             597     203   523\n",
       "F            2480       0  1759\n",
       "G            3781       0     0\n",
       "T               0      11     0"
      ]
     },
     "execution_count": 31,
     "metadata": {},
     "output_type": "execute_result"
    }
   ],
   "source": [
    "data.pivot_table(index='CabinDeck', columns='HomePlanet', aggfunc='size', fill_value=0)"
   ]
  },
  {
   "cell_type": "markdown",
   "id": "faf948a6",
   "metadata": {},
   "source": [
    "Passengers on decks A (Except 1 passenger), B, C (Except 1 passenger), T came from Europa </BR>\n",
    "Passengers on deck G came from Earth.</BR>\n",
    "Passengers on decks D, E or F came from multiple planets.</BR>"
   ]
  },
  {
   "cell_type": "markdown",
   "id": "828623a5",
   "metadata": {},
   "source": [
    "### **Impute CabinDeck G from Earth**"
   ]
  },
  {
   "cell_type": "markdown",
   "id": "efafe486",
   "metadata": {},
   "source": [
    "For train set, we went down from 199 to 100. For test set, we went from 100 to 38."
   ]
  },
  {
   "cell_type": "code",
   "execution_count": 32,
   "id": "ee6442ae",
   "metadata": {},
   "outputs": [],
   "source": [
    "# Fill missing CabinDeck values with 'G' where HomePlanet is 'Earth'\n",
    "data.loc[(data['HomePlanet'] == 'Earth') & (data['CabinDeck'].isnull()), 'CabinDeck'] = 'G'"
   ]
  },
  {
   "cell_type": "code",
   "execution_count": 33,
   "id": "2c9f311b",
   "metadata": {},
   "outputs": [
    {
     "data": {
      "text/html": [
       "<div>\n",
       "<style scoped>\n",
       "    .dataframe tbody tr th:only-of-type {\n",
       "        vertical-align: middle;\n",
       "    }\n",
       "\n",
       "    .dataframe tbody tr th {\n",
       "        vertical-align: top;\n",
       "    }\n",
       "\n",
       "    .dataframe thead th {\n",
       "        text-align: right;\n",
       "    }\n",
       "</style>\n",
       "<table border=\"1\" class=\"dataframe\">\n",
       "  <thead>\n",
       "    <tr style=\"text-align: right;\">\n",
       "      <th></th>\n",
       "      <th>NumberMissing</th>\n",
       "      <th>PercentageMissing</th>\n",
       "    </tr>\n",
       "  </thead>\n",
       "  <tbody>\n",
       "    <tr>\n",
       "      <th>CabinDeck</th>\n",
       "      <td>138</td>\n",
       "      <td>1.06</td>\n",
       "    </tr>\n",
       "    <tr>\n",
       "      <th>CabinNumber</th>\n",
       "      <td>299</td>\n",
       "      <td>2.31</td>\n",
       "    </tr>\n",
       "    <tr>\n",
       "      <th>CabinSide</th>\n",
       "      <td>299</td>\n",
       "      <td>2.31</td>\n",
       "    </tr>\n",
       "    <tr>\n",
       "      <th>CryoSleep</th>\n",
       "      <td>310</td>\n",
       "      <td>2.39</td>\n",
       "    </tr>\n",
       "    <tr>\n",
       "      <th>Age</th>\n",
       "      <td>270</td>\n",
       "      <td>2.08</td>\n",
       "    </tr>\n",
       "    <tr>\n",
       "      <th>AgeGroup</th>\n",
       "      <td>270</td>\n",
       "      <td>2.08</td>\n",
       "    </tr>\n",
       "    <tr>\n",
       "      <th>VIP</th>\n",
       "      <td>296</td>\n",
       "      <td>2.28</td>\n",
       "    </tr>\n",
       "  </tbody>\n",
       "</table>\n",
       "</div>"
      ],
      "text/plain": [
       "             NumberMissing  PercentageMissing\n",
       "CabinDeck              138               1.06\n",
       "CabinNumber            299               2.31\n",
       "CabinSide              299               2.31\n",
       "CryoSleep              310               2.39\n",
       "Age                    270               2.08\n",
       "AgeGroup               270               2.08\n",
       "VIP                    296               2.28"
      ]
     },
     "execution_count": 33,
     "metadata": {},
     "output_type": "execute_result"
    }
   ],
   "source": [
    "functions.MissingValues(data)"
   ]
  },
  {
   "cell_type": "markdown",
   "id": "be4ef7fd",
   "metadata": {},
   "source": [
    "### **Impute CabinDeck from Last Name**"
   ]
  },
  {
   "cell_type": "code",
   "execution_count": 34,
   "id": "6ea2aeb0",
   "metadata": {},
   "outputs": [],
   "source": [
    "lastname_cabindeck_map = data.groupby('LastName')['CabinDeck'].apply(lambda x: x.mode()[0] if not x.mode().empty else None)\n",
    "\n",
    "def fill_missing_cabindeck_by_lastname(row):\n",
    "    if pd.isna(row['CabinDeck']):\n",
    "        return lastname_homeplanet_map.get(row['LastName'], row['CabinDeck'])\n",
    "    else:\n",
    "        return row['CabinDeck']\n",
    "\n",
    "data['CabinDeck'] = data.apply(fill_missing_cabindeck_by_lastname, axis=1)"
   ]
  },
  {
   "cell_type": "code",
   "execution_count": 35,
   "id": "1b1363c6",
   "metadata": {},
   "outputs": [
    {
     "data": {
      "text/html": [
       "<div>\n",
       "<style scoped>\n",
       "    .dataframe tbody tr th:only-of-type {\n",
       "        vertical-align: middle;\n",
       "    }\n",
       "\n",
       "    .dataframe tbody tr th {\n",
       "        vertical-align: top;\n",
       "    }\n",
       "\n",
       "    .dataframe thead th {\n",
       "        text-align: right;\n",
       "    }\n",
       "</style>\n",
       "<table border=\"1\" class=\"dataframe\">\n",
       "  <thead>\n",
       "    <tr style=\"text-align: right;\">\n",
       "      <th></th>\n",
       "      <th>NumberMissing</th>\n",
       "      <th>PercentageMissing</th>\n",
       "    </tr>\n",
       "  </thead>\n",
       "  <tbody>\n",
       "    <tr>\n",
       "      <th>CabinNumber</th>\n",
       "      <td>299</td>\n",
       "      <td>2.31</td>\n",
       "    </tr>\n",
       "    <tr>\n",
       "      <th>CabinSide</th>\n",
       "      <td>299</td>\n",
       "      <td>2.31</td>\n",
       "    </tr>\n",
       "    <tr>\n",
       "      <th>CryoSleep</th>\n",
       "      <td>310</td>\n",
       "      <td>2.39</td>\n",
       "    </tr>\n",
       "    <tr>\n",
       "      <th>Age</th>\n",
       "      <td>270</td>\n",
       "      <td>2.08</td>\n",
       "    </tr>\n",
       "    <tr>\n",
       "      <th>AgeGroup</th>\n",
       "      <td>270</td>\n",
       "      <td>2.08</td>\n",
       "    </tr>\n",
       "    <tr>\n",
       "      <th>VIP</th>\n",
       "      <td>296</td>\n",
       "      <td>2.28</td>\n",
       "    </tr>\n",
       "  </tbody>\n",
       "</table>\n",
       "</div>"
      ],
      "text/plain": [
       "             NumberMissing  PercentageMissing\n",
       "CabinNumber            299               2.31\n",
       "CabinSide              299               2.31\n",
       "CryoSleep              310               2.39\n",
       "Age                    270               2.08\n",
       "AgeGroup               270               2.08\n",
       "VIP                    296               2.28"
      ]
     },
     "execution_count": 35,
     "metadata": {},
     "output_type": "execute_result"
    }
   ],
   "source": [
    "missing_values = functions.MissingValues(data)\n",
    "missing_values"
   ]
  },
  {
   "cell_type": "markdown",
   "id": "35f74ce6",
   "metadata": {},
   "source": [
    "## **Cabin Side**"
   ]
  },
  {
   "cell_type": "markdown",
   "id": "98c3848a",
   "metadata": {},
   "source": [
    "Everyone in the same group is also on the same cabin side. For cabin deck and cabin number there is also a fairly good (but not perfect) correlation with group"
   ]
  },
  {
   "cell_type": "code",
   "execution_count": 36,
   "id": "839da676",
   "metadata": {},
   "outputs": [],
   "source": [
    "unique_cabinside_per_group = data[data['GroupSize']>1].groupby('Group')['CabinSide'].nunique()\n",
    "grouped_by_unique_count = unique_cabinside_per_group.value_counts().sort_index()\n",
    "\n",
    "grouped_by_unique_count = grouped_by_unique_count.to_frame().reset_index()"
   ]
  },
  {
   "cell_type": "code",
   "execution_count": 37,
   "id": "ad56e67a",
   "metadata": {},
   "outputs": [
    {
     "data": {
      "image/png": "[encoded data removed]",
      "text/plain": [
       "<Figure size 640x480 with 1 Axes>"
      ]
     },
     "metadata": {},
     "output_type": "display_data"
    }
   ],
   "source": [
    "sns.countplot(data=grouped_by_unique_count, x='CabinSide')\n",
    "plt.title('Unique CabinDeck per Group')\n",
    "plt.xlabel('Group')\n",
    "plt.ylabel('Count')\n",
    "plt.show()"
   ]
  },
  {
   "cell_type": "markdown",
   "id": "f0f4af36",
   "metadata": {},
   "source": [
    "## **Cabin Side from Group**"
   ]
  },
  {
   "cell_type": "code",
   "execution_count": 38,
   "id": "6d1bdbef",
   "metadata": {},
   "outputs": [],
   "source": [
    "# Step 1: Group by 'Group' and 'CabinSide' for groups with more than 1 member, and count occurrences\n",
    "group_cabinside = data[data['GroupSize'] > 1].groupby(['Group', 'CabinSide']).size().unstack(fill_value=0)\n",
    "\n",
    "# Step 2: Identify rows where 'CabinSide' is missing and 'Group' is in the group_cabinside index.\n",
    "missing_cabinside_mask = data['CabinSide'].isna() & data['Group'].isin(group_cabinside.index)\n",
    "\n",
    "# Step 3: Fill missing 'LastName' based on the most common 'LastName' in each 'Group'\n",
    "data.loc[missing_cabinside_mask, 'CabinSide'] = data.loc[missing_cabinside_mask, 'Group'].map(group_cabinside.idxmax(axis=1))"
   ]
  },
  {
   "cell_type": "code",
   "execution_count": 39,
   "id": "b023b0a4",
   "metadata": {},
   "outputs": [
    {
     "data": {
      "text/html": [
       "<div>\n",
       "<style scoped>\n",
       "    .dataframe tbody tr th:only-of-type {\n",
       "        vertical-align: middle;\n",
       "    }\n",
       "\n",
       "    .dataframe tbody tr th {\n",
       "        vertical-align: top;\n",
       "    }\n",
       "\n",
       "    .dataframe thead th {\n",
       "        text-align: right;\n",
       "    }\n",
       "</style>\n",
       "<table border=\"1\" class=\"dataframe\">\n",
       "  <thead>\n",
       "    <tr style=\"text-align: right;\">\n",
       "      <th></th>\n",
       "      <th>NumberMissing</th>\n",
       "      <th>PercentageMissing</th>\n",
       "    </tr>\n",
       "  </thead>\n",
       "  <tbody>\n",
       "    <tr>\n",
       "      <th>CabinNumber</th>\n",
       "      <td>299</td>\n",
       "      <td>2.31</td>\n",
       "    </tr>\n",
       "    <tr>\n",
       "      <th>CabinSide</th>\n",
       "      <td>162</td>\n",
       "      <td>1.25</td>\n",
       "    </tr>\n",
       "    <tr>\n",
       "      <th>CryoSleep</th>\n",
       "      <td>310</td>\n",
       "      <td>2.39</td>\n",
       "    </tr>\n",
       "    <tr>\n",
       "      <th>Age</th>\n",
       "      <td>270</td>\n",
       "      <td>2.08</td>\n",
       "    </tr>\n",
       "    <tr>\n",
       "      <th>AgeGroup</th>\n",
       "      <td>270</td>\n",
       "      <td>2.08</td>\n",
       "    </tr>\n",
       "    <tr>\n",
       "      <th>VIP</th>\n",
       "      <td>296</td>\n",
       "      <td>2.28</td>\n",
       "    </tr>\n",
       "  </tbody>\n",
       "</table>\n",
       "</div>"
      ],
      "text/plain": [
       "             NumberMissing  PercentageMissing\n",
       "CabinNumber            299               2.31\n",
       "CabinSide              162               1.25\n",
       "CryoSleep              310               2.39\n",
       "Age                    270               2.08\n",
       "AgeGroup               270               2.08\n",
       "VIP                    296               2.28"
      ]
     },
     "execution_count": 39,
     "metadata": {},
     "output_type": "execute_result"
    }
   ],
   "source": [
    "missing_values = functions.MissingValues(data)\n",
    "missing_values"
   ]
  },
  {
   "cell_type": "markdown",
   "id": "e0094987",
   "metadata": {},
   "source": [
    "## **Cabin Side from Last Name**"
   ]
  },
  {
   "cell_type": "code",
   "execution_count": 40,
   "id": "41413fcd",
   "metadata": {},
   "outputs": [],
   "source": [
    "# Step 1: Group by 'Group' and 'CabinSide' for groups with more than 1 member, and count occurrences\n",
    "group_cabinside = data[data['GroupSize'] > 1].groupby(['LastName', 'CabinSide']).size().unstack(fill_value=0)\n",
    "\n",
    "# Step 2: Identify rows where 'CabinSide' is missing and 'Group' is in the group_cabinside index.\n",
    "missing_cabinside_mask = data['CabinSide'].isna() & data['LastName'].isin(group_cabinside.index)\n",
    "\n",
    "# Step 3: Fill missing 'LastName' based on the most common 'LastName' in each 'Group'\n",
    "data.loc[missing_cabinside_mask, 'CabinSide'] = data.loc[missing_cabinside_mask, 'LastName'].map(group_cabinside.idxmax(axis=1))"
   ]
  },
  {
   "cell_type": "code",
   "execution_count": 41,
   "id": "255c1655",
   "metadata": {},
   "outputs": [
    {
     "data": {
      "text/html": [
       "<div>\n",
       "<style scoped>\n",
       "    .dataframe tbody tr th:only-of-type {\n",
       "        vertical-align: middle;\n",
       "    }\n",
       "\n",
       "    .dataframe tbody tr th {\n",
       "        vertical-align: top;\n",
       "    }\n",
       "\n",
       "    .dataframe thead th {\n",
       "        text-align: right;\n",
       "    }\n",
       "</style>\n",
       "<table border=\"1\" class=\"dataframe\">\n",
       "  <thead>\n",
       "    <tr style=\"text-align: right;\">\n",
       "      <th></th>\n",
       "      <th>NumberMissing</th>\n",
       "      <th>PercentageMissing</th>\n",
       "    </tr>\n",
       "  </thead>\n",
       "  <tbody>\n",
       "    <tr>\n",
       "      <th>CabinNumber</th>\n",
       "      <td>299</td>\n",
       "      <td>2.31</td>\n",
       "    </tr>\n",
       "    <tr>\n",
       "      <th>CabinSide</th>\n",
       "      <td>65</td>\n",
       "      <td>0.50</td>\n",
       "    </tr>\n",
       "    <tr>\n",
       "      <th>CryoSleep</th>\n",
       "      <td>310</td>\n",
       "      <td>2.39</td>\n",
       "    </tr>\n",
       "    <tr>\n",
       "      <th>Age</th>\n",
       "      <td>270</td>\n",
       "      <td>2.08</td>\n",
       "    </tr>\n",
       "    <tr>\n",
       "      <th>AgeGroup</th>\n",
       "      <td>270</td>\n",
       "      <td>2.08</td>\n",
       "    </tr>\n",
       "    <tr>\n",
       "      <th>VIP</th>\n",
       "      <td>296</td>\n",
       "      <td>2.28</td>\n",
       "    </tr>\n",
       "  </tbody>\n",
       "</table>\n",
       "</div>"
      ],
      "text/plain": [
       "             NumberMissing  PercentageMissing\n",
       "CabinNumber            299               2.31\n",
       "CabinSide               65               0.50\n",
       "CryoSleep              310               2.39\n",
       "Age                    270               2.08\n",
       "AgeGroup               270               2.08\n",
       "VIP                    296               2.28"
      ]
     },
     "execution_count": 41,
     "metadata": {},
     "output_type": "execute_result"
    }
   ],
   "source": [
    "missing_values = functions.MissingValues(data)\n",
    "missing_values"
   ]
  },
  {
   "cell_type": "markdown",
   "id": "bc4db938",
   "metadata": {},
   "source": [
    "## **Missing Values by Letter U**"
   ]
  },
  {
   "cell_type": "markdown",
   "id": "c2693ebc",
   "metadata": {},
   "source": [
    "The remaining missing values will be replaced with an outlier. This is because we really don't know which one of the two (balanced) sides we should assign."
   ]
  },
  {
   "cell_type": "code",
   "execution_count": 42,
   "id": "66219b21",
   "metadata": {},
   "outputs": [],
   "source": [
    "# Missing values before\n",
    "CS_bef=data['CabinSide'].isna().sum()\n",
    "\n",
    "# Fill remaining missing values with outlier\n",
    "data.loc[data['CabinSide'].isna(),'CabinSide']='U'"
   ]
  },
  {
   "cell_type": "markdown",
   "id": "62e7cdd1",
   "metadata": {},
   "source": [
    "### **Train Set Missing Values**"
   ]
  },
  {
   "cell_type": "code",
   "execution_count": 43,
   "id": "1c471c5e",
   "metadata": {},
   "outputs": [
    {
     "data": {
      "text/html": [
       "<div>\n",
       "<style scoped>\n",
       "    .dataframe tbody tr th:only-of-type {\n",
       "        vertical-align: middle;\n",
       "    }\n",
       "\n",
       "    .dataframe tbody tr th {\n",
       "        vertical-align: top;\n",
       "    }\n",
       "\n",
       "    .dataframe thead th {\n",
       "        text-align: right;\n",
       "    }\n",
       "</style>\n",
       "<table border=\"1\" class=\"dataframe\">\n",
       "  <thead>\n",
       "    <tr style=\"text-align: right;\">\n",
       "      <th></th>\n",
       "      <th>NumberMissing</th>\n",
       "      <th>PercentageMissing</th>\n",
       "    </tr>\n",
       "  </thead>\n",
       "  <tbody>\n",
       "    <tr>\n",
       "      <th>CabinNumber</th>\n",
       "      <td>299</td>\n",
       "      <td>2.31</td>\n",
       "    </tr>\n",
       "    <tr>\n",
       "      <th>CryoSleep</th>\n",
       "      <td>310</td>\n",
       "      <td>2.39</td>\n",
       "    </tr>\n",
       "    <tr>\n",
       "      <th>Age</th>\n",
       "      <td>270</td>\n",
       "      <td>2.08</td>\n",
       "    </tr>\n",
       "    <tr>\n",
       "      <th>AgeGroup</th>\n",
       "      <td>270</td>\n",
       "      <td>2.08</td>\n",
       "    </tr>\n",
       "    <tr>\n",
       "      <th>VIP</th>\n",
       "      <td>296</td>\n",
       "      <td>2.28</td>\n",
       "    </tr>\n",
       "  </tbody>\n",
       "</table>\n",
       "</div>"
      ],
      "text/plain": [
       "             NumberMissing  PercentageMissing\n",
       "CabinNumber            299               2.31\n",
       "CryoSleep              310               2.39\n",
       "Age                    270               2.08\n",
       "AgeGroup               270               2.08\n",
       "VIP                    296               2.28"
      ]
     },
     "execution_count": 43,
     "metadata": {},
     "output_type": "execute_result"
    }
   ],
   "source": [
    "missing_values = functions.MissingValues(data)\n",
    "missing_values"
   ]
  }
 ],
 "metadata": {
  "kernelspec": {
   "display_name": "Python 3 (ipykernel)",
   "language": "python",
   "name": "python3"
  },
  "language_info": {
   "codemirror_mode": {
    "name": "ipython",
    "version": 3
   },
   "file_extension": ".py",
   "mimetype": "text/x-python",
   "name": "python",
   "nbconvert_exporter": "python",
   "pygments_lexer": "ipython3",
   "version": "3.10.1"
  },
  "toc": {
   "base_numbering": 1,
   "nav_menu": {},
   "number_sections": true,
   "sideBar": true,
   "skip_h1_title": false,
   "title_cell": "Table of Contents",
   "title_sidebar": "Contents",
   "toc_cell": false,
   "toc_position": {},
   "toc_section_display": true,
   "toc_window_display": true
  }
 },
 "nbformat": 4,
 "nbformat_minor": 5
}
