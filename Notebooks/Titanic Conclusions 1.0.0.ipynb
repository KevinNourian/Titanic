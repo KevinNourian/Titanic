{
 "cells": [
  {
   "cell_type": "markdown",
   "id": "25aaf1b5",
   "metadata": {},
   "source": [
    "# <center> **Kaggle’s Spaceship Titanic Competition**\n",
    "# <center> **Overview**"
   ]
  },
  {
   "cell_type": "markdown",
   "id": "0a835c74",
   "metadata": {},
   "source": [
    "# **Introduction**"
   ]
  },
  {
   "cell_type": "markdown",
   "id": "5cba9956",
   "metadata": {},
   "source": [
    "In the year 2912 the interstellar Spaceship Titanic has collided with a spacetime anomaly. Some of the passengers were transported to an alternate dimension. In this analysis, I will use the records recovered from the spaceship’s computer system to predict which passengers were affected."
   ]
  },
  {
   "cell_type": "markdown",
   "id": "d6d57568",
   "metadata": {},
   "source": [
    "# **Goal**"
   ]
  },
  {
   "cell_type": "markdown",
   "id": "96768a5d",
   "metadata": {},
   "source": [
    "The goal of this analysis, is to predict the passengers who were transported to an alternate dimension with an accuracy of approximately 80%."
   ]
  },
  {
   "cell_type": "markdown",
   "id": "678c7f5b",
   "metadata": {},
   "source": [
    "# **Dataset**"
   ]
  },
  {
   "cell_type": "markdown",
   "id": "44c11a15",
   "metadata": {},
   "source": [
    "**Train file (spaceship_titanic_train.csv)** — Contains personal records of the passengers that would be used to build the machine learning model.\n",
    "\n",
    "**Test file (spaceship_titanic_test.csv)** — Contains personal records for the remaining passengers, but not the target variable. It will be used to see how well our model performs on unseen data.\n",
    "\n",
    "**Sample Submission File (sample_submission.csv)** — Contains the format to submit predictions."
   ]
  },
  {
   "cell_type": "markdown",
   "id": "f28a8ff3",
   "metadata": {},
   "source": [
    "# **Technical Requirements**"
   ]
  },
  {
   "cell_type": "markdown",
   "id": "7a6b1598",
   "metadata": {},
   "source": [
    "1. Exploratory data analysis\n",
    "2. Pre-Processing of the data\n",
    "3. Application of various machine learning models to predict which passengers were transported\n",
    "4. Clear explanations of findings\n",
    "5. Final conclusions\n",
    "6. Suggestions on how the analysis can be improved"
   ]
  },
  {
   "cell_type": "markdown",
   "id": "ca999447",
   "metadata": {},
   "source": [
    "# **Standards**"
   ]
  },
  {
   "cell_type": "markdown",
   "id": "03cfc8d9",
   "metadata": {},
   "source": [
    "> **Standard 1:** My standard for an acceptable accuracy score is approximately 80%. <BR>\n",
    "> **Standard 2:** My standard for colinnearity is a Pearson correlation coefficient of approximately 0.8. <BR>    "
   ]
  },
  {
   "cell_type": "markdown",
   "id": "44d5b938",
   "metadata": {},
   "source": [
    "# **Biases**"
   ]
  },
  {
   "cell_type": "markdown",
   "id": "62a5d111",
   "metadata": {},
   "source": [
    "The main bias is that approximately 25% of the data is missing. Every feature except the PassengerId feature has over 2% missing data. "
   ]
  },
  {
   "cell_type": "markdown",
   "id": "b8db7963",
   "metadata": {},
   "source": [
    "# **Domain Knowledge**"
   ]
  },
  {
   "cell_type": "markdown",
   "id": "d244aa76",
   "metadata": {},
   "source": [
    "I have no experience with space travel or alternate dimensions. I may have overlooked parts of the data that may have been most important and I may have given importance to parts that may have had little significance. "
   ]
  },
  {
   "cell_type": "markdown",
   "id": "7a6c8da2",
   "metadata": {},
   "source": [
    "# **Libraries**"
   ]
  },
  {
   "cell_type": "code",
   "execution_count": 2,
   "id": "73e35264",
   "metadata": {},
   "outputs": [
    {
     "data": {
      "text/plain": [
       "<module 'functions' from 'c:\\\\Users\\\\Dell\\\\Documents\\\\AI\\\\Titanic\\\\Notebooks\\\\functions.py'>"
      ]
     },
     "execution_count": 2,
     "metadata": {},
     "output_type": "execute_result"
    }
   ],
   "source": [
    "import pandas as pd\n",
    "\n",
    "import functions\n",
    "import importlib\n",
    "importlib.reload(functions)"
   ]
  },
  {
   "cell_type": "markdown",
   "id": "f169bb5d",
   "metadata": {},
   "source": [
    "# **Loading Data**"
   ]
  },
  {
   "cell_type": "code",
   "execution_count": 3,
   "id": "e358ddcd",
   "metadata": {},
   "outputs": [],
   "source": [
    "train = pd.read_csv(\n",
    "    r\"C:\\Users\\Dell\\Documents\\AI\\Titanic\\Data\\Data\\train.csv\",\n",
    "    index_col=False\n",
    ")\n",
    "\n",
    "test = pd.read_csv(\n",
    "    r\"C:\\Users\\Dell\\Documents\\AI\\Titanic\\Data\\Data\\test.csv\",\n",
    "    index_col=False\n",
    ")"
   ]
  },
  {
   "cell_type": "markdown",
   "id": "4d902854",
   "metadata": {},
   "source": [
    "# **Overview**"
   ]
  },
  {
   "cell_type": "markdown",
   "id": "2c2b2ee1",
   "metadata": {},
   "source": [
    "## **Dataset Features**"
   ]
  },
  {
   "cell_type": "markdown",
   "id": "3dc7fc38",
   "metadata": {},
   "source": [
    "1. **PassengerId:** A unique Id for each passenger. Each Id takes the form gggg_pp where gggg indicates a group the passenger is travelling with and pp is their number within the group. People in a group are often family members, but not always.\n",
    "2. **HomePlanet:** The planet the passenger departed from, typically their planet of permanent residence.\n",
    "3. **CryoSleep:** Indicates whether the passenger elected to be put into suspended animation for the duration of the voyage. Passengers in cryosleep are confined to their cabins.\n",
    "4. **Cabin:** The cabin number where the passenger is staying. Takes the form deck/num/side, where side can be either P for Port or S for Starboard.\n",
    "5. **Destination:** The planet the passenger will be debarking to.\n",
    "6. **Age:** The age of the passenger.\n",
    "7. **VIP:** Whether the passenger has paid for special VIP service during the voyage\n",
    "8. **RoomService:** Amount the passenger has billed for Room Service.\n",
    "9. **FoodCourt:** Amount the passenger has billed for Food Court.\n",
    "10. **ShoppingMall:**: Amount the passenger has billed for Shopping Mall.\n",
    "11. **Spa:**: Amount the passenger has billed for Spa.\n",
    "12. **VRDeck:**: Amount the passenger has billed for VRDeck.\n",
    "13. **Name**: The first and last names of the passenger.\n",
    "13. **Transported**: Whether the passenger was transported to another dimension. This is the target, the column you are trying to predict."
   ]
  },
  {
   "cell_type": "markdown",
   "id": "fb8d9c0d",
   "metadata": {},
   "source": [
    "## **Number of Rows and Column**"
   ]
  },
  {
   "cell_type": "code",
   "execution_count": 4,
   "id": "0742faf3",
   "metadata": {},
   "outputs": [
    {
     "name": "stdout",
     "output_type": "stream",
     "text": [
      "Train Set Shape: (8693, 14)\n",
      "Test Set Shape: (4277, 13)\n"
     ]
    }
   ],
   "source": [
    "print('Train Set Shape:', train.shape)\n",
    "print('Test Set Shape:', test.shape)"
   ]
  },
  {
   "cell_type": "markdown",
   "id": "989deb25",
   "metadata": {},
   "source": [
    "### **Insights**"
   ]
  },
  {
   "cell_type": "markdown",
   "id": "e6fdae45",
   "metadata": {},
   "source": [
    "> * **Train Dataset** — There are about 8700 rows and 14 columns. The final column is \"Transported\" which indicates if the passenger was transported to an alternate dimension. \n",
    "> * **Test Dataset** — There are about 4300 rows and 13 columns. The \"Transported\" column has been deleted."
   ]
  },
  {
   "cell_type": "markdown",
   "id": "1548ce53",
   "metadata": {},
   "source": [
    "## **Data Types**"
   ]
  },
  {
   "cell_type": "code",
   "execution_count": 5,
   "id": "2ed27718",
   "metadata": {},
   "outputs": [
    {
     "name": "stdout",
     "output_type": "stream",
     "text": [
      "<class 'pandas.core.frame.DataFrame'>\n",
      "RangeIndex: 8693 entries, 0 to 8692\n",
      "Data columns (total 14 columns):\n",
      " #   Column        Non-Null Count  Dtype  \n",
      "---  ------        --------------  -----  \n",
      " 0   PassengerId   8693 non-null   object \n",
      " 1   HomePlanet    8492 non-null   object \n",
      " 2   CryoSleep     8476 non-null   object \n",
      " 3   Cabin         8494 non-null   object \n",
      " 4   Destination   8511 non-null   object \n",
      " 5   Age           8514 non-null   float64\n",
      " 6   VIP           8490 non-null   object \n",
      " 7   RoomService   8512 non-null   float64\n",
      " 8   FoodCourt     8510 non-null   float64\n",
      " 9   ShoppingMall  8485 non-null   float64\n",
      " 10  Spa           8510 non-null   float64\n",
      " 11  VRDeck        8505 non-null   float64\n",
      " 12  Name          8493 non-null   object \n",
      " 13  Transported   8693 non-null   bool   \n",
      "dtypes: bool(1), float64(6), object(7)\n",
      "memory usage: 891.5+ KB\n"
     ]
    }
   ],
   "source": [
    "train.info()"
   ]
  },
  {
   "cell_type": "markdown",
   "id": "49010f8d",
   "metadata": {},
   "source": [
    "### **Insights**"
   ]
  },
  {
   "cell_type": "markdown",
   "id": "4273c12e",
   "metadata": {},
   "source": [
    "> * **Categorical variables (object)** — The categorical variables in the training dataset are: PassengerId, HomePlanet, Cabin, Destination, and Name.\n",
    "> * **Float variable (float64)** — The Numerical variables in our train dataset: Age, RoomService, FoodCourt, ShoppingMall, Spa and VRDeck.\n",
    "> * **Boolean variables (bool)** — The Boolean Variable in our dataset are CryoSleep, VIP and Transported."
   ]
  },
  {
   "cell_type": "markdown",
   "id": "1eb1281b",
   "metadata": {},
   "source": [
    "## **Numerical Features**"
   ]
  },
  {
   "cell_type": "code",
   "execution_count": 83,
   "id": "b86d78a1",
   "metadata": {},
   "outputs": [
    {
     "data": {
      "text/html": [
       "<div>\n",
       "<style scoped>\n",
       "    .dataframe tbody tr th:only-of-type {\n",
       "        vertical-align: middle;\n",
       "    }\n",
       "\n",
       "    .dataframe tbody tr th {\n",
       "        vertical-align: top;\n",
       "    }\n",
       "\n",
       "    .dataframe thead th {\n",
       "        text-align: right;\n",
       "    }\n",
       "</style>\n",
       "<table border=\"1\" class=\"dataframe\">\n",
       "  <thead>\n",
       "    <tr style=\"text-align: right;\">\n",
       "      <th></th>\n",
       "      <th>Age</th>\n",
       "      <th>RoomService</th>\n",
       "      <th>FoodCourt</th>\n",
       "      <th>ShoppingMall</th>\n",
       "      <th>Spa</th>\n",
       "      <th>VRDeck</th>\n",
       "    </tr>\n",
       "  </thead>\n",
       "  <tbody>\n",
       "    <tr>\n",
       "      <th>count</th>\n",
       "      <td>8,514.00</td>\n",
       "      <td>8,512.00</td>\n",
       "      <td>8,510.00</td>\n",
       "      <td>8,485.00</td>\n",
       "      <td>8,510.00</td>\n",
       "      <td>8,505.00</td>\n",
       "    </tr>\n",
       "    <tr>\n",
       "      <th>mean</th>\n",
       "      <td>28.83</td>\n",
       "      <td>224.69</td>\n",
       "      <td>458.08</td>\n",
       "      <td>173.73</td>\n",
       "      <td>311.14</td>\n",
       "      <td>304.85</td>\n",
       "    </tr>\n",
       "    <tr>\n",
       "      <th>std</th>\n",
       "      <td>14.49</td>\n",
       "      <td>666.72</td>\n",
       "      <td>1,611.49</td>\n",
       "      <td>604.70</td>\n",
       "      <td>1,136.71</td>\n",
       "      <td>1,145.72</td>\n",
       "    </tr>\n",
       "    <tr>\n",
       "      <th>min</th>\n",
       "      <td>0.00</td>\n",
       "      <td>0.00</td>\n",
       "      <td>0.00</td>\n",
       "      <td>0.00</td>\n",
       "      <td>0.00</td>\n",
       "      <td>0.00</td>\n",
       "    </tr>\n",
       "    <tr>\n",
       "      <th>25%</th>\n",
       "      <td>19.00</td>\n",
       "      <td>0.00</td>\n",
       "      <td>0.00</td>\n",
       "      <td>0.00</td>\n",
       "      <td>0.00</td>\n",
       "      <td>0.00</td>\n",
       "    </tr>\n",
       "    <tr>\n",
       "      <th>50%</th>\n",
       "      <td>27.00</td>\n",
       "      <td>0.00</td>\n",
       "      <td>0.00</td>\n",
       "      <td>0.00</td>\n",
       "      <td>0.00</td>\n",
       "      <td>0.00</td>\n",
       "    </tr>\n",
       "    <tr>\n",
       "      <th>75%</th>\n",
       "      <td>38.00</td>\n",
       "      <td>47.00</td>\n",
       "      <td>76.00</td>\n",
       "      <td>27.00</td>\n",
       "      <td>59.00</td>\n",
       "      <td>46.00</td>\n",
       "    </tr>\n",
       "    <tr>\n",
       "      <th>max</th>\n",
       "      <td>79.00</td>\n",
       "      <td>14,327.00</td>\n",
       "      <td>29,813.00</td>\n",
       "      <td>23,492.00</td>\n",
       "      <td>22,408.00</td>\n",
       "      <td>24,133.00</td>\n",
       "    </tr>\n",
       "  </tbody>\n",
       "</table>\n",
       "</div>"
      ],
      "text/plain": [
       "            Age RoomService  FoodCourt ShoppingMall        Spa     VRDeck\n",
       "count  8,514.00    8,512.00   8,510.00     8,485.00   8,510.00   8,505.00\n",
       "mean      28.83      224.69     458.08       173.73     311.14     304.85\n",
       "std       14.49      666.72   1,611.49       604.70   1,136.71   1,145.72\n",
       "min        0.00        0.00       0.00         0.00       0.00       0.00\n",
       "25%       19.00        0.00       0.00         0.00       0.00       0.00\n",
       "50%       27.00        0.00       0.00         0.00       0.00       0.00\n",
       "75%       38.00       47.00      76.00        27.00      59.00      46.00\n",
       "max       79.00   14,327.00  29,813.00    23,492.00  22,408.00  24,133.00"
      ]
     },
     "execution_count": 83,
     "metadata": {},
     "output_type": "execute_result"
    }
   ],
   "source": [
    "train.describe(include=\"number\").map(\"{:,.2f}\".format)"
   ]
  },
  {
   "cell_type": "markdown",
   "id": "8d5bfedc",
   "metadata": {},
   "source": [
    "## **Categorical and Boolean Features**"
   ]
  },
  {
   "cell_type": "code",
   "execution_count": 6,
   "id": "23bc117a",
   "metadata": {},
   "outputs": [
    {
     "name": "stdout",
     "output_type": "stream",
     "text": [
      "Unique Values in PassengerId: 8693\n",
      "Unique Values in HomePlanet: 3\n",
      "Unique Values in CryoSleep: 2\n",
      "Unique Values in Cabin: 6560\n",
      "Unique Values in Destination: 3\n",
      "Unique Values in VIP: 2\n",
      "Unique Values in Name: 8473\n"
     ]
    }
   ],
   "source": [
    "functions.UniqueValues(train)"
   ]
  },
  {
   "cell_type": "code",
   "execution_count": 9,
   "id": "aed98e08",
   "metadata": {},
   "outputs": [
    {
     "name": "stdout",
     "output_type": "stream",
     "text": [
      "['Europa' 'Earth' 'Mars' nan]\n"
     ]
    }
   ],
   "source": [
    "print(train['HomePlanet'].unique())"
   ]
  },
  {
   "cell_type": "code",
   "execution_count": 10,
   "id": "6e1877cc",
   "metadata": {},
   "outputs": [
    {
     "name": "stdout",
     "output_type": "stream",
     "text": [
      "['TRAPPIST-1e' 'PSO J318.5-22' '55 Cancri e' nan]\n"
     ]
    }
   ],
   "source": [
    "print(train['Destination'].unique())"
   ]
  },
  {
   "cell_type": "code",
   "execution_count": 12,
   "id": "f91b7741",
   "metadata": {},
   "outputs": [
    {
     "name": "stdout",
     "output_type": "stream",
     "text": [
      "[False True nan]\n"
     ]
    }
   ],
   "source": [
    "print(train['CryoSleep'].unique())"
   ]
  },
  {
   "cell_type": "code",
   "execution_count": 13,
   "id": "dedffe2d",
   "metadata": {},
   "outputs": [
    {
     "name": "stdout",
     "output_type": "stream",
     "text": [
      "[False True nan]\n"
     ]
    }
   ],
   "source": [
    "print(train['VIP'].unique())"
   ]
  },
  {
   "cell_type": "markdown",
   "id": "808c5b63",
   "metadata": {},
   "source": [
    "### **Insights**"
   ]
  },
  {
   "cell_type": "markdown",
   "id": "8a5ad7c2",
   "metadata": {},
   "source": [
    "> * **HomePlanets:** Europa, Earth, Mars\n",
    "> * **Destinations:** TRAPPIST-1e, PSO J318.5-22, 55 Cancri e\n",
    "> * **CryoSleep:** True and False\n",
    "> * **VIP:** True and False"
   ]
  },
  {
   "cell_type": "markdown",
   "id": "f6291c9d",
   "metadata": {},
   "source": [
    "## **Outliers**"
   ]
  },
  {
   "cell_type": "code",
   "execution_count": 85,
   "id": "75f6f409",
   "metadata": {},
   "outputs": [
    {
     "name": "stdout",
     "output_type": "stream",
     "text": [
      "Age               77\n",
      "RoomService     1861\n",
      "FoodCourt       1823\n",
      "ShoppingMall    1829\n",
      "Spa             1788\n",
      "VRDeck          1809\n",
      "dtype: int64\n"
     ]
    }
   ],
   "source": [
    "functions.Outliers(train)"
   ]
  },
  {
   "cell_type": "markdown",
   "id": "3480dec0",
   "metadata": {},
   "source": [
    "### **Insights**"
   ]
  },
  {
   "cell_type": "markdown",
   "id": "9929ded4",
   "metadata": {},
   "source": [
    "> * **Outliers:** All Six Numerical Features Contain Outliers\n",
    "> * **Age:** Age has the fewest outliers (77)"
   ]
  },
  {
   "cell_type": "markdown",
   "id": "eb434f64",
   "metadata": {},
   "source": [
    "## **Missing Values**"
   ]
  },
  {
   "cell_type": "code",
   "execution_count": 86,
   "id": "073e7458",
   "metadata": {},
   "outputs": [
    {
     "data": {
      "text/html": [
       "<div>\n",
       "<style scoped>\n",
       "    .dataframe tbody tr th:only-of-type {\n",
       "        vertical-align: middle;\n",
       "    }\n",
       "\n",
       "    .dataframe tbody tr th {\n",
       "        vertical-align: top;\n",
       "    }\n",
       "\n",
       "    .dataframe thead th {\n",
       "        text-align: right;\n",
       "    }\n",
       "</style>\n",
       "<table border=\"1\" class=\"dataframe\">\n",
       "  <thead>\n",
       "    <tr style=\"text-align: right;\">\n",
       "      <th></th>\n",
       "      <th>NumberMissing</th>\n",
       "      <th>PercentageMissing</th>\n",
       "    </tr>\n",
       "  </thead>\n",
       "  <tbody>\n",
       "    <tr>\n",
       "      <th>HomePlanet</th>\n",
       "      <td>201</td>\n",
       "      <td>2.31</td>\n",
       "    </tr>\n",
       "    <tr>\n",
       "      <th>CryoSleep</th>\n",
       "      <td>217</td>\n",
       "      <td>2.50</td>\n",
       "    </tr>\n",
       "    <tr>\n",
       "      <th>Cabin</th>\n",
       "      <td>199</td>\n",
       "      <td>2.29</td>\n",
       "    </tr>\n",
       "    <tr>\n",
       "      <th>Destination</th>\n",
       "      <td>182</td>\n",
       "      <td>2.09</td>\n",
       "    </tr>\n",
       "    <tr>\n",
       "      <th>Age</th>\n",
       "      <td>179</td>\n",
       "      <td>2.06</td>\n",
       "    </tr>\n",
       "    <tr>\n",
       "      <th>VIP</th>\n",
       "      <td>203</td>\n",
       "      <td>2.34</td>\n",
       "    </tr>\n",
       "    <tr>\n",
       "      <th>RoomService</th>\n",
       "      <td>181</td>\n",
       "      <td>2.08</td>\n",
       "    </tr>\n",
       "    <tr>\n",
       "      <th>FoodCourt</th>\n",
       "      <td>183</td>\n",
       "      <td>2.11</td>\n",
       "    </tr>\n",
       "    <tr>\n",
       "      <th>ShoppingMall</th>\n",
       "      <td>208</td>\n",
       "      <td>2.39</td>\n",
       "    </tr>\n",
       "    <tr>\n",
       "      <th>Spa</th>\n",
       "      <td>183</td>\n",
       "      <td>2.11</td>\n",
       "    </tr>\n",
       "    <tr>\n",
       "      <th>VRDeck</th>\n",
       "      <td>188</td>\n",
       "      <td>2.16</td>\n",
       "    </tr>\n",
       "    <tr>\n",
       "      <th>Name</th>\n",
       "      <td>200</td>\n",
       "      <td>2.30</td>\n",
       "    </tr>\n",
       "  </tbody>\n",
       "</table>\n",
       "</div>"
      ],
      "text/plain": [
       "              NumberMissing  PercentageMissing\n",
       "HomePlanet              201               2.31\n",
       "CryoSleep               217               2.50\n",
       "Cabin                   199               2.29\n",
       "Destination             182               2.09\n",
       "Age                     179               2.06\n",
       "VIP                     203               2.34\n",
       "RoomService             181               2.08\n",
       "FoodCourt               183               2.11\n",
       "ShoppingMall            208               2.39\n",
       "Spa                     183               2.11\n",
       "VRDeck                  188               2.16\n",
       "Name                    200               2.30"
      ]
     },
     "execution_count": 86,
     "metadata": {},
     "output_type": "execute_result"
    }
   ],
   "source": [
    "missing_values = functions.MissingValues(train)\n",
    "missing_values"
   ]
  },
  {
   "cell_type": "code",
   "execution_count": 87,
   "id": "d9a109b7",
   "metadata": {},
   "outputs": [
    {
     "data": {
      "text/html": [
       "<div>\n",
       "<style scoped>\n",
       "    .dataframe tbody tr th:only-of-type {\n",
       "        vertical-align: middle;\n",
       "    }\n",
       "\n",
       "    .dataframe tbody tr th {\n",
       "        vertical-align: top;\n",
       "    }\n",
       "\n",
       "    .dataframe thead th {\n",
       "        text-align: right;\n",
       "    }\n",
       "</style>\n",
       "<table border=\"1\" class=\"dataframe\">\n",
       "  <thead>\n",
       "    <tr style=\"text-align: right;\">\n",
       "      <th></th>\n",
       "      <th>NumberMissing</th>\n",
       "      <th>PercentageMissing</th>\n",
       "    </tr>\n",
       "  </thead>\n",
       "  <tbody>\n",
       "    <tr>\n",
       "      <th>HomePlanet</th>\n",
       "      <td>87</td>\n",
       "      <td>2.03</td>\n",
       "    </tr>\n",
       "    <tr>\n",
       "      <th>CryoSleep</th>\n",
       "      <td>93</td>\n",
       "      <td>2.17</td>\n",
       "    </tr>\n",
       "    <tr>\n",
       "      <th>Cabin</th>\n",
       "      <td>100</td>\n",
       "      <td>2.34</td>\n",
       "    </tr>\n",
       "    <tr>\n",
       "      <th>Destination</th>\n",
       "      <td>92</td>\n",
       "      <td>2.15</td>\n",
       "    </tr>\n",
       "    <tr>\n",
       "      <th>Age</th>\n",
       "      <td>91</td>\n",
       "      <td>2.13</td>\n",
       "    </tr>\n",
       "    <tr>\n",
       "      <th>VIP</th>\n",
       "      <td>93</td>\n",
       "      <td>2.17</td>\n",
       "    </tr>\n",
       "    <tr>\n",
       "      <th>RoomService</th>\n",
       "      <td>82</td>\n",
       "      <td>1.92</td>\n",
       "    </tr>\n",
       "    <tr>\n",
       "      <th>FoodCourt</th>\n",
       "      <td>106</td>\n",
       "      <td>2.48</td>\n",
       "    </tr>\n",
       "    <tr>\n",
       "      <th>ShoppingMall</th>\n",
       "      <td>98</td>\n",
       "      <td>2.29</td>\n",
       "    </tr>\n",
       "    <tr>\n",
       "      <th>Spa</th>\n",
       "      <td>101</td>\n",
       "      <td>2.36</td>\n",
       "    </tr>\n",
       "    <tr>\n",
       "      <th>VRDeck</th>\n",
       "      <td>80</td>\n",
       "      <td>1.87</td>\n",
       "    </tr>\n",
       "    <tr>\n",
       "      <th>Name</th>\n",
       "      <td>94</td>\n",
       "      <td>2.20</td>\n",
       "    </tr>\n",
       "  </tbody>\n",
       "</table>\n",
       "</div>"
      ],
      "text/plain": [
       "              NumberMissing  PercentageMissing\n",
       "HomePlanet               87               2.03\n",
       "CryoSleep                93               2.17\n",
       "Cabin                   100               2.34\n",
       "Destination              92               2.15\n",
       "Age                      91               2.13\n",
       "VIP                      93               2.17\n",
       "RoomService              82               1.92\n",
       "FoodCourt               106               2.48\n",
       "ShoppingMall             98               2.29\n",
       "Spa                     101               2.36\n",
       "VRDeck                   80               1.87\n",
       "Name                     94               2.20"
      ]
     },
     "execution_count": 87,
     "metadata": {},
     "output_type": "execute_result"
    }
   ],
   "source": [
    "missing_values = functions.MissingValues(test)\n",
    "missing_values"
   ]
  },
  {
   "cell_type": "markdown",
   "id": "4e2748eb",
   "metadata": {},
   "source": [
    "### **Insights**"
   ]
  },
  {
   "cell_type": "markdown",
   "id": "d3747fa8",
   "metadata": {},
   "source": [
    "> * **Percentage Overall:** Approximately 26% of Data is missing.\n",
    "> * **Pecentage per Feature**: Each Feature Execpt PassengerId has over 2% Missing. "
   ]
  },
  {
   "cell_type": "markdown",
   "id": "847dc668",
   "metadata": {},
   "source": [
    "## **Duplicate Data**"
   ]
  },
  {
   "cell_type": "code",
   "execution_count": 88,
   "id": "a99d6d1f",
   "metadata": {},
   "outputs": [
    {
     "name": "stdout",
     "output_type": "stream",
     "text": [
      "Duplicates: 0, (0.0%)\n"
     ]
    }
   ],
   "source": [
    "functions.Duplicates(train)\n"
   ]
  },
  {
   "cell_type": "code",
   "execution_count": 89,
   "id": "42e7b46e",
   "metadata": {},
   "outputs": [
    {
     "name": "stdout",
     "output_type": "stream",
     "text": [
      "Duplicates: 0, (0.0%)\n"
     ]
    }
   ],
   "source": [
    "functions.Duplicates(test)"
   ]
  },
  {
   "cell_type": "markdown",
   "id": "99ce75cd",
   "metadata": {},
   "source": [
    "### **Insights**"
   ]
  },
  {
   "cell_type": "markdown",
   "id": "683c7e54",
   "metadata": {},
   "source": [
    "> * **Number of Duplicates**: There are no duplicates in the train or test datasets."
   ]
  }
 ],
 "metadata": {
  "kernelspec": {
   "display_name": "Python 3 (ipykernel)",
   "language": "python",
   "name": "python3"
  },
  "language_info": {
   "codemirror_mode": {
    "name": "ipython",
    "version": 3
   },
   "file_extension": ".py",
   "mimetype": "text/x-python",
   "name": "python",
   "nbconvert_exporter": "python",
   "pygments_lexer": "ipython3",
   "version": "3.10.1"
  },
  "toc": {
   "base_numbering": 1,
   "nav_menu": {},
   "number_sections": true,
   "sideBar": true,
   "skip_h1_title": false,
   "title_cell": "Table of Contents",
   "title_sidebar": "Contents",
   "toc_cell": false,
   "toc_position": {},
   "toc_section_display": true,
   "toc_window_display": true
  }
 },
 "nbformat": 4,
 "nbformat_minor": 5
}
