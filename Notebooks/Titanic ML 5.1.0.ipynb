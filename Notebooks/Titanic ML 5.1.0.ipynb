{
 "cells": [
  {
   "cell_type": "markdown",
   "metadata": {},
   "source": [
    "# <center> **Kaggle’s Spaceship Titanic Competition**\n",
    "# <center> **Machine Learning**"
   ]
  },
  {
   "cell_type": "markdown",
   "metadata": {},
   "source": [
    "# **Libraries**"
   ]
  },
  {
   "cell_type": "code",
   "execution_count": 6,
   "metadata": {},
   "outputs": [
    {
     "data": {
      "text/plain": [
       "<module 'functions' from 'c:\\\\Users\\\\Dell\\\\Documents\\\\AI\\\\Titanic\\\\Notebooks\\\\functions.py'>"
      ]
     },
     "execution_count": 6,
     "metadata": {},
     "output_type": "execute_result"
    }
   ],
   "source": [
    "import pandas as pd\n",
    "import numpy as np\n",
    "\n",
    "from lightgbm import LGBMClassifier\n",
    "import lightgbm as lgb\n",
    "\n",
    "from sklearn.model_selection import train_test_split\n",
    "from sklearn.utils import shuffle\n",
    "from sklearn.compose import ColumnTransformer\n",
    "from sklearn.pipeline import Pipeline\n",
    "from sklearn.preprocessing import StandardScaler\n",
    "from sklearn.preprocessing import OneHotEncoder\n",
    "from bayes_opt import BayesianOptimization\n",
    "\n",
    "import warnings\n",
    "import time\n",
    "\n",
    "import functions\n",
    "import importlib\n",
    "importlib.reload(functions)"
   ]
  },
  {
   "cell_type": "markdown",
   "metadata": {},
   "source": [
    "# **Load Data**"
   ]
  },
  {
   "cell_type": "code",
   "execution_count": 19,
   "metadata": {},
   "outputs": [],
   "source": [
    "data = pd.read_csv(\n",
    "    r\"C:\\Users\\Dell\\Documents\\AI\\Titanic\\Data\\Data\\data.csv\",\n",
    "    index_col=False\n",
    ")\n",
    "\n",
    "train = pd.read_csv(\n",
    "    r\"C:\\Users\\Dell\\Documents\\AI\\Titanic\\Data\\Data\\train.csv\",\n",
    "    index_col=False\n",
    ")\n",
    "\n",
    "test = pd.read_csv(\n",
    "    r\"C:\\Users\\Dell\\Documents\\AI\\Titanic\\Data\\Data\\test.csv\",\n",
    "    index_col=False\n",
    ")\n",
    "\n",
    "random_state = 101\n",
    "target = 'Transported'"
   ]
  },
  {
   "cell_type": "code",
   "execution_count": 20,
   "metadata": {},
   "outputs": [],
   "source": [
    "train=data[data['PassengerId'].isin(train['PassengerId'].values)].copy()\n",
    "test=data[data['PassengerId'].isin(test['PassengerId'].values)].copy()"
   ]
  },
  {
   "cell_type": "code",
   "execution_count": 21,
   "metadata": {},
   "outputs": [],
   "source": [
    "train.drop(['PassengerId', 'Group', 'CabinNumber'], axis=1, inplace=True)\n",
    "test.drop(['PassengerId', 'Group', 'CabinNumber'], axis=1, inplace=True)"
   ]
  },
  {
   "cell_type": "code",
   "execution_count": 10,
   "metadata": {},
   "outputs": [],
   "source": [
    "columns_to_transform = ['RoomService', 'FoodCourt', 'ShoppingMall', 'Spa', 'VRDeck', 'TotalExpenditure']\n",
    "\n",
    "for col in columns_to_transform:\n",
    "    train = functions.log_transform(train, col)\n",
    "    test = functions.log_transform(test, col)"
   ]
  },
  {
   "cell_type": "code",
   "execution_count": 11,
   "metadata": {},
   "outputs": [],
   "source": [
    "numerical_cols = [cname for cname in train.columns if train[cname].dtype in ['int64', 'float64']]\n",
    "categorical_cols = [cname for cname in train.columns if train[cname].dtype in [\"object\", \"bool\"]]\n",
    "categorical_cols.remove(target)"
   ]
  },
  {
   "cell_type": "code",
   "execution_count": 22,
   "metadata": {},
   "outputs": [],
   "source": [
    "X = train.drop(target, axis=1)\n",
    "y = train[target]\n",
    "y = y.astype(bool)\n",
    "\n",
    "\n",
    "X, y = shuffle(X, y, random_state=random_state)\n",
    "X_train, X_test, y_train, y_test = train_test_split(X, y, test_size=0.2, stratify=y, random_state=random_state)"
   ]
  },
  {
   "cell_type": "code",
   "execution_count": 27,
   "metadata": {},
   "outputs": [],
   "source": [
    "numerical_transformer = Pipeline(steps=[('scaler', StandardScaler())])\n",
    "categorical_transformer = Pipeline(steps=[('onehot', OneHotEncoder(handle_unknown='ignore', sparse_output=False))])\n",
    "\n",
    "preprocessor  = ColumnTransformer(\n",
    "    transformers=[\n",
    "        ('num', numerical_transformer, numerical_cols),\n",
    "        ('cat', categorical_transformer, categorical_cols)],\n",
    "        remainder='passthrough')"
   ]
  },
  {
   "cell_type": "code",
   "execution_count": 29,
   "metadata": {},
   "outputs": [],
   "source": [
    "# Separate features and target\n",
    "X = train.drop(columns=[target])\n",
    "y = train[target]\n",
    "\n",
    "# Fit and transform the features\n",
    "X_transformed = preprocessor.fit_transform(X)\n",
    "\n",
    "# Convert to DataFrame\n",
    "X_transformed_df = pd.DataFrame(X_transformed, columns=preprocessor.get_feature_names_out())\n",
    "\n",
    "# Combine with target\n",
    "final_df = pd.concat([X_transformed_df, y.reset_index(drop=True)], axis=1)"
   ]
  },
  {
   "cell_type": "markdown",
   "metadata": {},
   "source": [
    "## **Bayesian Optimization**"
   ]
  },
  {
   "cell_type": "markdown",
   "metadata": {},
   "source": [
    "### **LGBM**"
   ]
  },
  {
   "cell_type": "code",
   "execution_count": 31,
   "metadata": {},
   "outputs": [
    {
     "name": "stdout",
     "output_type": "stream",
     "text": [
      "|   iter    |  target   | colsam... | learni... | max_depth | min_ch... | min_da... | num_le... | subsample |\n",
      "-------------------------------------------------------------------------------------------------------------\n"
     ]
    },
    {
     "ename": "ValueError",
     "evalue": "pandas dtypes must be int, float or bool.\nFields with bad pandas dtypes: HomePlanet: object, CabinDeck: object, CabinSide: object, Destination: object, AgeGroup: object, LastName: object",
     "output_type": "error",
     "traceback": [
      "\u001b[1;31m---------------------------------------------------------------------------\u001b[0m",
      "\u001b[1;31mValueError\u001b[0m                                Traceback (most recent call last)",
      "Cell \u001b[1;32mIn[31], line 47\u001b[0m\n\u001b[0;32m     39\u001b[0m optimizer \u001b[38;5;241m=\u001b[39m BayesianOptimization(\n\u001b[0;32m     40\u001b[0m     f\u001b[38;5;241m=\u001b[39mlgb_eval,\n\u001b[0;32m     41\u001b[0m     pbounds\u001b[38;5;241m=\u001b[39mparam_bounds,\n\u001b[0;32m     42\u001b[0m     random_state\u001b[38;5;241m=\u001b[39m\u001b[38;5;241m42\u001b[39m,\n\u001b[0;32m     43\u001b[0m     verbose\u001b[38;5;241m=\u001b[39m\u001b[38;5;241m2\u001b[39m\n\u001b[0;32m     44\u001b[0m )\n\u001b[0;32m     46\u001b[0m \u001b[38;5;66;03m# Optimize\u001b[39;00m\n\u001b[1;32m---> 47\u001b[0m \u001b[43moptimizer\u001b[49m\u001b[38;5;241;43m.\u001b[39;49m\u001b[43mmaximize\u001b[49m\u001b[43m(\u001b[49m\u001b[43minit_points\u001b[49m\u001b[38;5;241;43m=\u001b[39;49m\u001b[38;5;241;43m10\u001b[39;49m\u001b[43m,\u001b[49m\u001b[43m \u001b[49m\u001b[43mn_iter\u001b[49m\u001b[38;5;241;43m=\u001b[39;49m\u001b[38;5;241;43m30\u001b[39;49m\u001b[43m)\u001b[49m\n\u001b[0;32m     49\u001b[0m \u001b[38;5;66;03m# Print the best parameters\u001b[39;00m\n\u001b[0;32m     50\u001b[0m \u001b[38;5;28mprint\u001b[39m(\u001b[38;5;124m\"\u001b[39m\u001b[38;5;124mBest parameters found: \u001b[39m\u001b[38;5;124m\"\u001b[39m, optimizer\u001b[38;5;241m.\u001b[39mmax)\n",
      "File \u001b[1;32mc:\\Users\\Dell\\Documents\\AI\\Titanic\\spaceenv\\lib\\site-packages\\bayes_opt\\bayesian_optimization.py:374\u001b[0m, in \u001b[0;36mBayesianOptimization.maximize\u001b[1;34m(self, init_points, n_iter, acquisition_function, acq, kappa, kappa_decay, kappa_decay_delay, xi, **gp_params)\u001b[0m\n\u001b[0;32m    372\u001b[0m     x_probe \u001b[38;5;241m=\u001b[39m \u001b[38;5;28mself\u001b[39m\u001b[38;5;241m.\u001b[39msuggest(util)\n\u001b[0;32m    373\u001b[0m     iteration \u001b[38;5;241m+\u001b[39m\u001b[38;5;241m=\u001b[39m \u001b[38;5;241m1\u001b[39m\n\u001b[1;32m--> 374\u001b[0m \u001b[38;5;28;43mself\u001b[39;49m\u001b[38;5;241;43m.\u001b[39;49m\u001b[43mprobe\u001b[49m\u001b[43m(\u001b[49m\u001b[43mx_probe\u001b[49m\u001b[43m,\u001b[49m\u001b[43m \u001b[49m\u001b[43mlazy\u001b[49m\u001b[38;5;241;43m=\u001b[39;49m\u001b[38;5;28;43;01mFalse\u001b[39;49;00m\u001b[43m)\u001b[49m\n\u001b[0;32m    376\u001b[0m \u001b[38;5;28;01mif\u001b[39;00m \u001b[38;5;28mself\u001b[39m\u001b[38;5;241m.\u001b[39m_bounds_transformer \u001b[38;5;129;01mand\u001b[39;00m iteration \u001b[38;5;241m>\u001b[39m \u001b[38;5;241m0\u001b[39m:\n\u001b[0;32m    377\u001b[0m     \u001b[38;5;66;03m# The bounds transformer should only modify the bounds after\u001b[39;00m\n\u001b[0;32m    378\u001b[0m     \u001b[38;5;66;03m# the init_points points (only for the true iterations)\u001b[39;00m\n\u001b[0;32m    379\u001b[0m     \u001b[38;5;28mself\u001b[39m\u001b[38;5;241m.\u001b[39mset_bounds(\n\u001b[0;32m    380\u001b[0m         \u001b[38;5;28mself\u001b[39m\u001b[38;5;241m.\u001b[39m_bounds_transformer\u001b[38;5;241m.\u001b[39mtransform(\u001b[38;5;28mself\u001b[39m\u001b[38;5;241m.\u001b[39m_space))\n",
      "File \u001b[1;32mc:\\Users\\Dell\\Documents\\AI\\Titanic\\spaceenv\\lib\\site-packages\\bayes_opt\\bayesian_optimization.py:245\u001b[0m, in \u001b[0;36mBayesianOptimization.probe\u001b[1;34m(self, params, lazy)\u001b[0m\n\u001b[0;32m    243\u001b[0m     \u001b[38;5;28mself\u001b[39m\u001b[38;5;241m.\u001b[39m_queue\u001b[38;5;241m.\u001b[39madd(params)\n\u001b[0;32m    244\u001b[0m \u001b[38;5;28;01melse\u001b[39;00m:\n\u001b[1;32m--> 245\u001b[0m     \u001b[38;5;28;43mself\u001b[39;49m\u001b[38;5;241;43m.\u001b[39;49m\u001b[43m_space\u001b[49m\u001b[38;5;241;43m.\u001b[39;49m\u001b[43mprobe\u001b[49m\u001b[43m(\u001b[49m\u001b[43mparams\u001b[49m\u001b[43m)\u001b[49m\n\u001b[0;32m    246\u001b[0m     \u001b[38;5;28mself\u001b[39m\u001b[38;5;241m.\u001b[39mdispatch(Events\u001b[38;5;241m.\u001b[39mOPTIMIZATION_STEP)\n",
      "File \u001b[1;32mc:\\Users\\Dell\\Documents\\AI\\Titanic\\spaceenv\\lib\\site-packages\\bayes_opt\\target_space.py:373\u001b[0m, in \u001b[0;36mTargetSpace.probe\u001b[1;34m(self, params)\u001b[0m\n\u001b[0;32m    370\u001b[0m         \u001b[38;5;28;01mreturn\u001b[39;00m \u001b[38;5;28mself\u001b[39m\u001b[38;5;241m.\u001b[39m_cache[_hashable(x\u001b[38;5;241m.\u001b[39mravel())]\n\u001b[0;32m    372\u001b[0m params \u001b[38;5;241m=\u001b[39m \u001b[38;5;28mdict\u001b[39m(\u001b[38;5;28mzip\u001b[39m(\u001b[38;5;28mself\u001b[39m\u001b[38;5;241m.\u001b[39m_keys, x))\n\u001b[1;32m--> 373\u001b[0m target \u001b[38;5;241m=\u001b[39m \u001b[38;5;28mself\u001b[39m\u001b[38;5;241m.\u001b[39mtarget_func(\u001b[38;5;241m*\u001b[39m\u001b[38;5;241m*\u001b[39mparams)\n\u001b[0;32m    375\u001b[0m \u001b[38;5;28;01mif\u001b[39;00m \u001b[38;5;28mself\u001b[39m\u001b[38;5;241m.\u001b[39m_constraint \u001b[38;5;129;01mis\u001b[39;00m \u001b[38;5;28;01mNone\u001b[39;00m:\n\u001b[0;32m    376\u001b[0m     \u001b[38;5;28mself\u001b[39m\u001b[38;5;241m.\u001b[39mregister(x, target)\n",
      "Cell \u001b[1;32mIn[31], line 20\u001b[0m, in \u001b[0;36mlgb_eval\u001b[1;34m(num_leaves, max_depth, learning_rate, min_child_samples, subsample, colsample_bytree, min_data_in_leaf)\u001b[0m\n\u001b[0;32m     18\u001b[0m \u001b[38;5;66;03m# Perform cross-validation\u001b[39;00m\n\u001b[0;32m     19\u001b[0m lgb_train \u001b[38;5;241m=\u001b[39m lgb\u001b[38;5;241m.\u001b[39mDataset(X_train, y_train)\n\u001b[1;32m---> 20\u001b[0m cv_result \u001b[38;5;241m=\u001b[39m \u001b[43mlgb\u001b[49m\u001b[38;5;241;43m.\u001b[39;49m\u001b[43mcv\u001b[49m\u001b[43m(\u001b[49m\u001b[43mparams\u001b[49m\u001b[43m,\u001b[49m\u001b[43m \u001b[49m\u001b[43mlgb_train\u001b[49m\u001b[43m,\u001b[49m\u001b[43m \u001b[49m\u001b[43mnfold\u001b[49m\u001b[38;5;241;43m=\u001b[39;49m\u001b[38;5;241;43m5\u001b[39;49m\u001b[43m,\u001b[49m\u001b[43m \u001b[49m\u001b[43mmetrics\u001b[49m\u001b[38;5;241;43m=\u001b[39;49m\u001b[43m[\u001b[49m\u001b[38;5;124;43m'\u001b[39;49m\u001b[38;5;124;43mauc\u001b[39;49m\u001b[38;5;124;43m'\u001b[39;49m\u001b[43m]\u001b[49m\u001b[43m,\u001b[49m\u001b[43m \u001b[49m\u001b[43mseed\u001b[49m\u001b[38;5;241;43m=\u001b[39;49m\u001b[38;5;241;43m42\u001b[39;49m\u001b[43m,\u001b[49m\u001b[43m \u001b[49m\u001b[43mstratified\u001b[49m\u001b[38;5;241;43m=\u001b[39;49m\u001b[38;5;28;43;01mTrue\u001b[39;49;00m\u001b[43m)\u001b[49m\n\u001b[0;32m     22\u001b[0m \u001b[38;5;66;03m# Accessing the correct key for AUC mean\u001b[39;00m\n\u001b[0;32m     23\u001b[0m best_score \u001b[38;5;241m=\u001b[39m np\u001b[38;5;241m.\u001b[39mmax(cv_result[\u001b[38;5;124m'\u001b[39m\u001b[38;5;124mvalid auc-mean\u001b[39m\u001b[38;5;124m'\u001b[39m])  \u001b[38;5;66;03m# Use the correct key format\u001b[39;00m\n",
      "File \u001b[1;32mc:\\Users\\Dell\\Documents\\AI\\Titanic\\spaceenv\\lib\\site-packages\\lightgbm\\engine.py:774\u001b[0m, in \u001b[0;36mcv\u001b[1;34m(params, train_set, num_boost_round, folds, nfold, stratified, shuffle, metrics, feval, init_model, feature_name, categorical_feature, fpreproc, seed, callbacks, eval_train_metric, return_cvbooster)\u001b[0m\n\u001b[0;32m    769\u001b[0m train_set\u001b[38;5;241m.\u001b[39m_update_params(params)\u001b[38;5;241m.\u001b[39m_set_predictor(predictor)\u001b[38;5;241m.\u001b[39mset_feature_name(feature_name)\u001b[38;5;241m.\u001b[39mset_categorical_feature(\n\u001b[0;32m    770\u001b[0m     categorical_feature\n\u001b[0;32m    771\u001b[0m )\n\u001b[0;32m    773\u001b[0m results \u001b[38;5;241m=\u001b[39m defaultdict(\u001b[38;5;28mlist\u001b[39m)\n\u001b[1;32m--> 774\u001b[0m cvfolds \u001b[38;5;241m=\u001b[39m \u001b[43m_make_n_folds\u001b[49m\u001b[43m(\u001b[49m\n\u001b[0;32m    775\u001b[0m \u001b[43m    \u001b[49m\u001b[43mfull_data\u001b[49m\u001b[38;5;241;43m=\u001b[39;49m\u001b[43mtrain_set\u001b[49m\u001b[43m,\u001b[49m\n\u001b[0;32m    776\u001b[0m \u001b[43m    \u001b[49m\u001b[43mfolds\u001b[49m\u001b[38;5;241;43m=\u001b[39;49m\u001b[43mfolds\u001b[49m\u001b[43m,\u001b[49m\n\u001b[0;32m    777\u001b[0m \u001b[43m    \u001b[49m\u001b[43mnfold\u001b[49m\u001b[38;5;241;43m=\u001b[39;49m\u001b[43mnfold\u001b[49m\u001b[43m,\u001b[49m\n\u001b[0;32m    778\u001b[0m \u001b[43m    \u001b[49m\u001b[43mparams\u001b[49m\u001b[38;5;241;43m=\u001b[39;49m\u001b[43mparams\u001b[49m\u001b[43m,\u001b[49m\n\u001b[0;32m    779\u001b[0m \u001b[43m    \u001b[49m\u001b[43mseed\u001b[49m\u001b[38;5;241;43m=\u001b[39;49m\u001b[43mseed\u001b[49m\u001b[43m,\u001b[49m\n\u001b[0;32m    780\u001b[0m \u001b[43m    \u001b[49m\u001b[43mfpreproc\u001b[49m\u001b[38;5;241;43m=\u001b[39;49m\u001b[43mfpreproc\u001b[49m\u001b[43m,\u001b[49m\n\u001b[0;32m    781\u001b[0m \u001b[43m    \u001b[49m\u001b[43mstratified\u001b[49m\u001b[38;5;241;43m=\u001b[39;49m\u001b[43mstratified\u001b[49m\u001b[43m,\u001b[49m\n\u001b[0;32m    782\u001b[0m \u001b[43m    \u001b[49m\u001b[43mshuffle\u001b[49m\u001b[38;5;241;43m=\u001b[39;49m\u001b[43mshuffle\u001b[49m\u001b[43m,\u001b[49m\n\u001b[0;32m    783\u001b[0m \u001b[43m    \u001b[49m\u001b[43meval_train_metric\u001b[49m\u001b[38;5;241;43m=\u001b[39;49m\u001b[43meval_train_metric\u001b[49m\u001b[43m,\u001b[49m\n\u001b[0;32m    784\u001b[0m \u001b[43m\u001b[49m\u001b[43m)\u001b[49m\n\u001b[0;32m    786\u001b[0m \u001b[38;5;66;03m# setup callbacks\u001b[39;00m\n\u001b[0;32m    787\u001b[0m \u001b[38;5;28;01mif\u001b[39;00m callbacks \u001b[38;5;129;01mis\u001b[39;00m \u001b[38;5;28;01mNone\u001b[39;00m:\n",
      "File \u001b[1;32mc:\\Users\\Dell\\Documents\\AI\\Titanic\\spaceenv\\lib\\site-packages\\lightgbm\\engine.py:504\u001b[0m, in \u001b[0;36m_make_n_folds\u001b[1;34m(full_data, folds, nfold, params, seed, fpreproc, stratified, shuffle, eval_train_metric)\u001b[0m\n\u001b[0;32m    492\u001b[0m \u001b[38;5;28;01mdef\u001b[39;00m \u001b[38;5;21m_make_n_folds\u001b[39m(\n\u001b[0;32m    493\u001b[0m     full_data: Dataset,\n\u001b[0;32m    494\u001b[0m     folds: Optional[Union[Iterable[Tuple[np\u001b[38;5;241m.\u001b[39mndarray, np\u001b[38;5;241m.\u001b[39mndarray]], _LGBMBaseCrossValidator]],\n\u001b[1;32m   (...)\u001b[0m\n\u001b[0;32m    501\u001b[0m     eval_train_metric: \u001b[38;5;28mbool\u001b[39m,\n\u001b[0;32m    502\u001b[0m ) \u001b[38;5;241m-\u001b[39m\u001b[38;5;241m>\u001b[39m CVBooster:\n\u001b[0;32m    503\u001b[0m \u001b[38;5;250m    \u001b[39m\u001b[38;5;124;03m\"\"\"Make a n-fold list of Booster from random indices.\"\"\"\u001b[39;00m\n\u001b[1;32m--> 504\u001b[0m     full_data \u001b[38;5;241m=\u001b[39m \u001b[43mfull_data\u001b[49m\u001b[38;5;241;43m.\u001b[39;49m\u001b[43mconstruct\u001b[49m\u001b[43m(\u001b[49m\u001b[43m)\u001b[49m\n\u001b[0;32m    505\u001b[0m     num_data \u001b[38;5;241m=\u001b[39m full_data\u001b[38;5;241m.\u001b[39mnum_data()\n\u001b[0;32m    506\u001b[0m     \u001b[38;5;28;01mif\u001b[39;00m folds \u001b[38;5;129;01mis\u001b[39;00m \u001b[38;5;129;01mnot\u001b[39;00m \u001b[38;5;28;01mNone\u001b[39;00m:\n",
      "File \u001b[1;32mc:\\Users\\Dell\\Documents\\AI\\Titanic\\spaceenv\\lib\\site-packages\\lightgbm\\basic.py:2576\u001b[0m, in \u001b[0;36mDataset.construct\u001b[1;34m(self)\u001b[0m\n\u001b[0;32m   2571\u001b[0m             \u001b[38;5;28mself\u001b[39m\u001b[38;5;241m.\u001b[39m_set_init_score_by_predictor(\n\u001b[0;32m   2572\u001b[0m                 predictor\u001b[38;5;241m=\u001b[39m\u001b[38;5;28mself\u001b[39m\u001b[38;5;241m.\u001b[39m_predictor, data\u001b[38;5;241m=\u001b[39m\u001b[38;5;28mself\u001b[39m\u001b[38;5;241m.\u001b[39mdata, used_indices\u001b[38;5;241m=\u001b[39mused_indices\n\u001b[0;32m   2573\u001b[0m             )\n\u001b[0;32m   2574\u001b[0m \u001b[38;5;28;01melse\u001b[39;00m:\n\u001b[0;32m   2575\u001b[0m     \u001b[38;5;66;03m# create train\u001b[39;00m\n\u001b[1;32m-> 2576\u001b[0m     \u001b[38;5;28;43mself\u001b[39;49m\u001b[38;5;241;43m.\u001b[39;49m\u001b[43m_lazy_init\u001b[49m\u001b[43m(\u001b[49m\n\u001b[0;32m   2577\u001b[0m \u001b[43m        \u001b[49m\u001b[43mdata\u001b[49m\u001b[38;5;241;43m=\u001b[39;49m\u001b[38;5;28;43mself\u001b[39;49m\u001b[38;5;241;43m.\u001b[39;49m\u001b[43mdata\u001b[49m\u001b[43m,\u001b[49m\n\u001b[0;32m   2578\u001b[0m \u001b[43m        \u001b[49m\u001b[43mlabel\u001b[49m\u001b[38;5;241;43m=\u001b[39;49m\u001b[38;5;28;43mself\u001b[39;49m\u001b[38;5;241;43m.\u001b[39;49m\u001b[43mlabel\u001b[49m\u001b[43m,\u001b[49m\n\u001b[0;32m   2579\u001b[0m \u001b[43m        \u001b[49m\u001b[43mreference\u001b[49m\u001b[38;5;241;43m=\u001b[39;49m\u001b[38;5;28;43;01mNone\u001b[39;49;00m\u001b[43m,\u001b[49m\n\u001b[0;32m   2580\u001b[0m \u001b[43m        \u001b[49m\u001b[43mweight\u001b[49m\u001b[38;5;241;43m=\u001b[39;49m\u001b[38;5;28;43mself\u001b[39;49m\u001b[38;5;241;43m.\u001b[39;49m\u001b[43mweight\u001b[49m\u001b[43m,\u001b[49m\n\u001b[0;32m   2581\u001b[0m \u001b[43m        \u001b[49m\u001b[43mgroup\u001b[49m\u001b[38;5;241;43m=\u001b[39;49m\u001b[38;5;28;43mself\u001b[39;49m\u001b[38;5;241;43m.\u001b[39;49m\u001b[43mgroup\u001b[49m\u001b[43m,\u001b[49m\n\u001b[0;32m   2582\u001b[0m \u001b[43m        \u001b[49m\u001b[43minit_score\u001b[49m\u001b[38;5;241;43m=\u001b[39;49m\u001b[38;5;28;43mself\u001b[39;49m\u001b[38;5;241;43m.\u001b[39;49m\u001b[43minit_score\u001b[49m\u001b[43m,\u001b[49m\n\u001b[0;32m   2583\u001b[0m \u001b[43m        \u001b[49m\u001b[43mpredictor\u001b[49m\u001b[38;5;241;43m=\u001b[39;49m\u001b[38;5;28;43mself\u001b[39;49m\u001b[38;5;241;43m.\u001b[39;49m\u001b[43m_predictor\u001b[49m\u001b[43m,\u001b[49m\n\u001b[0;32m   2584\u001b[0m \u001b[43m        \u001b[49m\u001b[43mfeature_name\u001b[49m\u001b[38;5;241;43m=\u001b[39;49m\u001b[38;5;28;43mself\u001b[39;49m\u001b[38;5;241;43m.\u001b[39;49m\u001b[43mfeature_name\u001b[49m\u001b[43m,\u001b[49m\n\u001b[0;32m   2585\u001b[0m \u001b[43m        \u001b[49m\u001b[43mcategorical_feature\u001b[49m\u001b[38;5;241;43m=\u001b[39;49m\u001b[38;5;28;43mself\u001b[39;49m\u001b[38;5;241;43m.\u001b[39;49m\u001b[43mcategorical_feature\u001b[49m\u001b[43m,\u001b[49m\n\u001b[0;32m   2586\u001b[0m \u001b[43m        \u001b[49m\u001b[43mparams\u001b[49m\u001b[38;5;241;43m=\u001b[39;49m\u001b[38;5;28;43mself\u001b[39;49m\u001b[38;5;241;43m.\u001b[39;49m\u001b[43mparams\u001b[49m\u001b[43m,\u001b[49m\n\u001b[0;32m   2587\u001b[0m \u001b[43m        \u001b[49m\u001b[43mposition\u001b[49m\u001b[38;5;241;43m=\u001b[39;49m\u001b[38;5;28;43mself\u001b[39;49m\u001b[38;5;241;43m.\u001b[39;49m\u001b[43mposition\u001b[49m\u001b[43m,\u001b[49m\n\u001b[0;32m   2588\u001b[0m \u001b[43m    \u001b[49m\u001b[43m)\u001b[49m\n\u001b[0;32m   2589\u001b[0m \u001b[38;5;28;01mif\u001b[39;00m \u001b[38;5;28mself\u001b[39m\u001b[38;5;241m.\u001b[39mfree_raw_data:\n\u001b[0;32m   2590\u001b[0m     \u001b[38;5;28mself\u001b[39m\u001b[38;5;241m.\u001b[39mdata \u001b[38;5;241m=\u001b[39m \u001b[38;5;28;01mNone\u001b[39;00m\n",
      "File \u001b[1;32mc:\\Users\\Dell\\Documents\\AI\\Titanic\\spaceenv\\lib\\site-packages\\lightgbm\\basic.py:2106\u001b[0m, in \u001b[0;36mDataset._lazy_init\u001b[1;34m(self, data, label, reference, weight, group, init_score, predictor, feature_name, categorical_feature, params, position)\u001b[0m\n\u001b[0;32m   2104\u001b[0m     categorical_feature \u001b[38;5;241m=\u001b[39m reference\u001b[38;5;241m.\u001b[39mcategorical_feature\n\u001b[0;32m   2105\u001b[0m \u001b[38;5;28;01mif\u001b[39;00m \u001b[38;5;28misinstance\u001b[39m(data, pd_DataFrame):\n\u001b[1;32m-> 2106\u001b[0m     data, feature_name, categorical_feature, \u001b[38;5;28mself\u001b[39m\u001b[38;5;241m.\u001b[39mpandas_categorical \u001b[38;5;241m=\u001b[39m \u001b[43m_data_from_pandas\u001b[49m\u001b[43m(\u001b[49m\n\u001b[0;32m   2107\u001b[0m \u001b[43m        \u001b[49m\u001b[43mdata\u001b[49m\u001b[38;5;241;43m=\u001b[39;49m\u001b[43mdata\u001b[49m\u001b[43m,\u001b[49m\n\u001b[0;32m   2108\u001b[0m \u001b[43m        \u001b[49m\u001b[43mfeature_name\u001b[49m\u001b[38;5;241;43m=\u001b[39;49m\u001b[43mfeature_name\u001b[49m\u001b[43m,\u001b[49m\n\u001b[0;32m   2109\u001b[0m \u001b[43m        \u001b[49m\u001b[43mcategorical_feature\u001b[49m\u001b[38;5;241;43m=\u001b[39;49m\u001b[43mcategorical_feature\u001b[49m\u001b[43m,\u001b[49m\n\u001b[0;32m   2110\u001b[0m \u001b[43m        \u001b[49m\u001b[43mpandas_categorical\u001b[49m\u001b[38;5;241;43m=\u001b[39;49m\u001b[38;5;28;43mself\u001b[39;49m\u001b[38;5;241;43m.\u001b[39;49m\u001b[43mpandas_categorical\u001b[49m\u001b[43m,\u001b[49m\n\u001b[0;32m   2111\u001b[0m \u001b[43m    \u001b[49m\u001b[43m)\u001b[49m\n\u001b[0;32m   2113\u001b[0m \u001b[38;5;66;03m# process for args\u001b[39;00m\n\u001b[0;32m   2114\u001b[0m params \u001b[38;5;241m=\u001b[39m {} \u001b[38;5;28;01mif\u001b[39;00m params \u001b[38;5;129;01mis\u001b[39;00m \u001b[38;5;28;01mNone\u001b[39;00m \u001b[38;5;28;01melse\u001b[39;00m params\n",
      "File \u001b[1;32mc:\\Users\\Dell\\Documents\\AI\\Titanic\\spaceenv\\lib\\site-packages\\lightgbm\\basic.py:848\u001b[0m, in \u001b[0;36m_data_from_pandas\u001b[1;34m(data, feature_name, categorical_feature, pandas_categorical)\u001b[0m\n\u001b[0;32m    844\u001b[0m df_dtypes\u001b[38;5;241m.\u001b[39mappend(np\u001b[38;5;241m.\u001b[39mfloat32)\n\u001b[0;32m    845\u001b[0m target_dtype \u001b[38;5;241m=\u001b[39m np\u001b[38;5;241m.\u001b[39mresult_type(\u001b[38;5;241m*\u001b[39mdf_dtypes)\n\u001b[0;32m    847\u001b[0m \u001b[38;5;28;01mreturn\u001b[39;00m (\n\u001b[1;32m--> 848\u001b[0m     \u001b[43m_pandas_to_numpy\u001b[49m\u001b[43m(\u001b[49m\u001b[43mdata\u001b[49m\u001b[43m,\u001b[49m\u001b[43m \u001b[49m\u001b[43mtarget_dtype\u001b[49m\u001b[38;5;241;43m=\u001b[39;49m\u001b[43mtarget_dtype\u001b[49m\u001b[43m)\u001b[49m,\n\u001b[0;32m    849\u001b[0m     feature_name,\n\u001b[0;32m    850\u001b[0m     categorical_feature,\n\u001b[0;32m    851\u001b[0m     pandas_categorical,\n\u001b[0;32m    852\u001b[0m )\n",
      "File \u001b[1;32mc:\\Users\\Dell\\Documents\\AI\\Titanic\\spaceenv\\lib\\site-packages\\lightgbm\\basic.py:794\u001b[0m, in \u001b[0;36m_pandas_to_numpy\u001b[1;34m(data, target_dtype)\u001b[0m\n\u001b[0;32m    790\u001b[0m \u001b[38;5;28;01mdef\u001b[39;00m \u001b[38;5;21m_pandas_to_numpy\u001b[39m(\n\u001b[0;32m    791\u001b[0m     data: pd_DataFrame,\n\u001b[0;32m    792\u001b[0m     target_dtype: \u001b[38;5;124m\"\u001b[39m\u001b[38;5;124mnp.typing.DTypeLike\u001b[39m\u001b[38;5;124m\"\u001b[39m,\n\u001b[0;32m    793\u001b[0m ) \u001b[38;5;241m-\u001b[39m\u001b[38;5;241m>\u001b[39m np\u001b[38;5;241m.\u001b[39mndarray:\n\u001b[1;32m--> 794\u001b[0m     \u001b[43m_check_for_bad_pandas_dtypes\u001b[49m\u001b[43m(\u001b[49m\u001b[43mdata\u001b[49m\u001b[38;5;241;43m.\u001b[39;49m\u001b[43mdtypes\u001b[49m\u001b[43m)\u001b[49m\n\u001b[0;32m    795\u001b[0m     \u001b[38;5;28;01mtry\u001b[39;00m:\n\u001b[0;32m    796\u001b[0m         \u001b[38;5;66;03m# most common case (no nullable dtypes)\u001b[39;00m\n\u001b[0;32m    797\u001b[0m         \u001b[38;5;28;01mreturn\u001b[39;00m data\u001b[38;5;241m.\u001b[39mto_numpy(dtype\u001b[38;5;241m=\u001b[39mtarget_dtype, copy\u001b[38;5;241m=\u001b[39m\u001b[38;5;28;01mFalse\u001b[39;00m)\n",
      "File \u001b[1;32mc:\\Users\\Dell\\Documents\\AI\\Titanic\\spaceenv\\lib\\site-packages\\lightgbm\\basic.py:784\u001b[0m, in \u001b[0;36m_check_for_bad_pandas_dtypes\u001b[1;34m(pandas_dtypes_series)\u001b[0m\n\u001b[0;32m    778\u001b[0m bad_pandas_dtypes \u001b[38;5;241m=\u001b[39m [\n\u001b[0;32m    779\u001b[0m     \u001b[38;5;124mf\u001b[39m\u001b[38;5;124m\"\u001b[39m\u001b[38;5;132;01m{\u001b[39;00mcolumn_name\u001b[38;5;132;01m}\u001b[39;00m\u001b[38;5;124m: \u001b[39m\u001b[38;5;132;01m{\u001b[39;00mpandas_dtype\u001b[38;5;132;01m}\u001b[39;00m\u001b[38;5;124m\"\u001b[39m\n\u001b[0;32m    780\u001b[0m     \u001b[38;5;28;01mfor\u001b[39;00m column_name, pandas_dtype \u001b[38;5;129;01min\u001b[39;00m pandas_dtypes_series\u001b[38;5;241m.\u001b[39mitems()\n\u001b[0;32m    781\u001b[0m     \u001b[38;5;28;01mif\u001b[39;00m \u001b[38;5;129;01mnot\u001b[39;00m _is_allowed_numpy_dtype(pandas_dtype\u001b[38;5;241m.\u001b[39mtype)\n\u001b[0;32m    782\u001b[0m ]\n\u001b[0;32m    783\u001b[0m \u001b[38;5;28;01mif\u001b[39;00m bad_pandas_dtypes:\n\u001b[1;32m--> 784\u001b[0m     \u001b[38;5;28;01mraise\u001b[39;00m \u001b[38;5;167;01mValueError\u001b[39;00m(\n\u001b[0;32m    785\u001b[0m         \u001b[38;5;124m'\u001b[39m\u001b[38;5;124mpandas dtypes must be int, float or bool.\u001b[39m\u001b[38;5;130;01m\\n\u001b[39;00m\u001b[38;5;124m'\u001b[39m\n\u001b[0;32m    786\u001b[0m         \u001b[38;5;124mf\u001b[39m\u001b[38;5;124m'\u001b[39m\u001b[38;5;124mFields with bad pandas dtypes: \u001b[39m\u001b[38;5;132;01m{\u001b[39;00m\u001b[38;5;124m\"\u001b[39m\u001b[38;5;124m, \u001b[39m\u001b[38;5;124m\"\u001b[39m\u001b[38;5;241m.\u001b[39mjoin(bad_pandas_dtypes)\u001b[38;5;132;01m}\u001b[39;00m\u001b[38;5;124m'\u001b[39m\n\u001b[0;32m    787\u001b[0m     )\n",
      "\u001b[1;31mValueError\u001b[0m: pandas dtypes must be int, float or bool.\nFields with bad pandas dtypes: HomePlanet: object, CabinDeck: object, CabinSide: object, Destination: object, AgeGroup: object, LastName: object"
     ]
    }
   ],
   "source": [
    "def lgb_eval(num_leaves, max_depth, learning_rate, min_child_samples, subsample, colsample_bytree, min_data_in_leaf):\n",
    "    params = {\n",
    "        'objective': 'binary',\n",
    "        'num_leaves': int(num_leaves),  # must be integer\n",
    "        'max_depth': int(max_depth),  # must be integer\n",
    "        'learning_rate': learning_rate,\n",
    "        'min_child_samples': int(min_child_samples),  # must be integer\n",
    "        'subsample': subsample,\n",
    "        'colsample_bytree': colsample_bytree,\n",
    "        'min_data_in_leaf': int(min_data_in_leaf),  # new hyperparameter added\n",
    "        'metric': 'auc',  # AUC metric for evaluation\n",
    "        'verbose': -1,\n",
    "        'boosting_type': 'gbdt',\n",
    "        'n_jobs': -1,\n",
    "        'seed': 42\n",
    "    }\n",
    "\n",
    "    # Perform cross-validation\n",
    "    lgb_train = lgb.Dataset(X_train, y_train)\n",
    "    cv_result = lgb.cv(params, lgb_train, nfold=5, metrics=['auc'], seed=42, stratified=True)\n",
    "\n",
    "    # Accessing the correct key for AUC mean\n",
    "    best_score = np.max(cv_result['valid auc-mean'])  # Use the correct key format\n",
    "\n",
    "    return best_score\n",
    "\n",
    "# Set the parameter bounds, including min_data_in_leaf\n",
    "param_bounds = {\n",
    "    'num_leaves': (20, 50),\n",
    "    'max_depth': (5, 15),\n",
    "    'learning_rate': (0.01, 0.3),\n",
    "    'min_child_samples': (5, 30),\n",
    "    'subsample': (0.5, 1.0),\n",
    "    'colsample_bytree': (0.5, 1.0),\n",
    "    'min_data_in_leaf': (10, 50)  # bounds for the new parameter\n",
    "}\n",
    "\n",
    "# Run Bayesian Optimization\n",
    "optimizer = BayesianOptimization(\n",
    "    f=lgb_eval,\n",
    "    pbounds=param_bounds,\n",
    "    random_state=42,\n",
    "    verbose=2\n",
    ")\n",
    "\n",
    "# Optimize\n",
    "optimizer.maximize(init_points=10, n_iter=30)\n",
    "\n",
    "# Print the best parameters\n",
    "print(\"Best parameters found: \", optimizer.max)"
   ]
  },
  {
   "cell_type": "code",
   "execution_count": 24,
   "metadata": {},
   "outputs": [
    {
     "data": {
      "text/plain": [
       "GroupSize             int64\n",
       "SoloTraveler          int64\n",
       "HomePlanet           object\n",
       "CabinDeck            object\n",
       "CabinSide            object\n",
       "CryoSleep              bool\n",
       "Destination          object\n",
       "Age                 float64\n",
       "AgeGroup             object\n",
       "VIP                    bool\n",
       "RoomService         float64\n",
       "FoodCourt           float64\n",
       "ShoppingMall        float64\n",
       "Spa                 float64\n",
       "VRDeck              float64\n",
       "TotalExpenditure    float64\n",
       "Expenditure           int64\n",
       "LastName             object\n",
       "FamilySize            int64\n",
       "LoneTraveler          int64\n",
       "Transported          object\n",
       "dtype: object"
      ]
     },
     "execution_count": 24,
     "metadata": {},
     "output_type": "execute_result"
    }
   ],
   "source": [
    "train.dtypes"
   ]
  },
  {
   "cell_type": "code",
   "execution_count": 5,
   "metadata": {},
   "outputs": [
    {
     "name": "stdout",
     "output_type": "stream",
     "text": [
      "|   iter    |  target   | colsam... | learni... | max_depth | min_ch... | min_da... | num_le... | subsample |\n",
      "-------------------------------------------------------------------------------------------------------------\n",
      "| \u001b[39m1        \u001b[39m | \u001b[39m0.9942   \u001b[39m | \u001b[39m0.6873   \u001b[39m | \u001b[39m0.2857   \u001b[39m | \u001b[39m12.32    \u001b[39m | \u001b[39m19.97    \u001b[39m | \u001b[39m16.24    \u001b[39m | \u001b[39m24.68    \u001b[39m | \u001b[39m0.529    \u001b[39m |\n",
      "| \u001b[39m2        \u001b[39m | \u001b[39m0.9939   \u001b[39m | \u001b[39m0.9331   \u001b[39m | \u001b[39m0.1843   \u001b[39m | \u001b[39m12.08    \u001b[39m | \u001b[39m5.515    \u001b[39m | \u001b[39m48.8     \u001b[39m | \u001b[39m44.97    \u001b[39m | \u001b[39m0.6062   \u001b[39m |\n",
      "| \u001b[39m3        \u001b[39m | \u001b[39m0.9919   \u001b[39m | \u001b[39m0.5909   \u001b[39m | \u001b[39m0.06319  \u001b[39m | \u001b[39m8.042    \u001b[39m | \u001b[39m18.12    \u001b[39m | \u001b[39m27.28    \u001b[39m | \u001b[39m28.74    \u001b[39m | \u001b[39m0.8059   \u001b[39m |\n",
      "| \u001b[39m4        \u001b[39m | \u001b[39m0.9928   \u001b[39m | \u001b[39m0.5697   \u001b[39m | \u001b[39m0.09472  \u001b[39m | \u001b[39m8.664    \u001b[39m | \u001b[39m16.4     \u001b[39m | \u001b[39m41.41    \u001b[39m | \u001b[39m25.99    \u001b[39m | \u001b[39m0.7571   \u001b[39m |\n",
      "| \u001b[39m5        \u001b[39m | \u001b[39m0.9894   \u001b[39m | \u001b[39m0.7962   \u001b[39m | \u001b[39m0.02347  \u001b[39m | \u001b[39m11.08    \u001b[39m | \u001b[39m9.263    \u001b[39m | \u001b[39m12.6     \u001b[39m | \u001b[39m48.47    \u001b[39m | \u001b[39m0.9828   \u001b[39m |\n",
      "| \u001b[39m6        \u001b[39m | \u001b[39m0.9937   \u001b[39m | \u001b[39m0.9042   \u001b[39m | \u001b[39m0.09834  \u001b[39m | \u001b[39m5.977    \u001b[39m | \u001b[39m22.11    \u001b[39m | \u001b[39m27.61    \u001b[39m | \u001b[39m23.66    \u001b[39m | \u001b[39m0.7476   \u001b[39m |\n",
      "| \u001b[39m7        \u001b[39m | \u001b[39m0.9931   \u001b[39m | \u001b[39m0.5172   \u001b[39m | \u001b[39m0.2737   \u001b[39m | \u001b[39m7.588    \u001b[39m | \u001b[39m21.56    \u001b[39m | \u001b[39m22.47    \u001b[39m | \u001b[39m35.6     \u001b[39m | \u001b[39m0.7734   \u001b[39m |\n",
      "| \u001b[35m8        \u001b[39m | \u001b[35m0.9942   \u001b[39m | \u001b[35m0.5924   \u001b[39m | \u001b[35m0.2912   \u001b[39m | \u001b[35m12.75    \u001b[39m | \u001b[35m28.49    \u001b[39m | \u001b[35m45.79    \u001b[39m | \u001b[35m37.94    \u001b[39m | \u001b[35m0.9609   \u001b[39m |\n",
      "| \u001b[39m9        \u001b[39m | \u001b[39m0.9915   \u001b[39m | \u001b[39m0.5442   \u001b[39m | \u001b[39m0.06684  \u001b[39m | \u001b[39m5.452    \u001b[39m | \u001b[39m13.13    \u001b[39m | \u001b[39m25.55    \u001b[39m | \u001b[39m28.14    \u001b[39m | \u001b[39m0.9144   \u001b[39m |\n",
      "| \u001b[39m10       \u001b[39m | \u001b[39m0.9923   \u001b[39m | \u001b[39m0.6784   \u001b[39m | \u001b[39m0.09147  \u001b[39m | \u001b[39m10.43    \u001b[39m | \u001b[39m8.523    \u001b[39m | \u001b[39m42.09    \u001b[39m | \u001b[39m22.24    \u001b[39m | \u001b[39m0.9934   \u001b[39m |\n",
      "| \u001b[35m11       \u001b[39m | \u001b[35m0.9945   \u001b[39m | \u001b[35m0.8185   \u001b[39m | \u001b[35m0.3      \u001b[39m | \u001b[35m7.276    \u001b[39m | \u001b[35m29.36    \u001b[39m | \u001b[35m18.49    \u001b[39m | \u001b[35m21.63    \u001b[39m | \u001b[35m0.6532   \u001b[39m |\n",
      "| \u001b[35m12       \u001b[39m | \u001b[35m0.9947   \u001b[39m | \u001b[35m1.0      \u001b[39m | \u001b[35m0.3      \u001b[39m | \u001b[35m15.0     \u001b[39m | \u001b[35m30.0     \u001b[39m | \u001b[35m28.13    \u001b[39m | \u001b[35m20.0     \u001b[39m | \u001b[35m0.5      \u001b[39m |\n",
      "| \u001b[35m13       \u001b[39m | \u001b[35m0.995    \u001b[39m | \u001b[35m1.0      \u001b[39m | \u001b[35m0.3      \u001b[39m | \u001b[35m5.0      \u001b[39m | \u001b[35m30.0     \u001b[39m | \u001b[35m40.49    \u001b[39m | \u001b[35m20.0     \u001b[39m | \u001b[35m0.5      \u001b[39m |\n",
      "| \u001b[39m14       \u001b[39m | \u001b[39m0.9792   \u001b[39m | \u001b[39m1.0      \u001b[39m | \u001b[39m0.01     \u001b[39m | \u001b[39m15.0     \u001b[39m | \u001b[39m30.0     \u001b[39m | \u001b[39m50.0     \u001b[39m | \u001b[39m20.0     \u001b[39m | \u001b[39m0.5      \u001b[39m |\n",
      "| \u001b[39m15       \u001b[39m | \u001b[39m0.9923   \u001b[39m | \u001b[39m0.7614   \u001b[39m | \u001b[39m0.08892  \u001b[39m | \u001b[39m5.496    \u001b[39m | \u001b[39m29.42    \u001b[39m | \u001b[39m41.59    \u001b[39m | \u001b[39m20.55    \u001b[39m | \u001b[39m0.8424   \u001b[39m |\n",
      "| \u001b[39m16       \u001b[39m | \u001b[39m0.9949   \u001b[39m | \u001b[39m1.0      \u001b[39m | \u001b[39m0.3      \u001b[39m | \u001b[39m5.0      \u001b[39m | \u001b[39m30.0     \u001b[39m | \u001b[39m37.57    \u001b[39m | \u001b[39m20.0     \u001b[39m | \u001b[39m0.5      \u001b[39m |\n",
      "| \u001b[39m17       \u001b[39m | \u001b[39m0.9925   \u001b[39m | \u001b[39m0.8925   \u001b[39m | \u001b[39m0.2727   \u001b[39m | \u001b[39m11.34    \u001b[39m | \u001b[39m27.16    \u001b[39m | \u001b[39m23.61    \u001b[39m | \u001b[39m21.61    \u001b[39m | \u001b[39m0.5794   \u001b[39m |\n",
      "| \u001b[39m18       \u001b[39m | \u001b[39m0.9926   \u001b[39m | \u001b[39m0.5      \u001b[39m | \u001b[39m0.117    \u001b[39m | \u001b[39m7.949    \u001b[39m | \u001b[39m24.54    \u001b[39m | \u001b[39m16.27    \u001b[39m | \u001b[39m24.09    \u001b[39m | \u001b[39m1.0      \u001b[39m |\n",
      "| \u001b[39m19       \u001b[39m | \u001b[39m0.985    \u001b[39m | \u001b[39m0.5765   \u001b[39m | \u001b[39m0.01865  \u001b[39m | \u001b[39m12.66    \u001b[39m | \u001b[39m29.51    \u001b[39m | \u001b[39m32.43    \u001b[39m | \u001b[39m21.44    \u001b[39m | \u001b[39m0.6411   \u001b[39m |\n",
      "| \u001b[39m20       \u001b[39m | \u001b[39m0.9943   \u001b[39m | \u001b[39m1.0      \u001b[39m | \u001b[39m0.3      \u001b[39m | \u001b[39m5.0      \u001b[39m | \u001b[39m26.77    \u001b[39m | \u001b[39m38.37    \u001b[39m | \u001b[39m20.0     \u001b[39m | \u001b[39m0.5      \u001b[39m |\n",
      "| \u001b[39m21       \u001b[39m | \u001b[39m0.9919   \u001b[39m | \u001b[39m0.9235   \u001b[39m | \u001b[39m0.0477   \u001b[39m | \u001b[39m10.79    \u001b[39m | \u001b[39m28.53    \u001b[39m | \u001b[39m16.73    \u001b[39m | \u001b[39m20.0     \u001b[39m | \u001b[39m0.7143   \u001b[39m |\n",
      "| \u001b[39m22       \u001b[39m | \u001b[39m0.9935   \u001b[39m | \u001b[39m0.5905   \u001b[39m | \u001b[39m0.2297   \u001b[39m | \u001b[39m5.117    \u001b[39m | \u001b[39m26.18    \u001b[39m | \u001b[39m19.76    \u001b[39m | \u001b[39m20.28    \u001b[39m | \u001b[39m0.9041   \u001b[39m |\n",
      "| \u001b[39m23       \u001b[39m | \u001b[39m0.9871   \u001b[39m | \u001b[39m0.7843   \u001b[39m | \u001b[39m0.0235   \u001b[39m | \u001b[39m5.188    \u001b[39m | \u001b[39m29.32    \u001b[39m | \u001b[39m20.76    \u001b[39m | \u001b[39m24.6     \u001b[39m | \u001b[39m0.506    \u001b[39m |\n",
      "| \u001b[39m24       \u001b[39m | \u001b[39m0.9943   \u001b[39m | \u001b[39m1.0      \u001b[39m | \u001b[39m0.3      \u001b[39m | \u001b[39m5.0      \u001b[39m | \u001b[39m29.38    \u001b[39m | \u001b[39m38.5     \u001b[39m | \u001b[39m22.73    \u001b[39m | \u001b[39m0.5      \u001b[39m |\n",
      "| \u001b[39m25       \u001b[39m | \u001b[39m0.9931   \u001b[39m | \u001b[39m0.738    \u001b[39m | \u001b[39m0.3      \u001b[39m | \u001b[39m5.478    \u001b[39m | \u001b[39m28.64    \u001b[39m | \u001b[39m15.9     \u001b[39m | \u001b[39m20.0     \u001b[39m | \u001b[39m0.6755   \u001b[39m |\n",
      "| \u001b[39m26       \u001b[39m | \u001b[39m0.9937   \u001b[39m | \u001b[39m0.5171   \u001b[39m | \u001b[39m0.2625   \u001b[39m | \u001b[39m11.18    \u001b[39m | \u001b[39m20.63    \u001b[39m | \u001b[39m19.32    \u001b[39m | \u001b[39m21.99    \u001b[39m | \u001b[39m0.8263   \u001b[39m |\n",
      "| \u001b[39m27       \u001b[39m | \u001b[39m0.9898   \u001b[39m | \u001b[39m0.5729   \u001b[39m | \u001b[39m0.0301   \u001b[39m | \u001b[39m14.67    \u001b[39m | \u001b[39m20.23    \u001b[39m | \u001b[39m19.84    \u001b[39m | \u001b[39m25.09    \u001b[39m | \u001b[39m0.9987   \u001b[39m |\n",
      "| \u001b[39m28       \u001b[39m | \u001b[39m0.9945   \u001b[39m | \u001b[39m0.631    \u001b[39m | \u001b[39m0.3      \u001b[39m | \u001b[39m9.737    \u001b[39m | \u001b[39m19.37    \u001b[39m | \u001b[39m15.5     \u001b[39m | \u001b[39m21.99    \u001b[39m | \u001b[39m0.5      \u001b[39m |\n",
      "| \u001b[39m29       \u001b[39m | \u001b[39m0.9934   \u001b[39m | \u001b[39m0.7818   \u001b[39m | \u001b[39m0.1457   \u001b[39m | \u001b[39m13.29    \u001b[39m | \u001b[39m19.25    \u001b[39m | \u001b[39m14.29    \u001b[39m | \u001b[39m21.04    \u001b[39m | \u001b[39m0.5996   \u001b[39m |\n",
      "| \u001b[39m30       \u001b[39m | \u001b[39m0.9943   \u001b[39m | \u001b[39m0.6877   \u001b[39m | \u001b[39m0.2675   \u001b[39m | \u001b[39m10.16    \u001b[39m | \u001b[39m18.41    \u001b[39m | \u001b[39m12.82    \u001b[39m | \u001b[39m25.3     \u001b[39m | \u001b[39m0.7377   \u001b[39m |\n",
      "| \u001b[39m31       \u001b[39m | \u001b[39m0.994    \u001b[39m | \u001b[39m0.79     \u001b[39m | \u001b[39m0.3      \u001b[39m | \u001b[39m8.657    \u001b[39m | \u001b[39m16.89    \u001b[39m | \u001b[39m17.0     \u001b[39m | \u001b[39m25.11    \u001b[39m | \u001b[39m0.6021   \u001b[39m |\n",
      "| \u001b[35m32       \u001b[39m | \u001b[35m0.9951   \u001b[39m | \u001b[35m1.0      \u001b[39m | \u001b[35m0.3      \u001b[39m | \u001b[35m6.033    \u001b[39m | \u001b[35m19.51    \u001b[39m | \u001b[35m19.48    \u001b[39m | \u001b[35m21.29    \u001b[39m | \u001b[35m0.5      \u001b[39m |\n",
      "| \u001b[39m33       \u001b[39m | \u001b[39m0.9949   \u001b[39m | \u001b[39m0.5      \u001b[39m | \u001b[39m0.3      \u001b[39m | \u001b[39m6.908    \u001b[39m | \u001b[39m19.82    \u001b[39m | \u001b[39m23.65    \u001b[39m | \u001b[39m20.0     \u001b[39m | \u001b[39m0.5848   \u001b[39m |\n",
      "| \u001b[39m34       \u001b[39m | \u001b[39m0.995    \u001b[39m | \u001b[39m0.7988   \u001b[39m | \u001b[39m0.3      \u001b[39m | \u001b[39m8.214    \u001b[39m | \u001b[39m15.72    \u001b[39m | \u001b[39m20.59    \u001b[39m | \u001b[39m20.0     \u001b[39m | \u001b[39m0.5      \u001b[39m |\n",
      "| \u001b[39m35       \u001b[39m | \u001b[39m0.9846   \u001b[39m | \u001b[39m0.5      \u001b[39m | \u001b[39m0.01     \u001b[39m | \u001b[39m5.0      \u001b[39m | \u001b[39m15.42    \u001b[39m | \u001b[39m16.25    \u001b[39m | \u001b[39m20.0     \u001b[39m | \u001b[39m0.5684   \u001b[39m |\n",
      "| \u001b[39m36       \u001b[39m | \u001b[39m0.9938   \u001b[39m | \u001b[39m1.0      \u001b[39m | \u001b[39m0.3      \u001b[39m | \u001b[39m8.028    \u001b[39m | \u001b[39m17.95    \u001b[39m | \u001b[39m22.0     \u001b[39m | \u001b[39m22.98    \u001b[39m | \u001b[39m0.5      \u001b[39m |\n",
      "| \u001b[35m37       \u001b[39m | \u001b[35m0.9956   \u001b[39m | \u001b[35m1.0      \u001b[39m | \u001b[35m0.3      \u001b[39m | \u001b[35m7.82     \u001b[39m | \u001b[35m22.22    \u001b[39m | \u001b[35m20.51    \u001b[39m | \u001b[35m20.0     \u001b[39m | \u001b[35m0.5      \u001b[39m |\n",
      "| \u001b[39m38       \u001b[39m | \u001b[39m0.9944   \u001b[39m | \u001b[39m1.0      \u001b[39m | \u001b[39m0.3      \u001b[39m | \u001b[39m10.78    \u001b[39m | \u001b[39m14.84    \u001b[39m | \u001b[39m24.04    \u001b[39m | \u001b[39m20.0     \u001b[39m | \u001b[39m0.5      \u001b[39m |\n",
      "| \u001b[39m39       \u001b[39m | \u001b[39m0.9955   \u001b[39m | \u001b[39m1.0      \u001b[39m | \u001b[39m0.3      \u001b[39m | \u001b[39m12.76    \u001b[39m | \u001b[39m14.66    \u001b[39m | \u001b[39m19.35    \u001b[39m | \u001b[39m20.0     \u001b[39m | \u001b[39m0.5      \u001b[39m |\n",
      "| \u001b[39m40       \u001b[39m | \u001b[39m0.9938   \u001b[39m | \u001b[39m1.0      \u001b[39m | \u001b[39m0.3      \u001b[39m | \u001b[39m12.42    \u001b[39m | \u001b[39m10.21    \u001b[39m | \u001b[39m21.03    \u001b[39m | \u001b[39m20.0     \u001b[39m | \u001b[39m0.5      \u001b[39m |\n",
      "=============================================================================================================\n",
      "Best parameters found:  {'target': 0.995561141466981, 'params': {'colsample_bytree': 1.0, 'learning_rate': 0.3, 'max_depth': 7.8204479365792405, 'min_child_samples': 22.22184776568354, 'min_data_in_leaf': 20.508614627967283, 'num_leaves': 20.0, 'subsample': 0.5}}\n"
     ]
    }
   ],
   "source": [
    "# Import necessary libraries\n",
    "import lightgbm as lgb\n",
    "from sklearn.datasets import load_breast_cancer\n",
    "from sklearn.model_selection import train_test_split\n",
    "from bayes_opt import BayesianOptimization\n",
    "import numpy as np\n",
    "\n",
    "# Load dataset\n",
    "data = load_breast_cancer()\n",
    "X = data.data\n",
    "y = data.target\n",
    "\n",
    "# Split data into training and testing sets\n",
    "X_train, X_test, y_train, y_test = train_test_split(X, y, test_size=0.2, random_state=42)\n",
    "\n",
    "# Define the objective function to be optimized\n",
    "def lgb_eval(num_leaves, max_depth, learning_rate, min_child_samples, subsample, colsample_bytree, min_data_in_leaf):\n",
    "    params = {\n",
    "        'objective': 'binary',\n",
    "        'num_leaves': int(num_leaves),  # must be integer\n",
    "        'max_depth': int(max_depth),  # must be integer\n",
    "        'learning_rate': learning_rate,\n",
    "        'min_child_samples': int(min_child_samples),  # must be integer\n",
    "        'subsample': subsample,\n",
    "        'colsample_bytree': colsample_bytree,\n",
    "        'min_data_in_leaf': int(min_data_in_leaf),  # new hyperparameter added\n",
    "        'metric': 'auc',  # AUC metric for evaluation\n",
    "        'verbose': -1,\n",
    "        'boosting_type': 'gbdt',\n",
    "        'n_jobs': -1,\n",
    "        'seed': 42\n",
    "    }\n",
    "\n",
    "    # Perform cross-validation\n",
    "    lgb_train = lgb.Dataset(X_train, y_train)\n",
    "    cv_result = lgb.cv(params, lgb_train, nfold=5, metrics=['auc'], seed=42, stratified=True)\n",
    "\n",
    "    # Accessing the correct key for AUC mean\n",
    "    best_score = np.max(cv_result['valid auc-mean'])  # Use the correct key format\n",
    "\n",
    "    return best_score\n",
    "\n",
    "# Set the parameter bounds, including min_data_in_leaf\n",
    "param_bounds = {\n",
    "    'num_leaves': (20, 50),\n",
    "    'max_depth': (5, 15),\n",
    "    'learning_rate': (0.01, 0.3),\n",
    "    'min_child_samples': (5, 30),\n",
    "    'subsample': (0.5, 1.0),\n",
    "    'colsample_bytree': (0.5, 1.0),\n",
    "    'min_data_in_leaf': (10, 50)  # bounds for the new parameter\n",
    "}\n",
    "\n",
    "# Run Bayesian Optimization\n",
    "optimizer = BayesianOptimization(\n",
    "    f=lgb_eval,\n",
    "    pbounds=param_bounds,\n",
    "    random_state=42,\n",
    "    verbose=2\n",
    ")\n",
    "\n",
    "# Optimize\n",
    "optimizer.maximize(init_points=10, n_iter=30)\n",
    "\n",
    "# Print the best parameters\n",
    "print(\"Best parameters found: \", optimizer.max)\n"
   ]
  }
 ],
 "metadata": {
  "kernelspec": {
   "display_name": "Python 3",
   "language": "python",
   "name": "python3"
  },
  "language_info": {
   "codemirror_mode": {
    "name": "ipython",
    "version": 3
   },
   "file_extension": ".py",
   "mimetype": "text/x-python",
   "name": "python",
   "nbconvert_exporter": "python",
   "pygments_lexer": "ipython3",
   "version": "3.10.1"
  }
 },
 "nbformat": 4,
 "nbformat_minor": 2
}
