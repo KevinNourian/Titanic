{
 "cells": [
  {
   "cell_type": "markdown",
   "metadata": {},
   "source": [
    "# <center> **Kaggle’s Spaceship Titanic Competition**\n",
    "# <center> **Machine Learning**"
   ]
  },
  {
   "cell_type": "markdown",
   "metadata": {},
   "source": [
    "# **Models**"
   ]
  },
  {
   "cell_type": "markdown",
   "metadata": {},
   "source": [
    "**1. Logistic Regression:** This model uses Maximum Likelihood Estimation to fit a sigmoid-curve on the target variable distribution. \n",
    "\n",
    "**2. Random Forest (RF):** This model is an ensemble of decision trees The diverse forests of uncorrelated trees is more robust towards change in data and carries its prediction accuracy to new data. \n",
    "\n",
    "**3. K-Nearest Neighbors (KNN):** This model is a simple and effective algorithm that selects the majority class of the k-nearest neighbours.\n",
    "\n",
    "**4. Extreme Gradient Boosting (XGBoost):** This model is made of an ensemble of decision-trees. It uses extreme gradient boosting when optimising its objective function. It usually is very slow.\n",
    "\n",
    "**5. Light Gradient Boosting Machine (LGBM):** This model works essentially the same as XGBoost but with a lighter boosting technique. It usually is significantly faster.\n",
    "\n",
    "**6. Categorical Boosting (CatBoost):** This model is based on gradient boosted decision trees. It tries to take the best of XGBoost and LGBM."
   ]
  },
  {
   "cell_type": "markdown",
   "metadata": {},
   "source": [
    "# **Libraries**"
   ]
  },
  {
   "cell_type": "code",
   "execution_count": 167,
   "metadata": {},
   "outputs": [],
   "source": [
    "import pandas as pd\n",
    "import numpy as np\n",
    "import seaborn as sns\n",
    "import matplotlib as mpl\n",
    "import matplotlib.pyplot as plt\n",
    "\n",
    "from sklearn.linear_model import LogisticRegression\n",
    "from sklearn.neighbors import KNeighborsClassifier \n",
    "from sklearn.svm import SVC\n",
    "from sklearn.ensemble import RandomForestClassifier\n",
    "from xgboost import XGBClassifier\n",
    "from lightgbm import LGBMClassifier\n",
    "from catboost import CatBoostClassifier\n",
    "\n",
    "from sklearn.model_selection import train_test_split\n",
    "from sklearn.model_selection import GridSearchCV\n",
    "from sklearn.utils import shuffle\n",
    "from sklearn.compose import ColumnTransformer\n",
    "from sklearn.pipeline import Pipeline\n",
    "from sklearn.preprocessing import StandardScaler\n",
    "from sklearn.preprocessing import OneHotEncoder\n",
    "from sklearn.model_selection import cross_val_score\n",
    "\n",
    "import functions\n",
    "import importlib\n",
    "importlib.reload(functions)\n",
    "\n",
    "import time"
   ]
  },
  {
   "cell_type": "markdown",
   "metadata": {},
   "source": [
    "# **Load Data**"
   ]
  },
  {
   "cell_type": "code",
   "execution_count": 147,
   "metadata": {},
   "outputs": [],
   "source": [
    "data = pd.read_csv(\n",
    "    r\"C:\\Users\\Dell\\Documents\\AI\\Titanic\\Data\\Data\\data.csv\",\n",
    "    index_col=False\n",
    ")\n",
    "\n",
    "train = pd.read_csv(\n",
    "    r\"C:\\Users\\Dell\\Documents\\AI\\Titanic\\Data\\Data\\train.csv\",\n",
    "    index_col=False\n",
    ")\n",
    "\n",
    "test = pd.read_csv(\n",
    "    r\"C:\\Users\\Dell\\Documents\\AI\\Titanic\\Data\\Data\\test.csv\",\n",
    "    index_col=False\n",
    ")\n",
    "\n",
    "random_state = 101\n",
    "target = 'Transported'"
   ]
  },
  {
   "cell_type": "markdown",
   "metadata": {},
   "source": [
    "# **Machine Learning**"
   ]
  },
  {
   "cell_type": "markdown",
   "metadata": {},
   "source": [
    "## **Split Data Back to Train and Test**"
   ]
  },
  {
   "cell_type": "code",
   "execution_count": 148,
   "metadata": {},
   "outputs": [],
   "source": [
    "train=data[data['PassengerId'].isin(train['PassengerId'].values)].copy()\n",
    "test=data[data['PassengerId'].isin(test['PassengerId'].values)].copy()"
   ]
  },
  {
   "cell_type": "markdown",
   "metadata": {},
   "source": [
    "### **Insights**"
   ]
  },
  {
   "cell_type": "markdown",
   "metadata": {},
   "source": [
    "> *  **data.csv:** data.csv was created in the previous section to make Feature Engineering easier. </BR>\n",
    "> *  **train.csv:** Extracted from data.csv. </BR>\n",
    "> *  **test.csv:** Extracted from data.csv. </BR>"
   ]
  },
  {
   "cell_type": "markdown",
   "metadata": {},
   "source": [
    "## **Drop Unneeded Features**"
   ]
  },
  {
   "cell_type": "code",
   "execution_count": 149,
   "metadata": {},
   "outputs": [],
   "source": [
    "train.drop(['PassengerId', 'Group', 'CabinNumber'], axis=1, inplace=True)\n",
    "test.drop(['PassengerId', 'Group', 'CabinNumber'], axis=1, inplace=True)"
   ]
  },
  {
   "cell_type": "markdown",
   "metadata": {},
   "source": [
    "### **Section Summary**"
   ]
  },
  {
   "cell_type": "markdown",
   "metadata": {},
   "source": [
    "> *  **1. PassengerId:** DELETED </BR>\n",
    "> *  **2. Group:** DELETED </BR>\n",
    "> *  **3. CabinNumber:** DELETED"
   ]
  },
  {
   "cell_type": "markdown",
   "metadata": {},
   "source": [
    "## **Log Transform**"
   ]
  },
  {
   "cell_type": "code",
   "execution_count": 150,
   "metadata": {},
   "outputs": [],
   "source": [
    "columns_to_transform = ['RoomService', 'FoodCourt', 'ShoppingMall', 'Spa', 'VRDeck', 'TotalExpenditure']  # Replace with your actual column names\n",
    "\n",
    "for col in columns_to_transform:\n",
    "    train = functions.log_transform(train, col)\n",
    "    test = functions.log_transform(test, col)"
   ]
  },
  {
   "cell_type": "markdown",
   "metadata": {},
   "source": [
    "### **Section Summary**"
   ]
  },
  {
   "cell_type": "markdown",
   "metadata": {},
   "source": [
    "> *  **Expenditure Features:** Luxury expenditure features are skewed by outliers. </BR>\n",
    "> *  **Log Transform:** Log Transfrom decreases skew in distributions with large outliers."
   ]
  },
  {
   "cell_type": "markdown",
   "metadata": {},
   "source": [
    "## **Column Separation**"
   ]
  },
  {
   "cell_type": "code",
   "execution_count": 151,
   "metadata": {},
   "outputs": [],
   "source": [
    "numerical_cols = [cname for cname in train.columns if train[cname].dtype in ['int64', 'float64']]\n",
    "categorical_cols = [cname for cname in train.columns if train[cname].dtype in [\"object\", \"bool\"]]\n",
    "categorical_cols.remove(target)"
   ]
  },
  {
   "cell_type": "markdown",
   "metadata": {},
   "source": [
    "### **Section Summary**"
   ]
  },
  {
   "cell_type": "markdown",
   "metadata": {},
   "source": [
    "> *  **Column Separation:** Numerical columns are separated from categorical columns to do scaling and encoding. </BR>\n",
    "> *  **Numerical Columns:** int64 and float64</BR>\n",
    "> *  **Categorical Columns:** object and bool </BR>"
   ]
  },
  {
   "cell_type": "markdown",
   "metadata": {},
   "source": [
    "## **Train Test Split**"
   ]
  },
  {
   "cell_type": "code",
   "execution_count": 152,
   "metadata": {},
   "outputs": [],
   "source": [
    "X = train.drop(target, axis=1)\n",
    "y = train[target]\n",
    "y = y.astype(bool)\n",
    "\n",
    "\n",
    "X, y = shuffle(X, y, random_state=random_state)\n",
    "X_train, X_test, y_train, y_test = train_test_split(X, y, test_size=0.2, stratify=y, random_state=random_state)"
   ]
  },
  {
   "cell_type": "markdown",
   "metadata": {},
   "source": [
    "## **Pre-Processing**"
   ]
  },
  {
   "cell_type": "code",
   "execution_count": 154,
   "metadata": {},
   "outputs": [],
   "source": [
    "numerical_transformer = Pipeline(steps=[('scaler', StandardScaler())])\n",
    "categorical_transformer = Pipeline(steps=[('onehot', OneHotEncoder(handle_unknown='ignore', sparse_output=False))])\n",
    "\n",
    "preprocessor  = ColumnTransformer(\n",
    "    transformers=[\n",
    "        ('num', numerical_transformer, numerical_cols),\n",
    "        ('cat', categorical_transformer, categorical_cols)],\n",
    "        remainder='passthrough')"
   ]
  },
  {
   "cell_type": "markdown",
   "metadata": {},
   "source": [
    "## **Modeling**"
   ]
  },
  {
   "cell_type": "code",
   "execution_count": 30,
   "metadata": {},
   "outputs": [
    {
     "name": "stdout",
     "output_type": "stream",
     "text": [
      "Logistic Regression: 0.77 (1.43 minutes)\n",
      "KNN: 0.75 (0.60 minutes)\n",
      "Random Forest: 0.79 (4.90 minutes)\n",
      "XGBoost: 0.80 (0.65 minutes)\n",
      "LightGBM: 0.80 (0.10 minutes)\n",
      "CatBoost: 0.81 (4.30 minutes)\n"
     ]
    }
   ],
   "source": [
    "lg_model = LogisticRegression(random_state=random_state, max_iter=5000)\n",
    "lg_pipeline = Pipeline(steps=[\n",
    "    ('preprocessor', preprocessor),\n",
    "    ('lg', lg_model)\n",
    "])\n",
    "\n",
    "knn_model = KNeighborsClassifier()\n",
    "knn_pipeline = Pipeline(steps=[\n",
    "    ('preprocessor', preprocessor),\n",
    "    ('knn', knn_model)\n",
    "])  \n",
    "\n",
    "rf_model = RandomForestClassifier(random_state=random_state)\n",
    "rf_pipeline = Pipeline(steps=[\n",
    "    ('preprocessor', preprocessor),\n",
    "    ('random_forest', rf_model)\n",
    "])\n",
    "\n",
    "xgb_model = XGBClassifier()\n",
    "xgb_pipeline = Pipeline(steps=[\n",
    "    ('preprocessor', preprocessor),\n",
    "    ('xgb', xgb_model)\n",
    "])\n",
    "\n",
    "lgbm_model = LGBMClassifier(random_state=random_state, verbose=0)\n",
    "lgbm_pipeline = Pipeline(steps=[\n",
    "    ('preprocessor', preprocessor),\n",
    "    ('lgbm', lgbm_model)\n",
    "])\n",
    "\n",
    "catboost_model = CatBoostClassifier(random_state=random_state, verbose=0)\n",
    "catboost_pipeline = Pipeline(steps=[\n",
    "    ('preprocessor', preprocessor),\n",
    "    ('catboost', catboost_model)\n",
    "])  \n",
    "\n",
    "\n",
    "pipelines = {\n",
    "    \"Logistic Regression\": lg_pipeline,\n",
    "    \"KNN\": knn_pipeline,\n",
    "    \"Random Forest\": rf_pipeline,\n",
    "    \"XGBoost\": xgb_pipeline,\n",
    "    \"LightGBM\": lgbm_pipeline,\n",
    "    \"CatBoost\": catboost_pipeline,\n",
    "}\n",
    "\n",
    "\n",
    "for name, pipeline in pipelines.items():\n",
    "    start_time = time.time()  \n",
    "    scores = cross_val_score(pipeline, X, y, cv=10)\n",
    "    end_time = time.time()  \n",
    "    elapsed_time = (end_time - start_time)/60  \n",
    "    \n",
    "    print(f\"{name}: {scores.mean():.2f} ({elapsed_time:.2f} minutes)\")"
   ]
  },
  {
   "cell_type": "markdown",
   "metadata": {},
   "source": [
    "### **Insights**"
   ]
  },
  {
   "cell_type": "markdown",
   "metadata": {},
   "source": [
    ">  **1. Models Tested:** These 6 models were tested: Logistic Regression, KNN, Random Forest, XGBoost, LightGBM, and CatBoost </BR>\n",
    ">  **2. Lower Performance:** Logistic Regression, KNN and Random Forest produced mediocre results. </BR>\n",
    ">  **3. Higher Performance:** The three boosting models, XGBoost, LightGBM and CatBoost performed at the standard level of 80%"
   ]
  },
  {
   "cell_type": "markdown",
   "metadata": {},
   "source": [
    "## **Grid Search CV**"
   ]
  },
  {
   "cell_type": "markdown",
   "metadata": {},
   "source": [
    "### **CatBoost**"
   ]
  },
  {
   "cell_type": "code",
   "execution_count": null,
   "metadata": {},
   "outputs": [
    {
     "name": "stdout",
     "output_type": "stream",
     "text": [
      "Best parameters found:  {'classifier__learning_rate': 0.2, 'classifier__max_depth': 4, 'classifier__n_estimators': 100}\n",
      "Best cross-validation accuracy: 0.81\n",
      "Test set accuracy: 0.78\n",
      "Elapsed Time: 71.23 minutes\n"
     ]
    }
   ],
   "source": [
    "start_time = time.time()  \n",
    "\n",
    "param_grid = [\n",
    "    {\n",
    "        'classifier__n_estimators': [50, 100, 150, 200],\n",
    "        'classifier__max_depth': [4, 8, 12],\n",
    "        'classifier__learning_rate': [0.01, 0.1, 0.2]\n",
    "    }\n",
    "]\n",
    "\n",
    "\n",
    "pipeline = Pipeline([\n",
    "    ('preprocessor', preprocessor),         \n",
    "    ('classifier', CatBoostClassifier(random_state=random_state, verbose = 0)) \n",
    "])\n",
    "\n",
    "grid_search = GridSearchCV(pipeline, param_grid, cv=5, scoring='accuracy')\n",
    "\n",
    "\n",
    "grid_search.fit(X_train, y_train)\n",
    "\n",
    "print(\"Best parameters found: \", grid_search.best_params_)\n",
    "print(\"Best cross-validation accuracy: {:.2f}\".format(grid_search.best_score_))\n",
    "\n",
    "test_score = grid_search.score(X_test, y_test)\n",
    "print(\"Test set accuracy: {:.2f}\".format(test_score))\n",
    "\n",
    "end_time = time.time()  \n",
    "elapsed_time = (end_time - start_time)/60 \n",
    "print(f\"Elapsed Time: {elapsed_time:.2f} minutes\")"
   ]
  },
  {
   "cell_type": "code",
   "execution_count": 164,
   "metadata": {},
   "outputs": [
    {
     "name": "stdout",
     "output_type": "stream",
     "text": [
      "Best cross-validation accuracy: 0.81\n",
      "Test set accuracy: 0.78\n",
      "Elapsed Time: 1.19 minutes\n"
     ]
    }
   ],
   "source": [
    "start_time = time.time()  \n",
    "\n",
    "pipeline = Pipeline([\n",
    "    ('preprocessor', preprocessor),         \n",
    "    ('classifier', CatBoostClassifier(verbose=0, random_state=random_state, learning_rate=0.2, max_depth=4, n_estimators=100)) \n",
    "])\n",
    "\n",
    "cross_val_accuracy = cross_val_score(pipeline, X_train, y_train, cv=5, scoring='accuracy').mean()\n",
    "print(\"Best cross-validation accuracy: {:.2f}\".format(cross_val_accuracy))\n",
    "\n",
    "pipeline.fit(X_train, y_train)\n",
    "test_score = pipeline.score(X_test, y_test)\n",
    "print(\"Test set accuracy: {:.2f}\".format(test_score))\n",
    "\n",
    "end_time = time.time()  \n",
    "elapsed_time = (end_time - start_time)/60 \n",
    "print(f\"Elapsed Time: {elapsed_time:.2f} minutes\")"
   ]
  },
  {
   "cell_type": "markdown",
   "metadata": {},
   "source": [
    "### **Classification Report**"
   ]
  },
  {
   "cell_type": "code",
   "execution_count": 168,
   "metadata": {},
   "outputs": [
    {
     "name": "stdout",
     "output_type": "stream",
     "text": [
      "              precision    recall  f1-score   support\n",
      "\n",
      "       False       0.79      0.76      0.77       863\n",
      "        True       0.77      0.80      0.79       876\n",
      "\n",
      "    accuracy                           0.78      1739\n",
      "   macro avg       0.78      0.78      0.78      1739\n",
      "weighted avg       0.78      0.78      0.78      1739\n",
      "\n"
     ]
    }
   ],
   "source": [
    "X_test = X_test\n",
    "y_test = y_test\n",
    "pipeline = pipeline\n",
    "\n",
    "y_predict = functions.create_classification_report(pipeline, X_test, y_test)"
   ]
  },
  {
   "cell_type": "markdown",
   "metadata": {},
   "source": [
    "### **Confusion Matrix**"
   ]
  },
  {
   "cell_type": "code",
   "execution_count": 97,
   "metadata": {},
   "outputs": [
    {
     "data": {
      "image/png": "[encoded data removed]",
      "text/plain": [
       "<Figure size 640x480 with 2 Axes>"
      ]
     },
     "metadata": {},
     "output_type": "display_data"
    }
   ],
   "source": [
    "pipeline = pipeline\n",
    "X_test = X_test\n",
    "y_test = y_test\n",
    "color = plt.cm.Reds\n",
    "title = 'Confusion Matrix'\n",
    "\n",
    "functions.create_confusion_matrix(pipeline, X_test, y_test, color, title)"
   ]
  },
  {
   "cell_type": "markdown",
   "metadata": {},
   "source": [
    "### **Feature Importance**"
   ]
  },
  {
   "cell_type": "code",
   "execution_count": 98,
   "metadata": {},
   "outputs": [
    {
     "name": "stdout",
     "output_type": "stream",
     "text": [
      "                       Feature  Importance\n",
      "8        num__TotalExpenditure   13.475349\n",
      "6                     num__Spa   11.773403\n",
      "7                  num__VRDeck    9.723334\n",
      "9             num__Expenditure    9.548461\n",
      "12       cat__HomePlanet_Earth    8.160168\n",
      "...                        ...         ...\n",
      "757    cat__LastName_Folkshbox    0.000000\n",
      "756       cat__LastName_Folhal    0.000000\n",
      "755   cat__LastName_Folemonley    0.000000\n",
      "754     cat__LastName_Foledges    0.000000\n",
      "2166  cat__LastName_Youngrayes    0.000000\n",
      "\n",
      "[2167 rows x 2 columns]\n"
     ]
    }
   ],
   "source": [
    "pipeline = pipeline\n",
    "classifier = 'classifier'\n",
    "preprocessor = 'preprocessor'\n",
    "\n",
    "functions.create_feature_importance(pipeline, classifier, preprocessor)"
   ]
  },
  {
   "cell_type": "markdown",
   "metadata": {},
   "source": [
    "### **Insights**"
   ]
  },
  {
   "cell_type": "markdown",
   "metadata": {},
   "source": [
    ">  **1. Cross Validation Accuracy:** 81% accuracy.</BR>\n",
    ">  **2. Test Set Accuracy:** 78% accuracy. </BR>\n",
    ">  **3. Slowest Model:** 80 minutes for GridSearch CV and 1 minute to run. </BR>\n",
    ">  **4. Top 3 Features:** TotalExpenditure, Spa, VRDeck"
   ]
  },
  {
   "cell_type": "markdown",
   "metadata": {},
   "source": [
    "### **XGB**"
   ]
  },
  {
   "cell_type": "code",
   "execution_count": 37,
   "metadata": {},
   "outputs": [
    {
     "name": "stdout",
     "output_type": "stream",
     "text": [
      "Best parameters found:  {'classifier__learning_rate': 0.2, 'classifier__max_depth': 4, 'classifier__n_estimators': 100}\n",
      "Best cross-validation accuracy: 0.81\n",
      "Test set accuracy: 0.79\n",
      "Elapsed Time: 21.79 minutes\n"
     ]
    }
   ],
   "source": [
    "start_time = time.time()  \n",
    "\n",
    "param_grid = [\n",
    "    {\n",
    "        'classifier__n_estimators': [50, 100, 150, 200],\n",
    "        'classifier__max_depth': [4, 8, 12],\n",
    "        'classifier__learning_rate': [0.01, 0.1, 0.2]\n",
    "    }\n",
    "]   \n",
    "\n",
    "pipeline = Pipeline([\n",
    "    ('preprocessor', preprocessor),         \n",
    "    ('classifier', XGBClassifier(random_state=random_state)) \n",
    "])\n",
    "\n",
    "grid_search = GridSearchCV(pipeline, param_grid, cv=5, scoring='accuracy')\n",
    "\n",
    "\n",
    "grid_search.fit(X_train, y_train)\n",
    "\n",
    "print(\"Best parameters found: \", grid_search.best_params_)\n",
    "print(\"Best cross-validation accuracy: {:.2f}\".format(grid_search.best_score_))\n",
    "\n",
    "test_score = grid_search.score(X_test, y_test)\n",
    "print(\"Test set accuracy: {:.2f}\".format(test_score))\n",
    "\n",
    "end_time = time.time()  \n",
    "elapsed_time = (end_time - start_time)/60 \n",
    "print(f\"Elapsed Time: {elapsed_time:.2f} minutes\")"
   ]
  },
  {
   "cell_type": "code",
   "execution_count": 162,
   "metadata": {},
   "outputs": [
    {
     "name": "stdout",
     "output_type": "stream",
     "text": [
      "Best cross-validation accuracy: 0.81\n",
      "Test set accuracy: 0.79\n",
      "Elapsed Time: 0.36 minutes\n"
     ]
    }
   ],
   "source": [
    "start_time = time.time()  \n",
    "\n",
    "pipeline = Pipeline([\n",
    "    ('preprocessor', preprocessor),         \n",
    "    ('classifier', XGBClassifier(random_state=random_state, learning_rate=0.2, max_depth=4, n_estimators=100)) \n",
    "])\n",
    "\n",
    "cross_val_accuracy = cross_val_score(pipeline, X_train, y_train, cv=5, scoring='accuracy').mean()\n",
    "print(\"Best cross-validation accuracy: {:.2f}\".format(cross_val_accuracy))\n",
    "\n",
    "pipeline.fit(X_train, y_train)\n",
    "test_score = pipeline.score(X_test, y_test)\n",
    "print(\"Test set accuracy: {:.2f}\".format(test_score))\n",
    "\n",
    "end_time = time.time()  \n",
    "elapsed_time = (end_time - start_time)/60 \n",
    "print(f\"Elapsed Time: {elapsed_time:.2f} minutes\")"
   ]
  },
  {
   "cell_type": "markdown",
   "metadata": {},
   "source": [
    "### **Classification Report**"
   ]
  },
  {
   "cell_type": "code",
   "execution_count": 169,
   "metadata": {},
   "outputs": [
    {
     "name": "stdout",
     "output_type": "stream",
     "text": [
      "              precision    recall  f1-score   support\n",
      "\n",
      "       False       0.79      0.76      0.77       863\n",
      "        True       0.77      0.80      0.79       876\n",
      "\n",
      "    accuracy                           0.78      1739\n",
      "   macro avg       0.78      0.78      0.78      1739\n",
      "weighted avg       0.78      0.78      0.78      1739\n",
      "\n"
     ]
    }
   ],
   "source": [
    "X_test = X_test\n",
    "y_test = y_test\n",
    "pipeline = pipeline\n",
    "\n",
    "y_predict = functions.create_classification_report(pipeline, X_test, y_test)"
   ]
  },
  {
   "cell_type": "markdown",
   "metadata": {},
   "source": [
    "### **Confusion Matrix**"
   ]
  },
  {
   "cell_type": "code",
   "execution_count": 135,
   "metadata": {},
   "outputs": [
    {
     "data": {
      "image/png": "[encoded data removed]",
      "text/plain": [
       "<Figure size 640x480 with 2 Axes>"
      ]
     },
     "metadata": {},
     "output_type": "display_data"
    }
   ],
   "source": [
    "pipeline = pipeline\n",
    "X_test = X_test\n",
    "y_test = y_test\n",
    "color = plt.cm.Reds\n",
    "title = 'Confusion Matrix'\n",
    "\n",
    "functions.create_confusion_matrix(pipeline, X_test, y_test, color, title)"
   ]
  },
  {
   "cell_type": "markdown",
   "metadata": {},
   "source": [
    "### **Feature Importance**"
   ]
  },
  {
   "cell_type": "code",
   "execution_count": 121,
   "metadata": {},
   "outputs": [
    {
     "name": "stdout",
     "output_type": "stream",
     "text": [
      "                       Feature  Importance\n",
      "9             num__Expenditure    0.690840\n",
      "12       cat__HomePlanet_Earth    0.059276\n",
      "28        cat__CryoSleep_False    0.030439\n",
      "19            cat__CabinDeck_E    0.014842\n",
      "5            num__ShoppingMall    0.013669\n",
      "...                        ...         ...\n",
      "740     cat__LastName_Flesping    0.000000\n",
      "739         cat__LastName_Fles    0.000000\n",
      "738     cat__LastName_Flemaney    0.000000\n",
      "737        cat__LastName_Flell    0.000000\n",
      "2166  cat__LastName_Youngrayes    0.000000\n",
      "\n",
      "[2167 rows x 2 columns]\n"
     ]
    }
   ],
   "source": [
    "pipeline = pipeline\n",
    "classifier = 'classifier'\n",
    "preprocessor = 'preprocessor'\n",
    "\n",
    "functions.create_feature_importance(pipeline, classifier, preprocessor)"
   ]
  },
  {
   "cell_type": "markdown",
   "metadata": {},
   "source": [
    "### **Insights**"
   ]
  },
  {
   "cell_type": "markdown",
   "metadata": {},
   "source": [
    ">  **1. Cross Validation Accuracy:** 81% accuracy.</BR>\n",
    ">  **2. Test Set Accuracy:** At 78% accuracy, it almost reached the 80% standard. </BR>\n",
    ">  **3. Medium Speed:** 20 minutes for GridSearch CV and 1 minute to run.</BR>\n",
    ">  **4. Top 3 Features:** Expenditure, HomePlanet, CryoSleep"
   ]
  },
  {
   "cell_type": "markdown",
   "metadata": {},
   "source": [
    "### **LGBM**"
   ]
  },
  {
   "cell_type": "code",
   "execution_count": 33,
   "metadata": {},
   "outputs": [
    {
     "name": "stdout",
     "output_type": "stream",
     "text": [
      "Best parameters found:  {'classifier__learning_rate': 0.1, 'classifier__max_depth': 4, 'classifier__n_estimators': 150}\n",
      "Best cross-validation accuracy: 0.81\n",
      "Test set accuracy: 0.79\n",
      "Elapsed Time: 2.12 minutes\n"
     ]
    }
   ],
   "source": [
    "start_time = time.time()  \n",
    "\n",
    "param_grid = [\n",
    "    {\n",
    "        'classifier__n_estimators': [50, 100, 150, 200],\n",
    "        'classifier__max_depth': [4, 8, 12],\n",
    "        'classifier__learning_rate': [0.01, 0.1, 0.2]\n",
    "    }\n",
    "]\n",
    "\n",
    "\n",
    "pipeline = Pipeline([\n",
    "    ('preprocessor', preprocessor),         \n",
    "    ('classifier', LGBMClassifier(random_state=random_state, verbose = -1)) \n",
    "])\n",
    "\n",
    "grid_search = GridSearchCV(pipeline, param_grid, cv=5, scoring='accuracy')\n",
    "\n",
    "\n",
    "grid_search.fit(X_train, y_train)\n",
    "\n",
    "print(\"Best parameters found: \", grid_search.best_params_)\n",
    "print(\"Best cross-validation accuracy: {:.2f}\".format(grid_search.best_score_))\n",
    "\n",
    "test_score = grid_search.score(X_test, y_test)\n",
    "print(\"Test set accuracy: {:.2f}\".format(test_score))\n",
    "\n",
    "end_time = time.time()  \n",
    "elapsed_time = (end_time - start_time)/60 \n",
    "print(f\"Elapsed Time: {elapsed_time:.2f} minutes\")"
   ]
  },
  {
   "cell_type": "code",
   "execution_count": 155,
   "metadata": {},
   "outputs": [
    {
     "name": "stdout",
     "output_type": "stream",
     "text": [
      "Best cross-validation accuracy: 0.81\n",
      "Test set accuracy: 0.79\n",
      "Elapsed Time: 0.05 minutes\n"
     ]
    }
   ],
   "source": [
    "start_time = time.time()  \n",
    "\n",
    "pipeline = Pipeline([\n",
    "    ('preprocessor', preprocessor),         \n",
    "    ('classifier', LGBMClassifier(random_state=random_state, n_estimators=150, max_depth=4, learning_rate=0.1, verbose = -1)) \n",
    "])\n",
    "\n",
    "cross_val_accuracy = cross_val_score(pipeline, X_train, y_train, cv=5, scoring='accuracy').mean()\n",
    "print(\"Best cross-validation accuracy: {:.2f}\".format(cross_val_accuracy))\n",
    "\n",
    "pipeline.fit(X_train, y_train)\n",
    "test_score = pipeline.score(X_test, y_test)\n",
    "print(\"Test set accuracy: {:.2f}\".format(test_score))\n",
    "\n",
    "end_time = time.time()  \n",
    "elapsed_time = (end_time - start_time)/60 \n",
    "print(f\"Elapsed Time: {elapsed_time:.2f} minutes\")"
   ]
  },
  {
   "cell_type": "markdown",
   "metadata": {},
   "source": [
    "### **Classification Report**"
   ]
  },
  {
   "cell_type": "code",
   "execution_count": 161,
   "metadata": {},
   "outputs": [
    {
     "name": "stdout",
     "output_type": "stream",
     "text": [
      "              precision    recall  f1-score   support\n",
      "\n",
      "       False       0.81      0.76      0.78       863\n",
      "        True       0.78      0.82      0.80       876\n",
      "\n",
      "    accuracy                           0.79      1739\n",
      "   macro avg       0.79      0.79      0.79      1739\n",
      "weighted avg       0.79      0.79      0.79      1739\n",
      "\n"
     ]
    }
   ],
   "source": [
    "X_test = X_test\n",
    "y_test = y_test\n",
    "pipeline = pipeline\n",
    "\n",
    "y_predict = functions.create_classification_report(pipeline, X_test, y_test)"
   ]
  },
  {
   "cell_type": "markdown",
   "metadata": {},
   "source": [
    "### **Confusion Matrix**"
   ]
  },
  {
   "cell_type": "code",
   "execution_count": 137,
   "metadata": {},
   "outputs": [
    {
     "data": {
      "image/png": "[encoded data removed]",
      "text/plain": [
       "<Figure size 640x480 with 2 Axes>"
      ]
     },
     "metadata": {},
     "output_type": "display_data"
    }
   ],
   "source": [
    "pipeline = pipeline\n",
    "X_test = X_test\n",
    "y_test = y_test\n",
    "color = plt.cm.Reds\n",
    "title = 'Confusion Matrix'\n",
    "\n",
    "functions.create_confusion_matrix(pipeline, X_test, y_test, color, title)"
   ]
  },
  {
   "cell_type": "markdown",
   "metadata": {},
   "source": [
    "### **Feature Importance**"
   ]
  },
  {
   "cell_type": "code",
   "execution_count": 106,
   "metadata": {},
   "outputs": [
    {
     "name": "stdout",
     "output_type": "stream",
     "text": [
      "                       Feature  Importance\n",
      "6                     num__Spa         223\n",
      "7                  num__VRDeck         210\n",
      "4               num__FoodCourt         201\n",
      "8        num__TotalExpenditure         178\n",
      "2                     num__Age         148\n",
      "...                        ...         ...\n",
      "738     cat__LastName_Flemaney           0\n",
      "737        cat__LastName_Flell           0\n",
      "736          cat__LastName_Fle           0\n",
      "735       cat__LastName_Flatic           0\n",
      "2166  cat__LastName_Youngrayes           0\n",
      "\n",
      "[2167 rows x 2 columns]\n"
     ]
    }
   ],
   "source": [
    "pipeline = pipeline\n",
    "classifier = 'classifier'\n",
    "preprocessor = 'preprocessor'\n",
    "\n",
    "functions.create_feature_importance(pipeline, classifier, preprocessor)"
   ]
  },
  {
   "cell_type": "code",
   "execution_count": null,
   "metadata": {},
   "outputs": [],
   "source": [
    "display_roc_curve(log_model, X_test, y_test, y_predict);"
   ]
  },
  {
   "cell_type": "markdown",
   "metadata": {},
   "source": [
    "### **Insights**"
   ]
  },
  {
   "cell_type": "markdown",
   "metadata": {},
   "source": [
    ">  **1. Cross Validation Accuracy:** 81% accuracy.</BR>\n",
    ">  **2. Test Set Accuracy:** 79% accuracy. </BR>\n",
    ">  **3. Fastest Model:** 2 minutes for GridSearch CV and 3 seconds to run. </BR>\n",
    ">  **4. Top 3 Features:** Spa, VRDeck, FoodCourt"
   ]
  }
 ],
 "metadata": {
  "kernelspec": {
   "display_name": "Python 3",
   "language": "python",
   "name": "python3"
  },
  "language_info": {
   "codemirror_mode": {
    "name": "ipython",
    "version": 3
   },
   "file_extension": ".py",
   "mimetype": "text/x-python",
   "name": "python",
   "nbconvert_exporter": "python",
   "pygments_lexer": "ipython3",
   "version": "3.10.1"
  }
 },
 "nbformat": 4,
 "nbformat_minor": 2
}
