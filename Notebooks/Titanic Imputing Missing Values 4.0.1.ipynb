{
 "cells": [
  {
   "cell_type": "markdown",
   "id": "25aaf1b5",
   "metadata": {},
   "source": [
    "# <center> **Kaggle’s Spaceship Titanic Competition**\n",
    "# <center> **Imputing Missing Values**"
   ]
  },
  {
   "cell_type": "markdown",
   "id": "7a6c8da2",
   "metadata": {},
   "source": [
    "# **Libraries**"
   ]
  },
  {
   "cell_type": "code",
   "execution_count": 44,
   "id": "73e35264",
   "metadata": {},
   "outputs": [],
   "source": [
    "import pandas as pd\n",
    "import numpy as np\n",
    "import seaborn as sns\n",
    "import matplotlib as mpl\n",
    "import matplotlib.pyplot as plt\n",
    "\n",
    "import functions\n",
    "import importlib\n",
    "importlib.reload(functions)\n",
    "\n",
    "from sklearn.preprocessing import LabelEncoder\n",
    "\n",
    "import warnings"
   ]
  },
  {
   "cell_type": "markdown",
   "id": "f169bb5d",
   "metadata": {},
   "source": [
    "# **Data Overview and Preprocessing**"
   ]
  },
  {
   "cell_type": "code",
   "execution_count": 45,
   "id": "e358ddcd",
   "metadata": {},
   "outputs": [],
   "source": [
    "data = pd.read_csv(\n",
    "    r\"C:\\Users\\Dell\\Documents\\AI\\Titanic\\Data\\data.csv\",\n",
    "    index_col=False\n",
    ")\n",
    "\n",
    "random_state = 101\n",
    "target = 'Transported'\n",
    "\n",
    "data = data.drop([target], axis=1)"
   ]
  },
  {
   "cell_type": "markdown",
   "id": "f683651c",
   "metadata": {},
   "source": [
    "# **Imputing Missing Values**"
   ]
  },
  {
   "cell_type": "code",
   "execution_count": 46,
   "id": "073e7458",
   "metadata": {},
   "outputs": [
    {
     "data": {
      "text/html": [
       "<div>\n",
       "<style scoped>\n",
       "    .dataframe tbody tr th:only-of-type {\n",
       "        vertical-align: middle;\n",
       "    }\n",
       "\n",
       "    .dataframe tbody tr th {\n",
       "        vertical-align: top;\n",
       "    }\n",
       "\n",
       "    .dataframe thead th {\n",
       "        text-align: right;\n",
       "    }\n",
       "</style>\n",
       "<table border=\"1\" class=\"dataframe\">\n",
       "  <thead>\n",
       "    <tr style=\"text-align: right;\">\n",
       "      <th></th>\n",
       "      <th>NumberMissing</th>\n",
       "      <th>PercentageMissing</th>\n",
       "    </tr>\n",
       "  </thead>\n",
       "  <tbody>\n",
       "    <tr>\n",
       "      <th>HomePlanet</th>\n",
       "      <td>288</td>\n",
       "      <td>2.22</td>\n",
       "    </tr>\n",
       "    <tr>\n",
       "      <th>CabinDeck</th>\n",
       "      <td>299</td>\n",
       "      <td>2.31</td>\n",
       "    </tr>\n",
       "    <tr>\n",
       "      <th>CabinNumber</th>\n",
       "      <td>299</td>\n",
       "      <td>2.31</td>\n",
       "    </tr>\n",
       "    <tr>\n",
       "      <th>CabinSide</th>\n",
       "      <td>299</td>\n",
       "      <td>2.31</td>\n",
       "    </tr>\n",
       "    <tr>\n",
       "      <th>CryoSleep</th>\n",
       "      <td>310</td>\n",
       "      <td>2.39</td>\n",
       "    </tr>\n",
       "    <tr>\n",
       "      <th>Destination</th>\n",
       "      <td>274</td>\n",
       "      <td>2.11</td>\n",
       "    </tr>\n",
       "    <tr>\n",
       "      <th>VIP</th>\n",
       "      <td>296</td>\n",
       "      <td>2.28</td>\n",
       "    </tr>\n",
       "  </tbody>\n",
       "</table>\n",
       "</div>"
      ],
      "text/plain": [
       "             NumberMissing  PercentageMissing\n",
       "HomePlanet             288               2.22\n",
       "CabinDeck              299               2.31\n",
       "CabinNumber            299               2.31\n",
       "CabinSide              299               2.31\n",
       "CryoSleep              310               2.39\n",
       "Destination            274               2.11\n",
       "VIP                    296               2.28"
      ]
     },
     "execution_count": 46,
     "metadata": {},
     "output_type": "execute_result"
    }
   ],
   "source": [
    "functions.MissingValues(data)"
   ]
  },
  {
   "cell_type": "markdown",
   "id": "549a3b40",
   "metadata": {},
   "source": [
    "## **Home Planet**"
   ]
  },
  {
   "cell_type": "markdown",
   "id": "4c3d7b74",
   "metadata": {},
   "source": [
    "### **Impute Home Planet from Group**"
   ]
  },
  {
   "cell_type": "code",
   "execution_count": 47,
   "id": "e343ddea",
   "metadata": {},
   "outputs": [
    {
     "name": "stdout",
     "output_type": "stream",
     "text": [
      "Series([], Name: HomePlanet, dtype: int64)\n"
     ]
    }
   ],
   "source": [
    "unique_homeplanets_per_group = data.groupby('Group')['HomePlanet'].nunique()\n",
    "groups_with_multiple_planets = unique_homeplanets_per_group[unique_homeplanets_per_group > 1]\n",
    "\n",
    "print(groups_with_multiple_planets)"
   ]
  },
  {
   "cell_type": "code",
   "execution_count": 48,
   "id": "5d511cb7",
   "metadata": {},
   "outputs": [],
   "source": [
    "group_homeplanet_map = data.groupby('Group')['HomePlanet'].apply(lambda x: x.mode()[0] if not x.mode().empty else None)\n",
    "\n",
    "def fill_missing_homeplanet(row):\n",
    "    if pd.isna(row['HomePlanet']):\n",
    "        return group_homeplanet_map.get(row['Group'], row['HomePlanet'])\n",
    "    else:\n",
    "        return row['HomePlanet']\n",
    "\n",
    "data['HomePlanet'] = data.apply(fill_missing_homeplanet, axis=1)"
   ]
  },
  {
   "cell_type": "code",
   "execution_count": 49,
   "id": "74133102",
   "metadata": {},
   "outputs": [
    {
     "data": {
      "text/html": [
       "<div>\n",
       "<style scoped>\n",
       "    .dataframe tbody tr th:only-of-type {\n",
       "        vertical-align: middle;\n",
       "    }\n",
       "\n",
       "    .dataframe tbody tr th {\n",
       "        vertical-align: top;\n",
       "    }\n",
       "\n",
       "    .dataframe thead th {\n",
       "        text-align: right;\n",
       "    }\n",
       "</style>\n",
       "<table border=\"1\" class=\"dataframe\">\n",
       "  <thead>\n",
       "    <tr style=\"text-align: right;\">\n",
       "      <th></th>\n",
       "      <th>NumberMissing</th>\n",
       "      <th>PercentageMissing</th>\n",
       "    </tr>\n",
       "  </thead>\n",
       "  <tbody>\n",
       "    <tr>\n",
       "      <th>HomePlanet</th>\n",
       "      <td>157</td>\n",
       "      <td>1.21</td>\n",
       "    </tr>\n",
       "    <tr>\n",
       "      <th>CabinDeck</th>\n",
       "      <td>299</td>\n",
       "      <td>2.31</td>\n",
       "    </tr>\n",
       "    <tr>\n",
       "      <th>CabinNumber</th>\n",
       "      <td>299</td>\n",
       "      <td>2.31</td>\n",
       "    </tr>\n",
       "    <tr>\n",
       "      <th>CabinSide</th>\n",
       "      <td>299</td>\n",
       "      <td>2.31</td>\n",
       "    </tr>\n",
       "    <tr>\n",
       "      <th>CryoSleep</th>\n",
       "      <td>310</td>\n",
       "      <td>2.39</td>\n",
       "    </tr>\n",
       "    <tr>\n",
       "      <th>Destination</th>\n",
       "      <td>274</td>\n",
       "      <td>2.11</td>\n",
       "    </tr>\n",
       "    <tr>\n",
       "      <th>VIP</th>\n",
       "      <td>296</td>\n",
       "      <td>2.28</td>\n",
       "    </tr>\n",
       "  </tbody>\n",
       "</table>\n",
       "</div>"
      ],
      "text/plain": [
       "             NumberMissing  PercentageMissing\n",
       "HomePlanet             157               1.21\n",
       "CabinDeck              299               2.31\n",
       "CabinNumber            299               2.31\n",
       "CabinSide              299               2.31\n",
       "CryoSleep              310               2.39\n",
       "Destination            274               2.11\n",
       "VIP                    296               2.28"
      ]
     },
     "execution_count": 49,
     "metadata": {},
     "output_type": "execute_result"
    }
   ],
   "source": [
    "functions.MissingValues(data)"
   ]
  },
  {
   "cell_type": "markdown",
   "id": "b9fcd8c2",
   "metadata": {},
   "source": [
    "### **Impute Home Planet from Last Name**"
   ]
  },
  {
   "cell_type": "code",
   "execution_count": 50,
   "id": "97a241fa",
   "metadata": {},
   "outputs": [],
   "source": [
    "lastname_homeplanet_map = data.groupby('LastName')['HomePlanet'].apply(lambda x: x.mode()[0] if not x.mode().empty else None)\n",
    "\n",
    "def fill_missing_homeplanet_by_lastname(row):\n",
    "    if pd.isna(row['HomePlanet']):\n",
    "        return lastname_homeplanet_map.get(row['LastName'], row['HomePlanet'])\n",
    "    else:\n",
    "        return row['HomePlanet']\n",
    "\n",
    "data['HomePlanet'] = data.apply(fill_missing_homeplanet_by_lastname, axis=1)"
   ]
  },
  {
   "cell_type": "code",
   "execution_count": 51,
   "id": "efdc73d8",
   "metadata": {},
   "outputs": [
    {
     "data": {
      "text/html": [
       "<div>\n",
       "<style scoped>\n",
       "    .dataframe tbody tr th:only-of-type {\n",
       "        vertical-align: middle;\n",
       "    }\n",
       "\n",
       "    .dataframe tbody tr th {\n",
       "        vertical-align: top;\n",
       "    }\n",
       "\n",
       "    .dataframe thead th {\n",
       "        text-align: right;\n",
       "    }\n",
       "</style>\n",
       "<table border=\"1\" class=\"dataframe\">\n",
       "  <thead>\n",
       "    <tr style=\"text-align: right;\">\n",
       "      <th></th>\n",
       "      <th>NumberMissing</th>\n",
       "      <th>PercentageMissing</th>\n",
       "    </tr>\n",
       "  </thead>\n",
       "  <tbody>\n",
       "    <tr>\n",
       "      <th>HomePlanet</th>\n",
       "      <td>7</td>\n",
       "      <td>0.05</td>\n",
       "    </tr>\n",
       "    <tr>\n",
       "      <th>CabinDeck</th>\n",
       "      <td>299</td>\n",
       "      <td>2.31</td>\n",
       "    </tr>\n",
       "    <tr>\n",
       "      <th>CabinNumber</th>\n",
       "      <td>299</td>\n",
       "      <td>2.31</td>\n",
       "    </tr>\n",
       "    <tr>\n",
       "      <th>CabinSide</th>\n",
       "      <td>299</td>\n",
       "      <td>2.31</td>\n",
       "    </tr>\n",
       "    <tr>\n",
       "      <th>CryoSleep</th>\n",
       "      <td>310</td>\n",
       "      <td>2.39</td>\n",
       "    </tr>\n",
       "    <tr>\n",
       "      <th>Destination</th>\n",
       "      <td>274</td>\n",
       "      <td>2.11</td>\n",
       "    </tr>\n",
       "    <tr>\n",
       "      <th>VIP</th>\n",
       "      <td>296</td>\n",
       "      <td>2.28</td>\n",
       "    </tr>\n",
       "  </tbody>\n",
       "</table>\n",
       "</div>"
      ],
      "text/plain": [
       "             NumberMissing  PercentageMissing\n",
       "HomePlanet               7               0.05\n",
       "CabinDeck              299               2.31\n",
       "CabinNumber            299               2.31\n",
       "CabinSide              299               2.31\n",
       "CryoSleep              310               2.39\n",
       "Destination            274               2.11\n",
       "VIP                    296               2.28"
      ]
     },
     "execution_count": 51,
     "metadata": {},
     "output_type": "execute_result"
    }
   ],
   "source": [
    "functions.MissingValues(data)"
   ]
  },
  {
   "cell_type": "markdown",
   "id": "7f117d04",
   "metadata": {},
   "source": [
    "### **Impute Home Planet from Mode**"
   ]
  },
  {
   "cell_type": "code",
   "execution_count": 52,
   "id": "e9f145d1",
   "metadata": {},
   "outputs": [
    {
     "name": "stdout",
     "output_type": "stream",
     "text": [
      "Earth\n"
     ]
    }
   ],
   "source": [
    "homeplanet_mode = data['HomePlanet'].mode()[0]\n",
    "print(homeplanet_mode)"
   ]
  },
  {
   "cell_type": "code",
   "execution_count": 53,
   "id": "1e265105",
   "metadata": {},
   "outputs": [],
   "source": [
    "mode_value = data['HomePlanet'].mode()\n",
    "\n",
    "if not mode_value.empty:\n",
    "    data['HomePlanet'] = data['HomePlanet'].fillna(mode_value[0])"
   ]
  },
  {
   "cell_type": "code",
   "execution_count": 54,
   "id": "d7732939",
   "metadata": {},
   "outputs": [
    {
     "data": {
      "text/html": [
       "<div>\n",
       "<style scoped>\n",
       "    .dataframe tbody tr th:only-of-type {\n",
       "        vertical-align: middle;\n",
       "    }\n",
       "\n",
       "    .dataframe tbody tr th {\n",
       "        vertical-align: top;\n",
       "    }\n",
       "\n",
       "    .dataframe thead th {\n",
       "        text-align: right;\n",
       "    }\n",
       "</style>\n",
       "<table border=\"1\" class=\"dataframe\">\n",
       "  <thead>\n",
       "    <tr style=\"text-align: right;\">\n",
       "      <th></th>\n",
       "      <th>NumberMissing</th>\n",
       "      <th>PercentageMissing</th>\n",
       "    </tr>\n",
       "  </thead>\n",
       "  <tbody>\n",
       "    <tr>\n",
       "      <th>CabinDeck</th>\n",
       "      <td>299</td>\n",
       "      <td>2.31</td>\n",
       "    </tr>\n",
       "    <tr>\n",
       "      <th>CabinNumber</th>\n",
       "      <td>299</td>\n",
       "      <td>2.31</td>\n",
       "    </tr>\n",
       "    <tr>\n",
       "      <th>CabinSide</th>\n",
       "      <td>299</td>\n",
       "      <td>2.31</td>\n",
       "    </tr>\n",
       "    <tr>\n",
       "      <th>CryoSleep</th>\n",
       "      <td>310</td>\n",
       "      <td>2.39</td>\n",
       "    </tr>\n",
       "    <tr>\n",
       "      <th>Destination</th>\n",
       "      <td>274</td>\n",
       "      <td>2.11</td>\n",
       "    </tr>\n",
       "    <tr>\n",
       "      <th>VIP</th>\n",
       "      <td>296</td>\n",
       "      <td>2.28</td>\n",
       "    </tr>\n",
       "  </tbody>\n",
       "</table>\n",
       "</div>"
      ],
      "text/plain": [
       "             NumberMissing  PercentageMissing\n",
       "CabinDeck              299               2.31\n",
       "CabinNumber            299               2.31\n",
       "CabinSide              299               2.31\n",
       "CryoSleep              310               2.39\n",
       "Destination            274               2.11\n",
       "VIP                    296               2.28"
      ]
     },
     "execution_count": 54,
     "metadata": {},
     "output_type": "execute_result"
    }
   ],
   "source": [
    "functions.MissingValues(data)"
   ]
  },
  {
   "cell_type": "markdown",
   "id": "ada1b105",
   "metadata": {},
   "source": [
    "### **Insights**"
   ]
  },
  {
   "cell_type": "markdown",
   "id": "71df1217",
   "metadata": {},
   "source": [
    ">  **1. Grouping by Group:** Starting with 288 missing values. Grouping by 'Group' to find the most common (or only) HomePlanet. Fill missing HomePlanet values based on Group's identified home planet. End with 157 missing values. </BR>\n",
    ">  **2. Grouping by Last Name:** Starting with 157 missing values. Grouping by 'LastName' to find the most common (or only) HomePlanet. Fill missing HomePlanet values based on last name's identified home planet. End with 7 missing values. </BR>\n",
    ">  **3. Mode:** Start with 7 missing values. Fill missing values by mode of HomePlanet, which is Earth. End with 0 missing values."
   ]
  },
  {
   "cell_type": "markdown",
   "id": "abf8631e",
   "metadata": {},
   "source": [
    "## **Destination**"
   ]
  },
  {
   "cell_type": "markdown",
   "id": "7b5a1122",
   "metadata": {},
   "source": [
    "### **Impute Destination from Group**"
   ]
  },
  {
   "cell_type": "code",
   "execution_count": 55,
   "id": "61f060d3",
   "metadata": {},
   "outputs": [
    {
     "data": {
      "text/plain": [
       "Group\n",
       "8     2\n",
       "17    2\n",
       "20    3\n",
       "32    2\n",
       "44    3\n",
       "Name: Destination, dtype: int64"
      ]
     },
     "execution_count": 55,
     "metadata": {},
     "output_type": "execute_result"
    }
   ],
   "source": [
    "unique_destinationplanets_per_group = data.groupby('Group')['Destination'].nunique()\n",
    "groups_with_multiple_destinations = unique_destinationplanets_per_group[unique_destinationplanets_per_group > 1]\n",
    "\n",
    "groups_with_multiple_destinations.head()"
   ]
  },
  {
   "cell_type": "code",
   "execution_count": 56,
   "id": "64b93c6b",
   "metadata": {},
   "outputs": [],
   "source": [
    "group_destinationplanet_map = data.groupby('Group')['Destination'].apply(lambda x: x.mode()[0] if not x.mode().empty else None)\n",
    "\n",
    "def fill_missing_destinationplanet(row):\n",
    "    if pd.isna(row['Destination']):\n",
    "        return group_destinationplanet_map.get(row['Group'], row['Destination'])\n",
    "    else:\n",
    "        return row['Destination']\n",
    "\n",
    "data['Destination'] = data.apply(fill_missing_destinationplanet, axis=1)"
   ]
  },
  {
   "cell_type": "code",
   "execution_count": 57,
   "id": "869495fa",
   "metadata": {},
   "outputs": [
    {
     "data": {
      "text/html": [
       "<div>\n",
       "<style scoped>\n",
       "    .dataframe tbody tr th:only-of-type {\n",
       "        vertical-align: middle;\n",
       "    }\n",
       "\n",
       "    .dataframe tbody tr th {\n",
       "        vertical-align: top;\n",
       "    }\n",
       "\n",
       "    .dataframe thead th {\n",
       "        text-align: right;\n",
       "    }\n",
       "</style>\n",
       "<table border=\"1\" class=\"dataframe\">\n",
       "  <thead>\n",
       "    <tr style=\"text-align: right;\">\n",
       "      <th></th>\n",
       "      <th>NumberMissing</th>\n",
       "      <th>PercentageMissing</th>\n",
       "    </tr>\n",
       "  </thead>\n",
       "  <tbody>\n",
       "    <tr>\n",
       "      <th>CabinDeck</th>\n",
       "      <td>299</td>\n",
       "      <td>2.31</td>\n",
       "    </tr>\n",
       "    <tr>\n",
       "      <th>CabinNumber</th>\n",
       "      <td>299</td>\n",
       "      <td>2.31</td>\n",
       "    </tr>\n",
       "    <tr>\n",
       "      <th>CabinSide</th>\n",
       "      <td>299</td>\n",
       "      <td>2.31</td>\n",
       "    </tr>\n",
       "    <tr>\n",
       "      <th>CryoSleep</th>\n",
       "      <td>310</td>\n",
       "      <td>2.39</td>\n",
       "    </tr>\n",
       "    <tr>\n",
       "      <th>Destination</th>\n",
       "      <td>154</td>\n",
       "      <td>1.19</td>\n",
       "    </tr>\n",
       "    <tr>\n",
       "      <th>VIP</th>\n",
       "      <td>296</td>\n",
       "      <td>2.28</td>\n",
       "    </tr>\n",
       "  </tbody>\n",
       "</table>\n",
       "</div>"
      ],
      "text/plain": [
       "             NumberMissing  PercentageMissing\n",
       "CabinDeck              299               2.31\n",
       "CabinNumber            299               2.31\n",
       "CabinSide              299               2.31\n",
       "CryoSleep              310               2.39\n",
       "Destination            154               1.19\n",
       "VIP                    296               2.28"
      ]
     },
     "execution_count": 57,
     "metadata": {},
     "output_type": "execute_result"
    }
   ],
   "source": [
    "functions.MissingValues(data)"
   ]
  },
  {
   "cell_type": "markdown",
   "id": "c35646bf",
   "metadata": {},
   "source": [
    "### **Impute Destination from Last Name**"
   ]
  },
  {
   "cell_type": "code",
   "execution_count": 58,
   "id": "33c1402a",
   "metadata": {},
   "outputs": [],
   "source": [
    "lastname_destinationplanet_map = data.groupby('LastName')['Destination'].apply(lambda x: x.mode()[0] if not x.mode().empty else None)\n",
    "\n",
    "def fill_missing_destinationplanet_by_lastname(row):\n",
    "    if pd.isna(row['Destination']):\n",
    "        return lastname_destinationplanet_map.get(row['LastName'], row['Destination'])\n",
    "    else:\n",
    "        return row['Destination']\n",
    "\n",
    "data['Destination'] = data.apply(fill_missing_destinationplanet_by_lastname, axis=1)"
   ]
  },
  {
   "cell_type": "code",
   "execution_count": 59,
   "id": "e0e52857",
   "metadata": {},
   "outputs": [
    {
     "data": {
      "text/html": [
       "<div>\n",
       "<style scoped>\n",
       "    .dataframe tbody tr th:only-of-type {\n",
       "        vertical-align: middle;\n",
       "    }\n",
       "\n",
       "    .dataframe tbody tr th {\n",
       "        vertical-align: top;\n",
       "    }\n",
       "\n",
       "    .dataframe thead th {\n",
       "        text-align: right;\n",
       "    }\n",
       "</style>\n",
       "<table border=\"1\" class=\"dataframe\">\n",
       "  <thead>\n",
       "    <tr style=\"text-align: right;\">\n",
       "      <th></th>\n",
       "      <th>NumberMissing</th>\n",
       "      <th>PercentageMissing</th>\n",
       "    </tr>\n",
       "  </thead>\n",
       "  <tbody>\n",
       "    <tr>\n",
       "      <th>CabinDeck</th>\n",
       "      <td>299</td>\n",
       "      <td>2.31</td>\n",
       "    </tr>\n",
       "    <tr>\n",
       "      <th>CabinNumber</th>\n",
       "      <td>299</td>\n",
       "      <td>2.31</td>\n",
       "    </tr>\n",
       "    <tr>\n",
       "      <th>CabinSide</th>\n",
       "      <td>299</td>\n",
       "      <td>2.31</td>\n",
       "    </tr>\n",
       "    <tr>\n",
       "      <th>CryoSleep</th>\n",
       "      <td>310</td>\n",
       "      <td>2.39</td>\n",
       "    </tr>\n",
       "    <tr>\n",
       "      <th>Destination</th>\n",
       "      <td>4</td>\n",
       "      <td>0.03</td>\n",
       "    </tr>\n",
       "    <tr>\n",
       "      <th>VIP</th>\n",
       "      <td>296</td>\n",
       "      <td>2.28</td>\n",
       "    </tr>\n",
       "  </tbody>\n",
       "</table>\n",
       "</div>"
      ],
      "text/plain": [
       "             NumberMissing  PercentageMissing\n",
       "CabinDeck              299               2.31\n",
       "CabinNumber            299               2.31\n",
       "CabinSide              299               2.31\n",
       "CryoSleep              310               2.39\n",
       "Destination              4               0.03\n",
       "VIP                    296               2.28"
      ]
     },
     "execution_count": 59,
     "metadata": {},
     "output_type": "execute_result"
    }
   ],
   "source": [
    "functions.MissingValues(data)"
   ]
  },
  {
   "cell_type": "markdown",
   "id": "07af507d",
   "metadata": {},
   "source": [
    "### **Impute Destination from Mode**"
   ]
  },
  {
   "cell_type": "code",
   "execution_count": 60,
   "id": "e07afafe",
   "metadata": {},
   "outputs": [
    {
     "name": "stdout",
     "output_type": "stream",
     "text": [
      "TRAPPIST-1e\n"
     ]
    }
   ],
   "source": [
    "desinationplanet_mode = data['Destination'].mode()[0]\n",
    "print(desinationplanet_mode)"
   ]
  },
  {
   "cell_type": "code",
   "execution_count": 61,
   "id": "6b692c64",
   "metadata": {},
   "outputs": [],
   "source": [
    "data['Destination'] = data['Destination'].fillna(data['Destination'].mode()[0])"
   ]
  },
  {
   "cell_type": "code",
   "execution_count": 62,
   "id": "85cbb64f",
   "metadata": {},
   "outputs": [
    {
     "data": {
      "text/html": [
       "<div>\n",
       "<style scoped>\n",
       "    .dataframe tbody tr th:only-of-type {\n",
       "        vertical-align: middle;\n",
       "    }\n",
       "\n",
       "    .dataframe tbody tr th {\n",
       "        vertical-align: top;\n",
       "    }\n",
       "\n",
       "    .dataframe thead th {\n",
       "        text-align: right;\n",
       "    }\n",
       "</style>\n",
       "<table border=\"1\" class=\"dataframe\">\n",
       "  <thead>\n",
       "    <tr style=\"text-align: right;\">\n",
       "      <th></th>\n",
       "      <th>NumberMissing</th>\n",
       "      <th>PercentageMissing</th>\n",
       "    </tr>\n",
       "  </thead>\n",
       "  <tbody>\n",
       "    <tr>\n",
       "      <th>CabinDeck</th>\n",
       "      <td>299</td>\n",
       "      <td>2.31</td>\n",
       "    </tr>\n",
       "    <tr>\n",
       "      <th>CabinNumber</th>\n",
       "      <td>299</td>\n",
       "      <td>2.31</td>\n",
       "    </tr>\n",
       "    <tr>\n",
       "      <th>CabinSide</th>\n",
       "      <td>299</td>\n",
       "      <td>2.31</td>\n",
       "    </tr>\n",
       "    <tr>\n",
       "      <th>CryoSleep</th>\n",
       "      <td>310</td>\n",
       "      <td>2.39</td>\n",
       "    </tr>\n",
       "    <tr>\n",
       "      <th>VIP</th>\n",
       "      <td>296</td>\n",
       "      <td>2.28</td>\n",
       "    </tr>\n",
       "  </tbody>\n",
       "</table>\n",
       "</div>"
      ],
      "text/plain": [
       "             NumberMissing  PercentageMissing\n",
       "CabinDeck              299               2.31\n",
       "CabinNumber            299               2.31\n",
       "CabinSide              299               2.31\n",
       "CryoSleep              310               2.39\n",
       "VIP                    296               2.28"
      ]
     },
     "execution_count": 62,
     "metadata": {},
     "output_type": "execute_result"
    }
   ],
   "source": [
    "functions.MissingValues(data)"
   ]
  },
  {
   "cell_type": "markdown",
   "id": "71807960",
   "metadata": {},
   "source": [
    ">  **1. Grouping by Group:** Starting with 274 missing values. Grouping by 'Group' to find the most common (or only) destination. Fill missing values based on Group's identified destination. End with 154 missing values. </BR>\n",
    ">  **2. Grouping by Last Name:** Starting with 154 missing values. Grouping by 'LastName' to find the most common (or only) destination. Fill missing values based on last name's identified destination. End with 4 missing values. </BR>\n",
    ">  **3. Mode:** Start with 4 missing values. Fill missing values by mode, which is TRAPPIST-1e. End with 0 missing values."
   ]
  },
  {
   "cell_type": "markdown",
   "id": "14e4fde8",
   "metadata": {},
   "source": [
    "## **Cabin Deck**"
   ]
  },
  {
   "cell_type": "markdown",
   "id": "39516f6a",
   "metadata": {},
   "source": [
    "### **Cabin Deck and Home Planet**"
   ]
  },
  {
   "cell_type": "code",
   "execution_count": 63,
   "id": "af18784b",
   "metadata": {},
   "outputs": [
    {
     "data": {
      "text/html": [
       "<div>\n",
       "<style scoped>\n",
       "    .dataframe tbody tr th:only-of-type {\n",
       "        vertical-align: middle;\n",
       "    }\n",
       "\n",
       "    .dataframe tbody tr th {\n",
       "        vertical-align: top;\n",
       "    }\n",
       "\n",
       "    .dataframe thead th {\n",
       "        text-align: right;\n",
       "    }\n",
       "</style>\n",
       "<table border=\"1\" class=\"dataframe\">\n",
       "  <thead>\n",
       "    <tr style=\"text-align: right;\">\n",
       "      <th>HomePlanet</th>\n",
       "      <th>Earth</th>\n",
       "      <th>Europa</th>\n",
       "      <th>Mars</th>\n",
       "    </tr>\n",
       "    <tr>\n",
       "      <th>CabinDeck</th>\n",
       "      <th></th>\n",
       "      <th></th>\n",
       "      <th></th>\n",
       "    </tr>\n",
       "  </thead>\n",
       "  <tbody>\n",
       "    <tr>\n",
       "      <th>A</th>\n",
       "      <td>1</td>\n",
       "      <td>353</td>\n",
       "      <td>0</td>\n",
       "    </tr>\n",
       "    <tr>\n",
       "      <th>B</th>\n",
       "      <td>0</td>\n",
       "      <td>1141</td>\n",
       "      <td>0</td>\n",
       "    </tr>\n",
       "    <tr>\n",
       "      <th>C</th>\n",
       "      <td>1</td>\n",
       "      <td>1101</td>\n",
       "      <td>0</td>\n",
       "    </tr>\n",
       "    <tr>\n",
       "      <th>D</th>\n",
       "      <td>3</td>\n",
       "      <td>306</td>\n",
       "      <td>411</td>\n",
       "    </tr>\n",
       "    <tr>\n",
       "      <th>E</th>\n",
       "      <td>597</td>\n",
       "      <td>203</td>\n",
       "      <td>523</td>\n",
       "    </tr>\n",
       "    <tr>\n",
       "      <th>F</th>\n",
       "      <td>2480</td>\n",
       "      <td>0</td>\n",
       "      <td>1759</td>\n",
       "    </tr>\n",
       "    <tr>\n",
       "      <th>G</th>\n",
       "      <td>3781</td>\n",
       "      <td>0</td>\n",
       "      <td>0</td>\n",
       "    </tr>\n",
       "    <tr>\n",
       "      <th>T</th>\n",
       "      <td>0</td>\n",
       "      <td>11</td>\n",
       "      <td>0</td>\n",
       "    </tr>\n",
       "  </tbody>\n",
       "</table>\n",
       "</div>"
      ],
      "text/plain": [
       "HomePlanet  Earth  Europa  Mars\n",
       "CabinDeck                      \n",
       "A               1     353     0\n",
       "B               0    1141     0\n",
       "C               1    1101     0\n",
       "D               3     306   411\n",
       "E             597     203   523\n",
       "F            2480       0  1759\n",
       "G            3781       0     0\n",
       "T               0      11     0"
      ]
     },
     "execution_count": 63,
     "metadata": {},
     "output_type": "execute_result"
    }
   ],
   "source": [
    "data.pivot_table(index='CabinDeck', columns='HomePlanet', aggfunc='size', fill_value=0)"
   ]
  },
  {
   "cell_type": "markdown",
   "id": "828623a5",
   "metadata": {},
   "source": [
    "### **Impute CabinDeck G from Earth**"
   ]
  },
  {
   "cell_type": "markdown",
   "id": "efafe486",
   "metadata": {},
   "source": [
    "For train set, we went down from 199 to 100. For test set, we went from 100 to 38."
   ]
  },
  {
   "cell_type": "code",
   "execution_count": 64,
   "id": "ee6442ae",
   "metadata": {},
   "outputs": [],
   "source": [
    "# Fill missing CabinDeck values with 'G' where HomePlanet is 'Earth'\n",
    "data.loc[(data['HomePlanet'] == 'Earth') & (data['CabinDeck'].isnull()), 'CabinDeck'] = 'G'"
   ]
  },
  {
   "cell_type": "code",
   "execution_count": 65,
   "id": "2c9f311b",
   "metadata": {},
   "outputs": [
    {
     "data": {
      "text/html": [
       "<div>\n",
       "<style scoped>\n",
       "    .dataframe tbody tr th:only-of-type {\n",
       "        vertical-align: middle;\n",
       "    }\n",
       "\n",
       "    .dataframe tbody tr th {\n",
       "        vertical-align: top;\n",
       "    }\n",
       "\n",
       "    .dataframe thead th {\n",
       "        text-align: right;\n",
       "    }\n",
       "</style>\n",
       "<table border=\"1\" class=\"dataframe\">\n",
       "  <thead>\n",
       "    <tr style=\"text-align: right;\">\n",
       "      <th></th>\n",
       "      <th>NumberMissing</th>\n",
       "      <th>PercentageMissing</th>\n",
       "    </tr>\n",
       "  </thead>\n",
       "  <tbody>\n",
       "    <tr>\n",
       "      <th>CabinDeck</th>\n",
       "      <td>138</td>\n",
       "      <td>1.06</td>\n",
       "    </tr>\n",
       "    <tr>\n",
       "      <th>CabinNumber</th>\n",
       "      <td>299</td>\n",
       "      <td>2.31</td>\n",
       "    </tr>\n",
       "    <tr>\n",
       "      <th>CabinSide</th>\n",
       "      <td>299</td>\n",
       "      <td>2.31</td>\n",
       "    </tr>\n",
       "    <tr>\n",
       "      <th>CryoSleep</th>\n",
       "      <td>310</td>\n",
       "      <td>2.39</td>\n",
       "    </tr>\n",
       "    <tr>\n",
       "      <th>VIP</th>\n",
       "      <td>296</td>\n",
       "      <td>2.28</td>\n",
       "    </tr>\n",
       "  </tbody>\n",
       "</table>\n",
       "</div>"
      ],
      "text/plain": [
       "             NumberMissing  PercentageMissing\n",
       "CabinDeck              138               1.06\n",
       "CabinNumber            299               2.31\n",
       "CabinSide              299               2.31\n",
       "CryoSleep              310               2.39\n",
       "VIP                    296               2.28"
      ]
     },
     "execution_count": 65,
     "metadata": {},
     "output_type": "execute_result"
    }
   ],
   "source": [
    "functions.MissingValues(data)"
   ]
  },
  {
   "cell_type": "markdown",
   "id": "be4ef7fd",
   "metadata": {},
   "source": [
    "### **Impute CabinDeck from Last Name**"
   ]
  },
  {
   "cell_type": "code",
   "execution_count": 66,
   "id": "6ea2aeb0",
   "metadata": {},
   "outputs": [],
   "source": [
    "lastname_cabindeck_map = data.groupby('LastName')['CabinDeck'].apply(lambda x: x.mode()[0] if not x.mode().empty else None)\n",
    "\n",
    "def fill_missing_cabindeck_by_lastname(row):\n",
    "    if pd.isna(row['CabinDeck']):\n",
    "        return lastname_homeplanet_map.get(row['LastName'], row['CabinDeck'])\n",
    "    else:\n",
    "        return row['CabinDeck']\n",
    "\n",
    "data['CabinDeck'] = data.apply(fill_missing_cabindeck_by_lastname, axis=1)"
   ]
  },
  {
   "cell_type": "code",
   "execution_count": 67,
   "id": "1b1363c6",
   "metadata": {},
   "outputs": [
    {
     "data": {
      "text/html": [
       "<div>\n",
       "<style scoped>\n",
       "    .dataframe tbody tr th:only-of-type {\n",
       "        vertical-align: middle;\n",
       "    }\n",
       "\n",
       "    .dataframe tbody tr th {\n",
       "        vertical-align: top;\n",
       "    }\n",
       "\n",
       "    .dataframe thead th {\n",
       "        text-align: right;\n",
       "    }\n",
       "</style>\n",
       "<table border=\"1\" class=\"dataframe\">\n",
       "  <thead>\n",
       "    <tr style=\"text-align: right;\">\n",
       "      <th></th>\n",
       "      <th>NumberMissing</th>\n",
       "      <th>PercentageMissing</th>\n",
       "    </tr>\n",
       "  </thead>\n",
       "  <tbody>\n",
       "    <tr>\n",
       "      <th>CabinNumber</th>\n",
       "      <td>299</td>\n",
       "      <td>2.31</td>\n",
       "    </tr>\n",
       "    <tr>\n",
       "      <th>CabinSide</th>\n",
       "      <td>299</td>\n",
       "      <td>2.31</td>\n",
       "    </tr>\n",
       "    <tr>\n",
       "      <th>CryoSleep</th>\n",
       "      <td>310</td>\n",
       "      <td>2.39</td>\n",
       "    </tr>\n",
       "    <tr>\n",
       "      <th>VIP</th>\n",
       "      <td>296</td>\n",
       "      <td>2.28</td>\n",
       "    </tr>\n",
       "  </tbody>\n",
       "</table>\n",
       "</div>"
      ],
      "text/plain": [
       "             NumberMissing  PercentageMissing\n",
       "CabinNumber            299               2.31\n",
       "CabinSide              299               2.31\n",
       "CryoSleep              310               2.39\n",
       "VIP                    296               2.28"
      ]
     },
     "execution_count": 67,
     "metadata": {},
     "output_type": "execute_result"
    }
   ],
   "source": [
    "functions.MissingValues(data)"
   ]
  },
  {
   "cell_type": "markdown",
   "id": "451e0bc4",
   "metadata": {},
   "source": [
    ">  **1. Decks and Home Planets:** Starting with 299 missing values. We notice that passengers on decks A (Except 1 passenger), B, C (Except 1 passenger), T came from Europa. Passengers on deck G came from Earth. Passengers on decks D, E or F came from multiple planets. </BR>\n",
    ">  **2. Earth and Cabin Deck G:** Fill missing CabinDeck values with 'G' where HomePlanet is 'Earth'. End with 138 missing values. </BR> \n",
    ">  **3. Grouping by Last Name:** Starting with 138 missing values. Grouping by 'LastName' to find the most common (or only) cabin deck. Fill missing values based on last name's identified cabin deck. End with 0 missing values. </BR>"
   ]
  },
  {
   "cell_type": "markdown",
   "id": "35f74ce6",
   "metadata": {},
   "source": [
    "## **Cabin Side**"
   ]
  },
  {
   "cell_type": "code",
   "execution_count": 68,
   "id": "839da676",
   "metadata": {},
   "outputs": [],
   "source": [
    "unique_cabinside_per_group = data[data['GroupSize']>1].groupby('Group')['CabinSide'].nunique()\n",
    "grouped_by_unique_count = unique_cabinside_per_group.value_counts().sort_index()\n",
    "\n",
    "grouped_by_unique_count = grouped_by_unique_count.to_frame().reset_index()"
   ]
  },
  {
   "cell_type": "markdown",
   "id": "f0f4af36",
   "metadata": {},
   "source": [
    "### **Cabin Side from Group**"
   ]
  },
  {
   "cell_type": "code",
   "execution_count": 69,
   "id": "6d1bdbef",
   "metadata": {},
   "outputs": [],
   "source": [
    "# Step 1: Group by 'Group' and 'CabinSide' for groups with more than 1 member, and count occurrences\n",
    "group_cabinside = data[data['GroupSize'] > 1].groupby(['Group', 'CabinSide']).size().unstack(fill_value=0)\n",
    "\n",
    "# Step 2: Identify rows where 'CabinSide' is missing and 'Group' is in the group_cabinside index.\n",
    "missing_cabinside_mask = data['CabinSide'].isna() & data['Group'].isin(group_cabinside.index)\n",
    "\n",
    "# Step 3: Fill missing 'LastName' based on the most common 'LastName' in each 'Group'\n",
    "data.loc[missing_cabinside_mask, 'CabinSide'] = data.loc[missing_cabinside_mask, 'Group'].map(group_cabinside.idxmax(axis=1))"
   ]
  },
  {
   "cell_type": "code",
   "execution_count": 70,
   "id": "b023b0a4",
   "metadata": {},
   "outputs": [
    {
     "data": {
      "text/html": [
       "<div>\n",
       "<style scoped>\n",
       "    .dataframe tbody tr th:only-of-type {\n",
       "        vertical-align: middle;\n",
       "    }\n",
       "\n",
       "    .dataframe tbody tr th {\n",
       "        vertical-align: top;\n",
       "    }\n",
       "\n",
       "    .dataframe thead th {\n",
       "        text-align: right;\n",
       "    }\n",
       "</style>\n",
       "<table border=\"1\" class=\"dataframe\">\n",
       "  <thead>\n",
       "    <tr style=\"text-align: right;\">\n",
       "      <th></th>\n",
       "      <th>NumberMissing</th>\n",
       "      <th>PercentageMissing</th>\n",
       "    </tr>\n",
       "  </thead>\n",
       "  <tbody>\n",
       "    <tr>\n",
       "      <th>CabinNumber</th>\n",
       "      <td>299</td>\n",
       "      <td>2.31</td>\n",
       "    </tr>\n",
       "    <tr>\n",
       "      <th>CabinSide</th>\n",
       "      <td>162</td>\n",
       "      <td>1.25</td>\n",
       "    </tr>\n",
       "    <tr>\n",
       "      <th>CryoSleep</th>\n",
       "      <td>310</td>\n",
       "      <td>2.39</td>\n",
       "    </tr>\n",
       "    <tr>\n",
       "      <th>VIP</th>\n",
       "      <td>296</td>\n",
       "      <td>2.28</td>\n",
       "    </tr>\n",
       "  </tbody>\n",
       "</table>\n",
       "</div>"
      ],
      "text/plain": [
       "             NumberMissing  PercentageMissing\n",
       "CabinNumber            299               2.31\n",
       "CabinSide              162               1.25\n",
       "CryoSleep              310               2.39\n",
       "VIP                    296               2.28"
      ]
     },
     "execution_count": 70,
     "metadata": {},
     "output_type": "execute_result"
    }
   ],
   "source": [
    "functions.MissingValues(data)"
   ]
  },
  {
   "cell_type": "markdown",
   "id": "e0094987",
   "metadata": {},
   "source": [
    "### **Cabin Side from Last Name**"
   ]
  },
  {
   "cell_type": "code",
   "execution_count": 71,
   "id": "41413fcd",
   "metadata": {},
   "outputs": [],
   "source": [
    "# Step 1: Group by 'Group' and 'CabinSide' for groups with more than 1 member, and count occurrences\n",
    "group_cabinside = data[data['GroupSize'] > 1].groupby(['LastName', 'CabinSide']).size().unstack(fill_value=0)\n",
    "\n",
    "# Step 2: Identify rows where 'CabinSide' is missing and 'Group' is in the group_cabinside index.\n",
    "missing_cabinside_mask = data['CabinSide'].isna() & data['LastName'].isin(group_cabinside.index)\n",
    "\n",
    "# Step 3: Fill missing 'LastName' based on the most common 'LastName' in each 'Group'\n",
    "data.loc[missing_cabinside_mask, 'CabinSide'] = data.loc[missing_cabinside_mask, 'LastName'].map(group_cabinside.idxmax(axis=1))"
   ]
  },
  {
   "cell_type": "code",
   "execution_count": 72,
   "id": "255c1655",
   "metadata": {},
   "outputs": [
    {
     "data": {
      "text/html": [
       "<div>\n",
       "<style scoped>\n",
       "    .dataframe tbody tr th:only-of-type {\n",
       "        vertical-align: middle;\n",
       "    }\n",
       "\n",
       "    .dataframe tbody tr th {\n",
       "        vertical-align: top;\n",
       "    }\n",
       "\n",
       "    .dataframe thead th {\n",
       "        text-align: right;\n",
       "    }\n",
       "</style>\n",
       "<table border=\"1\" class=\"dataframe\">\n",
       "  <thead>\n",
       "    <tr style=\"text-align: right;\">\n",
       "      <th></th>\n",
       "      <th>NumberMissing</th>\n",
       "      <th>PercentageMissing</th>\n",
       "    </tr>\n",
       "  </thead>\n",
       "  <tbody>\n",
       "    <tr>\n",
       "      <th>CabinNumber</th>\n",
       "      <td>299</td>\n",
       "      <td>2.31</td>\n",
       "    </tr>\n",
       "    <tr>\n",
       "      <th>CabinSide</th>\n",
       "      <td>65</td>\n",
       "      <td>0.50</td>\n",
       "    </tr>\n",
       "    <tr>\n",
       "      <th>CryoSleep</th>\n",
       "      <td>310</td>\n",
       "      <td>2.39</td>\n",
       "    </tr>\n",
       "    <tr>\n",
       "      <th>VIP</th>\n",
       "      <td>296</td>\n",
       "      <td>2.28</td>\n",
       "    </tr>\n",
       "  </tbody>\n",
       "</table>\n",
       "</div>"
      ],
      "text/plain": [
       "             NumberMissing  PercentageMissing\n",
       "CabinNumber            299               2.31\n",
       "CabinSide               65               0.50\n",
       "CryoSleep              310               2.39\n",
       "VIP                    296               2.28"
      ]
     },
     "execution_count": 72,
     "metadata": {},
     "output_type": "execute_result"
    }
   ],
   "source": [
    "functions.MissingValues(data)"
   ]
  },
  {
   "cell_type": "markdown",
   "id": "bc4db938",
   "metadata": {},
   "source": [
    "### **Replace Cabin Side Missing Values by Letter U**"
   ]
  },
  {
   "cell_type": "code",
   "execution_count": 73,
   "id": "66219b21",
   "metadata": {},
   "outputs": [],
   "source": [
    "# Missing values before\n",
    "CS_bef=data['CabinSide'].isna().sum()\n",
    "\n",
    "# Fill remaining missing values with outlier\n",
    "data.loc[data['CabinSide'].isna(),'CabinSide']='U'"
   ]
  },
  {
   "cell_type": "code",
   "execution_count": 74,
   "id": "1c471c5e",
   "metadata": {},
   "outputs": [
    {
     "data": {
      "text/html": [
       "<div>\n",
       "<style scoped>\n",
       "    .dataframe tbody tr th:only-of-type {\n",
       "        vertical-align: middle;\n",
       "    }\n",
       "\n",
       "    .dataframe tbody tr th {\n",
       "        vertical-align: top;\n",
       "    }\n",
       "\n",
       "    .dataframe thead th {\n",
       "        text-align: right;\n",
       "    }\n",
       "</style>\n",
       "<table border=\"1\" class=\"dataframe\">\n",
       "  <thead>\n",
       "    <tr style=\"text-align: right;\">\n",
       "      <th></th>\n",
       "      <th>NumberMissing</th>\n",
       "      <th>PercentageMissing</th>\n",
       "    </tr>\n",
       "  </thead>\n",
       "  <tbody>\n",
       "    <tr>\n",
       "      <th>CabinNumber</th>\n",
       "      <td>299</td>\n",
       "      <td>2.31</td>\n",
       "    </tr>\n",
       "    <tr>\n",
       "      <th>CryoSleep</th>\n",
       "      <td>310</td>\n",
       "      <td>2.39</td>\n",
       "    </tr>\n",
       "    <tr>\n",
       "      <th>VIP</th>\n",
       "      <td>296</td>\n",
       "      <td>2.28</td>\n",
       "    </tr>\n",
       "  </tbody>\n",
       "</table>\n",
       "</div>"
      ],
      "text/plain": [
       "             NumberMissing  PercentageMissing\n",
       "CabinNumber            299               2.31\n",
       "CryoSleep              310               2.39\n",
       "VIP                    296               2.28"
      ]
     },
     "execution_count": 74,
     "metadata": {},
     "output_type": "execute_result"
    }
   ],
   "source": [
    "functions.MissingValues(data)"
   ]
  },
  {
   "cell_type": "markdown",
   "id": "9721b9fa",
   "metadata": {},
   "source": [
    "### **Insights**"
   ]
  },
  {
   "cell_type": "markdown",
   "id": "4c79fec4",
   "metadata": {},
   "source": [
    ">  **1. Grouping by Group:** Starting with 299 missing values. Everyone in the same group is also on the same cabin side. Grouping by 'Group' to find the most common (or only) cabin side. Fill missing values based on Group's identified cabin side. End with 162 missing values. </BR>\n",
    ">  **2. Grouping by Last Name:** Starting with 162 missing values. Grouping by 'LastName' to find the most common (or only) cabin side. Fill missing values based on last name's identified destination. End with 65 missing values. </BR>\n",
    ">  **3. Fill by U (Unknown):** Starting with 65 missing values. They will be replaced with letter U (Unknown). This is because we really don't know which one of the two (balanced) sides we should assign. End with 0 missing values."
   ]
  },
  {
   "cell_type": "markdown",
   "id": "338237cd",
   "metadata": {},
   "source": [
    "## **Cabin Number**"
   ]
  },
  {
   "cell_type": "markdown",
   "id": "10492453",
   "metadata": {},
   "source": [
    "There is an interesting pattern here. The cabin_number and group_number share a linear relationship on a deck by deck basis. We can therefore extrapolate the missing cabin numbers using linear regression on a deck by deck basis to get an approximate cabin number."
   ]
  },
  {
   "cell_type": "markdown",
   "id": "5e3c2aeb",
   "metadata": {},
   "source": [
    "### **Cabin Number from Group and Deck**"
   ]
  },
  {
   "cell_type": "code",
   "execution_count": 75,
   "id": "b6a4e7d3",
   "metadata": {},
   "outputs": [],
   "source": [
    "size = 20\n",
    "params = {\n",
    "    \"font.family\": \"Times New Roman\",\n",
    "    \"font.size\": size,\n",
    "    \"axes.labelsize\": size,\n",
    "    \"xtick.labelsize\": size * 0.75,\n",
    "    \"ytick.labelsize\": size * 0.75,\n",
    "    \"figure.titlesize\": size * 1.5,\n",
    "    \"axes.titlesize\": size * 1.5,\n",
    "    \"axes.titlepad\": size,\n",
    "    \"axes.labelpad\": size - 10,\n",
    "    \"lines.linewidth\": 2,\n",
    "    \"axes.spines.top\": False,\n",
    "    \"axes.spines.right\": False,\n",
    "    \"axes.spines.left\": False,\n",
    "    \"axes.spines.bottom\": False,\n",
    "    \"legend.fontsize\": size,\n",
    "    \"figure.figsize\": (10, 6),\n",
    "}\n"
   ]
  },
  {
   "cell_type": "code",
   "execution_count": 76,
   "id": "f7d3f1a4",
   "metadata": {},
   "outputs": [
    {
     "data": {
      "image/png": "[encoded data removed]",
      "text/plain": [
       "<Figure size 1000x600 with 1 Axes>"
      ]
     },
     "metadata": {},
     "output_type": "display_data"
    }
   ],
   "source": [
    "# Filter the DataFrame to exclude rows where CabinNumber is NaN\n",
    "filtered_train = data[~data['CabinNumber'].isna()]\n",
    "\n",
    "# Encode the CabinDeck column\n",
    "encoder = LabelEncoder()\n",
    "encoded_cabin_deck = encoder.fit_transform(filtered_train['CabinDeck'])\n",
    "\n",
    "# Create a mapping from encoded values to actual labels\n",
    "label_mapping = dict(zip(range(len(encoder.classes_)), encoder.classes_))\n",
    "\n",
    "# Create the scatter plot with `hue`\n",
    "\n",
    "plt.rcParams.update(params)\n",
    "plt.figure(figsize=(10, 6))\n",
    "scatter = sns.scatterplot(x=filtered_train['CabinNumber'], y=filtered_train['Group'], hue=encoded_cabin_deck, palette='tab10')\n",
    "\n",
    "# Update the legend to show actual CabinDeck labels\n",
    "handles, labels = scatter.get_legend_handles_labels()\n",
    "\n",
    "# Convert labels from encoded values to actual labels\n",
    "new_labels = [label_mapping[int(label)] for label in labels]\n",
    "scatter.legend(handles, new_labels, title='Cabin Deck')\n",
    "\n",
    "plt.title('CabinNumber vs Group by CabinDeck')\n",
    "plt.show()\n"
   ]
  },
  {
   "cell_type": "code",
   "execution_count": 77,
   "id": "0dd154e0",
   "metadata": {},
   "outputs": [
    {
     "data": {
      "text/html": [
       "<div>\n",
       "<style scoped>\n",
       "    .dataframe tbody tr th:only-of-type {\n",
       "        vertical-align: middle;\n",
       "    }\n",
       "\n",
       "    .dataframe tbody tr th {\n",
       "        vertical-align: top;\n",
       "    }\n",
       "\n",
       "    .dataframe thead th {\n",
       "        text-align: right;\n",
       "    }\n",
       "</style>\n",
       "<table border=\"1\" class=\"dataframe\">\n",
       "  <thead>\n",
       "    <tr style=\"text-align: right;\">\n",
       "      <th></th>\n",
       "      <th>NumberMissing</th>\n",
       "      <th>PercentageMissing</th>\n",
       "    </tr>\n",
       "  </thead>\n",
       "  <tbody>\n",
       "    <tr>\n",
       "      <th>CabinNumber</th>\n",
       "      <td>299</td>\n",
       "      <td>2.31</td>\n",
       "    </tr>\n",
       "    <tr>\n",
       "      <th>CryoSleep</th>\n",
       "      <td>310</td>\n",
       "      <td>2.39</td>\n",
       "    </tr>\n",
       "    <tr>\n",
       "      <th>VIP</th>\n",
       "      <td>296</td>\n",
       "      <td>2.28</td>\n",
       "    </tr>\n",
       "  </tbody>\n",
       "</table>\n",
       "</div>"
      ],
      "text/plain": [
       "             NumberMissing  PercentageMissing\n",
       "CabinNumber            299               2.31\n",
       "CryoSleep              310               2.39\n",
       "VIP                    296               2.28"
      ]
     },
     "execution_count": 77,
     "metadata": {},
     "output_type": "execute_result"
    }
   ],
   "source": [
    "functions.MissingValues(data)"
   ]
  },
  {
   "cell_type": "code",
   "execution_count": 78,
   "id": "802b84e6",
   "metadata": {},
   "outputs": [],
   "source": [
    "# Impute missing Cabin Numbers based on mode within groups\n",
    "data['CabinNumber'] = data.groupby(['Group'])['CabinNumber'].transform(lambda x: x.fillna(x.mode()[0] if not x.mode().empty else 'Unknown'))\n"
   ]
  },
  {
   "cell_type": "code",
   "execution_count": 79,
   "id": "22b6d025",
   "metadata": {},
   "outputs": [
    {
     "data": {
      "text/html": [
       "<div>\n",
       "<style scoped>\n",
       "    .dataframe tbody tr th:only-of-type {\n",
       "        vertical-align: middle;\n",
       "    }\n",
       "\n",
       "    .dataframe tbody tr th {\n",
       "        vertical-align: top;\n",
       "    }\n",
       "\n",
       "    .dataframe thead th {\n",
       "        text-align: right;\n",
       "    }\n",
       "</style>\n",
       "<table border=\"1\" class=\"dataframe\">\n",
       "  <thead>\n",
       "    <tr style=\"text-align: right;\">\n",
       "      <th></th>\n",
       "      <th>NumberMissing</th>\n",
       "      <th>PercentageMissing</th>\n",
       "    </tr>\n",
       "  </thead>\n",
       "  <tbody>\n",
       "    <tr>\n",
       "      <th>CryoSleep</th>\n",
       "      <td>310</td>\n",
       "      <td>2.39</td>\n",
       "    </tr>\n",
       "    <tr>\n",
       "      <th>VIP</th>\n",
       "      <td>296</td>\n",
       "      <td>2.28</td>\n",
       "    </tr>\n",
       "  </tbody>\n",
       "</table>\n",
       "</div>"
      ],
      "text/plain": [
       "           NumberMissing  PercentageMissing\n",
       "CryoSleep            310               2.39\n",
       "VIP                  296               2.28"
      ]
     },
     "execution_count": 79,
     "metadata": {},
     "output_type": "execute_result"
    }
   ],
   "source": [
    "missing_values = functions.MissingValues(data)\n",
    "missing_values"
   ]
  },
  {
   "cell_type": "markdown",
   "id": "754dc588",
   "metadata": {},
   "source": [
    "### **Insights**"
   ]
  },
  {
   "cell_type": "markdown",
   "id": "6f3e59b1",
   "metadata": {},
   "source": [
    ">  **1. Starting Missing Values:** Starting with 299 missing values.</BR>\n",
    ">  **2. Linear Relationship:** The CabinNumber and Group share a linear relationship on a deck by deck basis.  </BR>\n",
    ">  **3. Linear Regrerssion:** Extrapolate the missing cabin numbers using linear regression on a deck by deck basis to get an approximate cabin number. End with 0 missing values."
   ]
  },
  {
   "cell_type": "markdown",
   "id": "312fd7c1",
   "metadata": {},
   "source": [
    "## **CryoSleep**"
   ]
  },
  {
   "cell_type": "code",
   "execution_count": 80,
   "id": "53ffa60d",
   "metadata": {},
   "outputs": [],
   "source": [
    "pd.set_option('future.no_silent_downcasting', True)"
   ]
  },
  {
   "cell_type": "code",
   "execution_count": 81,
   "id": "52a3f681",
   "metadata": {},
   "outputs": [],
   "source": [
    "data['CryoSleep'] = data['CryoSleep'].fillna(False).astype(bool)\n"
   ]
  },
  {
   "cell_type": "code",
   "execution_count": 82,
   "id": "32121bf1",
   "metadata": {},
   "outputs": [
    {
     "data": {
      "text/html": [
       "<div>\n",
       "<style scoped>\n",
       "    .dataframe tbody tr th:only-of-type {\n",
       "        vertical-align: middle;\n",
       "    }\n",
       "\n",
       "    .dataframe tbody tr th {\n",
       "        vertical-align: top;\n",
       "    }\n",
       "\n",
       "    .dataframe thead th {\n",
       "        text-align: right;\n",
       "    }\n",
       "</style>\n",
       "<table border=\"1\" class=\"dataframe\">\n",
       "  <thead>\n",
       "    <tr style=\"text-align: right;\">\n",
       "      <th></th>\n",
       "      <th>NumberMissing</th>\n",
       "      <th>PercentageMissing</th>\n",
       "    </tr>\n",
       "  </thead>\n",
       "  <tbody>\n",
       "    <tr>\n",
       "      <th>VIP</th>\n",
       "      <td>296</td>\n",
       "      <td>2.28</td>\n",
       "    </tr>\n",
       "  </tbody>\n",
       "</table>\n",
       "</div>"
      ],
      "text/plain": [
       "     NumberMissing  PercentageMissing\n",
       "VIP            296               2.28"
      ]
     },
     "execution_count": 82,
     "metadata": {},
     "output_type": "execute_result"
    }
   ],
   "source": [
    "missing_values = functions.MissingValues(data)\n",
    "missing_values"
   ]
  },
  {
   "cell_type": "markdown",
   "id": "2c6ec94a",
   "metadata": {},
   "source": [
    "### **Insights**"
   ]
  },
  {
   "cell_type": "markdown",
   "id": "fe276bef",
   "metadata": {},
   "source": [
    ">  **1. Starting Missing Values:** Starting with 310 missing values.</BR>\n",
    ">  **2. CryoSleep == False:** Imputed Missing values with False since most passengers were False. </BR>\n",
    ">  **3. End Missing Values:** End with 0 missing values."
   ]
  },
  {
   "cell_type": "markdown",
   "id": "03d576fd",
   "metadata": {},
   "source": [
    "## **VIP**"
   ]
  },
  {
   "cell_type": "markdown",
   "id": "df3fd22a",
   "metadata": {},
   "source": [
    "Imputed Missing values with False since most passengers were False. "
   ]
  },
  {
   "cell_type": "code",
   "execution_count": 83,
   "id": "f3a0fe3d",
   "metadata": {},
   "outputs": [],
   "source": [
    "data['VIP'] = data['VIP'].fillna(False).astype(bool)\n"
   ]
  },
  {
   "cell_type": "code",
   "execution_count": 84,
   "id": "3f491ce7",
   "metadata": {},
   "outputs": [
    {
     "data": {
      "text/html": [
       "<div>\n",
       "<style scoped>\n",
       "    .dataframe tbody tr th:only-of-type {\n",
       "        vertical-align: middle;\n",
       "    }\n",
       "\n",
       "    .dataframe tbody tr th {\n",
       "        vertical-align: top;\n",
       "    }\n",
       "\n",
       "    .dataframe thead th {\n",
       "        text-align: right;\n",
       "    }\n",
       "</style>\n",
       "<table border=\"1\" class=\"dataframe\">\n",
       "  <thead>\n",
       "    <tr style=\"text-align: right;\">\n",
       "      <th></th>\n",
       "      <th>NumberMissing</th>\n",
       "      <th>PercentageMissing</th>\n",
       "    </tr>\n",
       "  </thead>\n",
       "  <tbody>\n",
       "  </tbody>\n",
       "</table>\n",
       "</div>"
      ],
      "text/plain": [
       "Empty DataFrame\n",
       "Columns: [NumberMissing, PercentageMissing]\n",
       "Index: []"
      ]
     },
     "execution_count": 84,
     "metadata": {},
     "output_type": "execute_result"
    }
   ],
   "source": [
    "missing_values = functions.MissingValues(data)\n",
    "missing_values"
   ]
  },
  {
   "cell_type": "markdown",
   "id": "70115d04",
   "metadata": {},
   "source": [
    "### **Insights**"
   ]
  },
  {
   "cell_type": "markdown",
   "id": "34c11f1c",
   "metadata": {},
   "source": [
    ">  **1. Starting Missing Values:** Starting with 3296 missing values.</BR>\n",
    ">  **2. VIP == False:** Imputed Missing values with False since most passengers were False. </BR>\n",
    ">  **3. End Missing Values:** End with 0 missing values."
   ]
  },
  {
   "cell_type": "markdown",
   "id": "a822ce17",
   "metadata": {},
   "source": [
    "## **Save Dataset**"
   ]
  },
  {
   "cell_type": "code",
   "execution_count": 86,
   "id": "17fb3d93",
   "metadata": {},
   "outputs": [],
   "source": [
    "data.to_csv(r\"C:\\Users\\Dell\\Documents\\AI\\Titanic\\Data\\data.csv\", index=False)"
   ]
  }
 ],
 "metadata": {
  "kernelspec": {
   "display_name": "Python 3 (ipykernel)",
   "language": "python",
   "name": "python3"
  },
  "language_info": {
   "codemirror_mode": {
    "name": "ipython",
    "version": 3
   },
   "file_extension": ".py",
   "mimetype": "text/x-python",
   "name": "python",
   "nbconvert_exporter": "python",
   "pygments_lexer": "ipython3",
   "version": "3.10.1"
  },
  "toc": {
   "base_numbering": 1,
   "nav_menu": {},
   "number_sections": true,
   "sideBar": true,
   "skip_h1_title": false,
   "title_cell": "Table of Contents",
   "title_sidebar": "Contents",
   "toc_cell": false,
   "toc_position": {},
   "toc_section_display": true,
   "toc_window_display": true
  }
 },
 "nbformat": 4,
 "nbformat_minor": 5
}
