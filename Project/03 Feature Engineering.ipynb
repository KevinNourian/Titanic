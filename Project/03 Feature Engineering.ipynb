{
 "cells": [
  {
   "cell_type": "markdown",
   "id": "25aaf1b5",
   "metadata": {},
   "source": [
    "# <center> **Kaggle’s Spaceship Titanic Competition**\n",
    "# <center> **Feature Engineering**"
   ]
  },
  {
   "cell_type": "markdown",
   "id": "7a6c8da2",
   "metadata": {},
   "source": [
    "# **Libraries**"
   ]
  },
  {
   "cell_type": "code",
   "execution_count": 122,
   "id": "73e35264",
   "metadata": {},
   "outputs": [],
   "source": [
    "import pandas as pd\n",
    "import numpy as np\n",
    "import warnings"
   ]
  },
  {
   "cell_type": "markdown",
   "id": "f169bb5d",
   "metadata": {},
   "source": [
    "# **Load Data**"
   ]
  },
  {
   "cell_type": "code",
   "execution_count": 123,
   "id": "e358ddcd",
   "metadata": {},
   "outputs": [],
   "source": [
    "train = pd.read_csv(\n",
    "    r\"C:\\Users\\Dell\\Documents\\AI\\Titanic\\Data\\Data\\train.csv\",\n",
    "    index_col=False\n",
    ")\n",
    "\n",
    "test = pd.read_csv(\n",
    "    r\"C:\\Users\\Dell\\Documents\\AI\\Titanic\\Data\\Data\\test.csv\",\n",
    "    index_col=False\n",
    ")\n",
    "\n",
    "random_state = 101\n",
    "target = 'Transported'"
   ]
  },
  {
   "cell_type": "markdown",
   "id": "2df32b61",
   "metadata": {},
   "source": [
    "## **Display Features**"
   ]
  },
  {
   "cell_type": "code",
   "execution_count": 124,
   "id": "6fe66c83",
   "metadata": {},
   "outputs": [],
   "source": [
    "%matplotlib inline\n",
    "\n",
    "pd.options.display.max_rows = 300000\n",
    "pd.options.display.max_columns = 999\n",
    "pd.options.display.max_colwidth = 500\n",
    "\n",
    "warnings.filterwarnings(\"ignore\")\n",
    "warnings.simplefilter(action=\"ignore\", category=FutureWarning)"
   ]
  },
  {
   "cell_type": "markdown",
   "id": "83d14e37",
   "metadata": {},
   "source": [
    "# **Combine Train and Test Data**"
   ]
  },
  {
   "cell_type": "code",
   "execution_count": 125,
   "id": "954995f3",
   "metadata": {},
   "outputs": [],
   "source": [
    "data = pd.concat([train, test], axis=0).reset_index (drop=True)"
   ]
  },
  {
   "cell_type": "markdown",
   "id": "f2c97b44",
   "metadata": {},
   "source": [
    "# **Extract Information from PassengerId**"
   ]
  },
  {
   "cell_type": "markdown",
   "id": "0771d160",
   "metadata": {},
   "source": [
    "## **Group and Group Size**"
   ]
  },
  {
   "cell_type": "code",
   "execution_count": 126,
   "id": "dd8456bd",
   "metadata": {},
   "outputs": [],
   "source": [
    "data['Group'] = data['PassengerId'].apply(lambda x: x.split('_')[0]).astype(int)\n",
    "group_sizes = data['Group'].value_counts()\n",
    "data['GroupSize'] = data['Group'].map(group_sizes)"
   ]
  },
  {
   "cell_type": "code",
   "execution_count": 127,
   "id": "846f40c4",
   "metadata": {},
   "outputs": [],
   "source": [
    "column = data.pop('Group')\n",
    "data.insert(1, 'Group', column)\n",
    "\n",
    "column = data.pop('GroupSize') \n",
    "data.insert(2, 'GroupSize', column)    "
   ]
  },
  {
   "cell_type": "markdown",
   "id": "660377b2",
   "metadata": {},
   "source": [
    "## **Solo Traveler**"
   ]
  },
  {
   "cell_type": "code",
   "execution_count": 128,
   "id": "7ddb5f55",
   "metadata": {},
   "outputs": [],
   "source": [
    "data['SoloTraveler'] = data['GroupSize'].apply(lambda x: 1 if x == 1 else 0)"
   ]
  },
  {
   "cell_type": "code",
   "execution_count": 129,
   "id": "08eedb7d",
   "metadata": {},
   "outputs": [],
   "source": [
    "column = data.pop('SoloTraveler')\n",
    "data.insert(3, 'SoloTraveler', column)"
   ]
  },
  {
   "cell_type": "markdown",
   "id": "66fafc9d",
   "metadata": {},
   "source": [
    "### **Insights**"
   ]
  },
  {
   "cell_type": "markdown",
   "id": "d991639c",
   "metadata": {},
   "source": [
    "> * **Group:** Extracted Group Number from PassengerId.\n",
    "> * **Group Size:** Extracted Group Size from PassengerId.\n",
    "> * **Solo Traveler:** Identified those passengers who belong to GroupSize == 1 and Solo Travelers."
   ]
  },
  {
   "cell_type": "markdown",
   "id": "39b0578f",
   "metadata": {},
   "source": [
    "# **Extract Information from Cabin**"
   ]
  },
  {
   "cell_type": "code",
   "execution_count": 130,
   "id": "f37c41d8",
   "metadata": {},
   "outputs": [],
   "source": [
    "data[['CabinDeck', 'CabinNumber', 'CabinSide']] = data['Cabin'].str.split('/', expand=True)"
   ]
  },
  {
   "cell_type": "code",
   "execution_count": 131,
   "id": "5cb2234a",
   "metadata": {},
   "outputs": [],
   "source": [
    "column = data.pop('CabinDeck')\n",
    "data.insert(5, 'CabinDeck', column)\n",
    "\n",
    "column = data.pop('CabinNumber') \n",
    "data.insert(6, 'CabinNumber', column)   \n",
    "\n",
    "column = data.pop('CabinSide')\n",
    "data.insert(7, 'CabinSide', column) \n",
    "\n",
    "data.drop('Cabin', axis=1, inplace=True)"
   ]
  },
  {
   "cell_type": "markdown",
   "id": "b0de6f07",
   "metadata": {},
   "source": [
    "### **Insights**"
   ]
  },
  {
   "cell_type": "markdown",
   "id": "4d5dc55f",
   "metadata": {},
   "source": [
    "> * **Cabin Deck:** Extracted CabinDeck from Cabin.\n",
    "> * **Cabin Number:** Extracted CabinNumber from Cabin.\n",
    "> * **Cabin Side:** Extracted CabinSide from Cabin."
   ]
  },
  {
   "cell_type": "markdown",
   "id": "1da43843",
   "metadata": {},
   "source": [
    "# **Extract Information from Name**"
   ]
  },
  {
   "cell_type": "markdown",
   "id": "7bce019a",
   "metadata": {},
   "source": [
    "## **Last Name**"
   ]
  },
  {
   "cell_type": "code",
   "execution_count": 132,
   "id": "49cac816",
   "metadata": {},
   "outputs": [],
   "source": [
    "data[['FirstName', 'LastName']] = data['Name'].str.split(' ', expand=True)"
   ]
  },
  {
   "cell_type": "code",
   "execution_count": 133,
   "id": "ec663070",
   "metadata": {},
   "outputs": [],
   "source": [
    "data.drop('Name', axis=1, inplace=True)\n",
    "data.drop('FirstName', axis=1, inplace=True)"
   ]
  },
  {
   "cell_type": "markdown",
   "id": "bbc5793d",
   "metadata": {},
   "source": [
    "## **Family Size**"
   ]
  },
  {
   "cell_type": "code",
   "execution_count": 134,
   "id": "89c6b758",
   "metadata": {},
   "outputs": [],
   "source": [
    "data['LastName'].fillna('Unknown', inplace=True)\n",
    "\n",
    "family_sizes = data['LastName'].value_counts()\n",
    "data['FamilySize'] = data['LastName'].map(family_sizes)"
   ]
  },
  {
   "cell_type": "markdown",
   "id": "be9c58ab",
   "metadata": {},
   "source": [
    "## **Lone Traveler**"
   ]
  },
  {
   "cell_type": "code",
   "execution_count": 135,
   "id": "f801c4ec",
   "metadata": {},
   "outputs": [
    {
     "data": {
      "text/plain": [
       "208"
      ]
     },
     "execution_count": 135,
     "metadata": {},
     "output_type": "execute_result"
    }
   ],
   "source": [
    "data['LoneTraveler'] = data['FamilySize'].apply(lambda x: 1 if x == 1 else 0)\n",
    "\n",
    "lone_traveler = data[data['LoneTraveler'] == 1]\n",
    "lone_traveler.shape[0]"
   ]
  },
  {
   "cell_type": "markdown",
   "id": "dbb2d4ed",
   "metadata": {},
   "source": [
    "### **Insights**"
   ]
  },
  {
   "cell_type": "markdown",
   "id": "49d5e381",
   "metadata": {},
   "source": [
    "> * **Last Name:** Extracted LastName from Name.\n",
    "> * **Family Size:** Extracted FamilySize from LastName.\n",
    "> * **Lone Traveler:** Extracted Lone Traveler from LastName."
   ]
  },
  {
   "cell_type": "markdown",
   "id": "3586fd7b",
   "metadata": {},
   "source": [
    "## **Extract Information from Luxury Item Expenditure**"
   ]
  },
  {
   "cell_type": "markdown",
   "id": "19812b4b",
   "metadata": {},
   "source": [
    "## **Total Expenditure**"
   ]
  },
  {
   "cell_type": "code",
   "execution_count": 136,
   "id": "612df7f7",
   "metadata": {},
   "outputs": [],
   "source": [
    "data[['RoomService', 'FoodCourt', 'ShoppingMall', 'Spa', 'VRDeck']] = data[['RoomService', 'FoodCourt', 'ShoppingMall', 'Spa', 'VRDeck']].fillna(0)\n",
    "data['TotalExpenditure'] =  data[['RoomService', 'FoodCourt', 'ShoppingMall', 'Spa', 'VRDeck']].sum(axis=1)"
   ]
  },
  {
   "cell_type": "code",
   "execution_count": 137,
   "id": "d47e37ea",
   "metadata": {},
   "outputs": [],
   "source": [
    "column = data.pop('TotalExpenditure')\n",
    "data.insert(17, 'TotalExpenditure', column)"
   ]
  },
  {
   "cell_type": "markdown",
   "id": "e57ba326",
   "metadata": {},
   "source": [
    "## **Expenditure (True/False)**"
   ]
  },
  {
   "cell_type": "code",
   "execution_count": 138,
   "id": "84589597",
   "metadata": {},
   "outputs": [],
   "source": [
    "data['Expenditure'] = data['TotalExpenditure'].apply(lambda x: 1 if x > 0 else 0)"
   ]
  },
  {
   "cell_type": "code",
   "execution_count": 139,
   "id": "30965bc2",
   "metadata": {},
   "outputs": [],
   "source": [
    "column = data.pop('Expenditure')\n",
    "data.insert(18, 'Expenditure', column)"
   ]
  },
  {
   "cell_type": "markdown",
   "id": "e42eeb61",
   "metadata": {},
   "source": [
    "### **Insights**"
   ]
  },
  {
   "cell_type": "markdown",
   "id": "009522ab",
   "metadata": {},
   "source": [
    "> * **Total Expenditure:** Extracted TotalExpenditure from luxury item spending amounts.\n",
    "> * **Expenditure True or False:** Extracted Expenditure True or False from Total Expenditure."
   ]
  },
  {
   "cell_type": "markdown",
   "id": "4466099a",
   "metadata": {},
   "source": [
    "# **Age Groups**"
   ]
  },
  {
   "cell_type": "code",
   "execution_count": 140,
   "id": "a585a549",
   "metadata": {},
   "outputs": [],
   "source": [
    "data['Age'] = data['Age'].fillna(data['Age'].median()).astype('float64')"
   ]
  },
  {
   "cell_type": "code",
   "execution_count": 141,
   "id": "e5964661",
   "metadata": {},
   "outputs": [],
   "source": [
    "data['AgeGroup']=np.nan\n",
    "data.loc[data['Age']<=10,'AgeGroup']='0-10'\n",
    "data.loc[(data['Age']>10) & (data['Age']<=20),'AgeGroup']='11-20'\n",
    "data.loc[(data['Age']>20) & (data['Age']<=30),'AgeGroup']='21-30'\n",
    "data.loc[(data['Age']>30) & (data['Age']<=40),'AgeGroup']='31-40'\n",
    "data.loc[(data['Age']>40) & (data['Age']<=50),'AgeGroup']='41-50'\n",
    "data.loc[(data['Age']>50) & (data['Age']<=60),'AgeGroup']='51-60'\n",
    "data.loc[(data['Age']>60) & (data['Age']<=70),'AgeGroup']='61-70'\n",
    "data.loc[(data['Age']>70) & (data['Age']<=80),'AgeGroup']='71-80'"
   ]
  },
  {
   "cell_type": "code",
   "execution_count": 142,
   "id": "f4cb4b94",
   "metadata": {},
   "outputs": [],
   "source": [
    "column = data.pop('AgeGroup')\n",
    "data.insert(11, 'AgeGroup', column)"
   ]
  },
  {
   "cell_type": "markdown",
   "id": "55695d2f",
   "metadata": {},
   "source": [
    "### **Insights**"
   ]
  },
  {
   "cell_type": "markdown",
   "id": "39251a08",
   "metadata": {},
   "source": [
    "> * **Age Groups** Divided the Age data into 8 age ranges."
   ]
  },
  {
   "cell_type": "markdown",
   "id": "9bdda272",
   "metadata": {},
   "source": [
    "# **Feature Engineered Dataset**"
   ]
  },
  {
   "cell_type": "code",
   "execution_count": 143,
   "id": "824b425f",
   "metadata": {},
   "outputs": [],
   "source": [
    "column = data.pop('Transported')\n",
    "data.insert(23, 'Transported', column)"
   ]
  },
  {
   "cell_type": "code",
   "execution_count": 145,
   "id": "d70f192d",
   "metadata": {},
   "outputs": [],
   "source": [
    "data.to_csv(r\"C:\\Users\\Dell\\Documents\\AI\\Titanic\\Data\\data.csv\", index=False)"
   ]
  }
 ],
 "metadata": {
  "kernelspec": {
   "display_name": "Python 3 (ipykernel)",
   "language": "python",
   "name": "python3"
  },
  "language_info": {
   "codemirror_mode": {
    "name": "ipython",
    "version": 3
   },
   "file_extension": ".py",
   "mimetype": "text/x-python",
   "name": "python",
   "nbconvert_exporter": "python",
   "pygments_lexer": "ipython3",
   "version": "3.10.1"
  },
  "toc": {
   "base_numbering": 1,
   "nav_menu": {},
   "number_sections": true,
   "sideBar": true,
   "skip_h1_title": false,
   "title_cell": "Table of Contents",
   "title_sidebar": "Contents",
   "toc_cell": false,
   "toc_position": {},
   "toc_section_display": true,
   "toc_window_display": true
  }
 },
 "nbformat": 4,
 "nbformat_minor": 5
}
