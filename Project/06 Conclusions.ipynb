{
 "cells": [
  {
   "cell_type": "markdown",
   "id": "25aaf1b5",
   "metadata": {},
   "source": [
    "# <center> **Kaggle’s Spaceship Titanic Competition**\n",
    "# <center> **Conclusions**\n",
    "# <center> **Suggestions for Improvement**"
   ]
  },
  {
   "cell_type": "markdown",
   "id": "b499bfae",
   "metadata": {},
   "source": [
    "# **Conclusions**"
   ]
  },
  {
   "cell_type": "markdown",
   "id": "0fb1c356",
   "metadata": {},
   "source": [
    "Here is a summary of the conclusions that may be drawn from this report. "
   ]
  },
  {
   "cell_type": "markdown",
   "id": "3efa3204",
   "metadata": {},
   "source": [
    ">* **The Analysis of the Data:** I reviewed approximately 8,700 datapoint related to passnegers on the Spaceship Titanic. <br> \n",
    ">* **The Goal of the Project:** The goal of this project was to find a model that could predict if a passenger was transported to an alternative dimensions with an accuracy score over 79.<br>\n",
    ">* **Missing Data:** There was over 2% missing data in every feature except PassengerId. However, I was able to impute some of this missing information using known data from other features. For example, from Last Name of the passenger it was possible to impute some of the Home Planet and some of the Destination that was missing.  <br>\n",
    ">* **Croygenic Sleep:** Passengers who were in Cryogenic Sleep during the trip were less likely to be transported. Cryogenic Sleep turend out to be a very important feature. <br>\n",
    ">* **Luxury Spending:** Passengers who spend money on luxury items like spa were more likely to be transported. Expenditure on luxury items turned out important in predicting Transportation.<br>\n",
    ">* **Models:** I utilized the following models: Logistic Regression, K Nearest Neighbors, Random Forest, Extreme Gradient Boosting (XGB), Light Gradient Boosting Machine (LGBM), Categorical Boosting (CatBoost). The boosting models gave the best performance. I used GridSearch CV with the three boosting models to tune their hyperparameters. <br>\n",
    ">* **Extremet Gradient Boosting (XGB):** Best Cross Validation Score: 0.81. Best Test Score: 0.78. Modeling Time: 22 minutes   <br>\n",
    ">* **Light Gradient Boosting (LGBM):** Best Cross Validation Score: 0.81. Best Test Score: 0.79. Modeling Time: 2 minutes.  <br>\n",
    ">* **Categorical Boosting (CatBoost):** Best Cross Validation Score: 0.81. Best Test Score: 0.78. Modeling Time: 71 minutes.<br>\n",
    ">* **Final Model (LGBM):** I used LGBM as my final model. I obtained a score of 0.80032 on the Kaggle competition.<br>"
   ]
  },
  {
   "cell_type": "markdown",
   "id": "657c9775",
   "metadata": {},
   "source": [
    "# **Suggestions for Improvement**"
   ]
  },
  {
   "cell_type": "markdown",
   "id": "c729ba7c",
   "metadata": {},
   "source": [
    "This report has certain weaknesses. In this section, I outlined those weaknesses and indicated some avenues for improvement. "
   ]
  },
  {
   "cell_type": "markdown",
   "id": "fff9a250",
   "metadata": {},
   "source": [
    ">* **Domain Knowledge:** It is best if the data scientist has adequate domain knowledge on the topic of the analysis. I do not have any expertise in space travel or alternative dimensions. There may be parts of the data that I have overlooked that may have been important and I may have given importance to parts that may have had little significance. <br>\n",
    ">* **More Complete Data:** As mentioned earlier, there was missing data in every feature. Less missing data could have improved the performance of the models.<br>  \n",
    ">* **Pandas:** Continue to learn to utilize more optimized Pandas techniques and algorithms.<br>\n",
    ">* **Seaborn and Matplotlib:** Continue to improve my knowledge of Seaborn and Matplotlib for creating visualizations. <br>\n",
    ">* **Machine Learning:** Continue to improve on my capabilities with various models. <br>\n",
    ">* **Python Code:** Continue to write better and more efficient Python code. <br>\n",
    ">* **Clean Code:** Continue to adhere to the principles of writing clean code. <br>\n",
    ">* **Readability and Efficiency:** Continue to improve my skills to find the delicate balance between readability and efficiency in coding.<br>"
   ]
  }
 ],
 "metadata": {
  "kernelspec": {
   "display_name": "Python 3 (ipykernel)",
   "language": "python",
   "name": "python3"
  },
  "language_info": {
   "codemirror_mode": {
    "name": "ipython",
    "version": 3
   },
   "file_extension": ".py",
   "mimetype": "text/x-python",
   "name": "python",
   "nbconvert_exporter": "python",
   "pygments_lexer": "ipython3",
   "version": "3.10.1"
  },
  "toc": {
   "base_numbering": 1,
   "nav_menu": {},
   "number_sections": true,
   "sideBar": true,
   "skip_h1_title": false,
   "title_cell": "Table of Contents",
   "title_sidebar": "Contents",
   "toc_cell": false,
   "toc_position": {},
   "toc_section_display": true,
   "toc_window_display": true
  }
 },
 "nbformat": 4,
 "nbformat_minor": 5
}
